{
  "nbformat": 4,
  "nbformat_minor": 0,
  "metadata": {
    "colab": {
      "name": "----",
      "provenance": [],
      "collapsed_sections": [],
      "authorship_tag": "ABX9TyMpWP2x+3uxbQqK4Iu009+t",
      "include_colab_link": true
    },
    "kernelspec": {
      "name": "python3",
      "display_name": "Python 3"
    }
  },
  "cells": [
    {
      "cell_type": "markdown",
      "metadata": {
        "id": "view-in-github",
        "colab_type": "text"
      },
      "source": [
        "<a href=\"https://colab.research.google.com/github/Nikhileswar-Komati/Suicide_Ideation/blob/master/Logistic_Regression_74.ipynb\" target=\"_parent\"><img src=\"https://colab.research.google.com/assets/colab-badge.svg\" alt=\"Open In Colab\"/></a>"
      ]
    },
    {
      "cell_type": "code",
      "metadata": {
        "colab": {
          "base_uri": "https://localhost:8080/"
        },
        "id": "_EfzZBdJMftj",
        "outputId": "e91e1294-65d5-4114-b694-d9ea6e0b3a7a"
      },
      "source": [
        "import os\n",
        "# Install java\n",
        "! apt-get update -qq\n",
        "! apt-get install -y openjdk-8-jdk-headless -qq > /dev/null\n",
        "os.environ[\"JAVA_HOME\"] = \"/usr/lib/jvm/java-8-openjdk-amd64\"\n",
        "os.environ[\"PATH\"] = os.environ[\"JAVA_HOME\"] + \"/bin:\" + os.environ[\"PATH\"]\n",
        "! java -version\n",
        "# Install pyspark\n",
        "! pip install --ignore-installed pyspark==2.4.4\n",
        "# Install Spark NLP\n",
        "! pip install --ignore-installed spark-nlp"
      ],
      "execution_count": 1,
      "outputs": [
        {
          "output_type": "stream",
          "text": [
            "openjdk version \"1.8.0_275\"\n",
            "OpenJDK Runtime Environment (build 1.8.0_275-8u275-b01-0ubuntu1~18.04-b01)\n",
            "OpenJDK 64-Bit Server VM (build 25.275-b01, mixed mode)\n",
            "Processing /root/.cache/pip/wheels/ab/09/4d/0d184230058e654eb1b04467dbc1292f00eaa186544604b471/pyspark-2.4.4-py2.py3-none-any.whl\n",
            "Collecting py4j==0.10.7\n",
            "  Using cached https://files.pythonhosted.org/packages/e3/53/c737818eb9a7dc32a7cd4f1396e787bd94200c3997c72c1dbe028587bd76/py4j-0.10.7-py2.py3-none-any.whl\n",
            "Successfully installed py4j-0.10.7 pyspark-2.4.4\n",
            "Processing /root/.cache/pip/wheels/75/e4/63/ade6bdbafb87b93e87b21c22db80b606eb4d47d7aaa88e8158/spark_nlp-2.7.0-py2.py3-none-any.whl\n",
            "Installing collected packages: spark-nlp\n",
            "Successfully installed spark-nlp-2.7.0\n"
          ],
          "name": "stdout"
        }
      ]
    },
    {
      "cell_type": "code",
      "metadata": {
        "colab": {
          "base_uri": "https://localhost:8080/",
          "height": 35
        },
        "id": "_eu9a_IaM4zz",
        "outputId": "9e67dfde-8535-430c-ef8e-6640ca68927f"
      },
      "source": [
        "import sparknlp\n",
        "spark = sparknlp.start()\n",
        "sparknlp.version()\n",
        "spark.version"
      ],
      "execution_count": 2,
      "outputs": [
        {
          "output_type": "execute_result",
          "data": {
            "application/vnd.google.colaboratory.intrinsic+json": {
              "type": "string"
            },
            "text/plain": [
              "'2.4.4'"
            ]
          },
          "metadata": {
            "tags": []
          },
          "execution_count": 2
        }
      ]
    },
    {
      "cell_type": "code",
      "metadata": {
        "id": "lJ087jphNVm5"
      },
      "source": [
        "from pyspark.ml import Pipeline\n",
        "from sparknlp.annotator import *\n",
        "from sparknlp.common import *\n",
        "from sparknlp.base import *\n",
        "from pyspark.ml.feature import *\n",
        "from pyspark.ml.classification import *"
      ],
      "execution_count": 13,
      "outputs": []
    },
    {
      "cell_type": "code",
      "metadata": {
        "colab": {
          "base_uri": "https://localhost:8080/"
        },
        "id": "B2IX5NP6NbtB",
        "outputId": "ca54f414-b610-4c06-b25c-47a95925d69d"
      },
      "source": [
        "import os\n",
        "#kaggle username from api token \n",
        "os.environ['KAGGLE_USERNAME'] = \"nikhileswarkomati\"\n",
        "#kaggle key from api token\n",
        "os.environ['KAGGLE_KEY'] =\"0ffd0be5c369d70815be7d0521aeab91\"\n",
        "#dataset path for downloading the data\n",
        "!kaggle datasets download -d nikhileswarkomati/suicide-watch"
      ],
      "execution_count": 4,
      "outputs": [
        {
          "output_type": "stream",
          "text": [
            "suicide-watch.zip: Skipping, found more recently modified local copy (use --force to force download)\n"
          ],
          "name": "stdout"
        }
      ]
    },
    {
      "cell_type": "code",
      "metadata": {
        "colab": {
          "base_uri": "https://localhost:8080/"
        },
        "id": "dQ5jTDnxNqUo",
        "outputId": "2912dbff-3704-4c9c-fa98-3dda78e7f00a"
      },
      "source": [
        "! unzip '/content/suicide-watch.zip'"
      ],
      "execution_count": 6,
      "outputs": [
        {
          "output_type": "stream",
          "text": [
            "Archive:  /content/suicide-watch.zip\n",
            "  inflating: Cleaned_Depression_Vs_Suicide.csv  \n",
            "  inflating: pushshift_SW_2L.csv     \n",
            "  inflating: pushshift_dep_2L.csv    \n"
          ],
          "name": "stdout"
        }
      ]
    },
    {
      "cell_type": "code",
      "metadata": {
        "id": "z-2s0rEhNySX"
      },
      "source": [
        "spark_df = spark.read.option(\"header\", \"true\").option(\"multiLine\", \"true\").option(\"quote\", \"\\\"\").option(\"escape\", \"\\\"\").option(\"inferSchema\", \"true\").csv('/content/Cleaned_Depression_Vs_Suicide.csv', sep = ',')"
      ],
      "execution_count": 5,
      "outputs": []
    },
    {
      "cell_type": "code",
      "metadata": {
        "colab": {
          "base_uri": "https://localhost:8080/"
        },
        "id": "0lC5K-4UOCLU",
        "outputId": "2293bacc-622b-4ba1-a2ea-1ead3d532ccd"
      },
      "source": [
        "spark_df.show()"
      ],
      "execution_count": 6,
      "outputs": [
        {
          "output_type": "stream",
          "text": [
            "+-------+--------------------+--------------------+-----+-------------------+--------------------+-------+------------+\n",
            "|Post_id|               Title|                Body|Score|       Publish_date|Total_no_of_comments|Over_18|   Subreddit|\n",
            "+-------+--------------------+--------------------+-----+-------------------+--------------------+-------+------------+\n",
            "| 2nfysn|How do I know if ...|I have pretty sev...|    4|2014-11-26 03:33:59|                   3|  false|  depression|\n",
            "|  pn3br|I don't know if t...|Emotions are a on...|    8|2012-02-13 05:26:20|                   2|  false|  depression|\n",
            "| kjpeqe|The best christma...|All I want for ch...|    1|2020-12-24 23:54:44|                   3|  false|SuicideWatch|\n",
            "| 4bf9zo|People only talk ...|Whenever I talk t...|   10|2016-03-22 01:03:22|                   1|  false|  depression|\n",
            "| gxl5kl|What to do before...|So I plan on kill...|    1|2020-06-06 05:30:53|                   6|  false|SuicideWatch|\n",
            "| dgdwh4|   It needs to stop!|If you could kill...|    1|2019-10-11 11:39:03|                   3|  false|SuicideWatch|\n",
            "| cwnt1o|What triggered yo...|For me it feels l...|    1|2019-08-28 17:18:02|                   1|  false|SuicideWatch|\n",
            "|  n3cly|It's crazy how be...|Bear with me.\n",
            "\n",
            "* ...|    1|2011-12-07 02:24:17|                   3|  false|  depression|\n",
            "| 8hw9wn|I can't see mysel...|I am 17 and looki...|    1|2018-05-08 12:26:47|                   2|  false|SuicideWatch|\n",
            "| 5jattl|        Fake friend?|I'm tired of bein...|    3|2016-12-20 02:54:27|                   0|  false|  depression|\n",
            "| ii78vb|HELP ME DEAR GOD ...|kill ME GOD PLEAS...|    1|2020-08-28 13:42:46|                   1|  false|SuicideWatch|\n",
            "| ga4pkw|It feels like I c...|I’ve disappointed...|    1|2020-04-29 07:04:59|                   1|  false|SuicideWatch|\n",
            "| d8w888|I feel like my ca...|I want to go so b...|    0|2019-09-25 01:01:37|                   0|  false|SuicideWatch|\n",
            "| 3fho8x|I'm just not doin...|I'm just not doin...|    7|2015-08-02 07:39:53|                   2|  false|  depression|\n",
            "| 3wbsnf|              Memory|Is there a way to...|    1|2015-12-11 04:05:57|                   1|  false|  depression|\n",
            "| jiglwh|Not even the doct...|I've been so lone...|    1|2020-10-26 15:29:16|                   3|  false|SuicideWatch|\n",
            "| 70r3su|Trapped in Depres...|I think the only ...|    2|2017-09-17 23:29:38|                   0|  false|  depression|\n",
            "| 45uv9z|After reading and...|I am a 24 year ol...|    4|2016-02-15 04:48:47|                   1|  false|  depression|\n",
            "| jrvti5|I'm expecting to ...|By being forgotte...|    1|2020-11-10 23:02:32|                   0|  false|SuicideWatch|\n",
            "| 5jxxsi|I am a different ...|When I go out wit...|  428|2016-12-23 16:32:00|                  92|  false|  depression|\n",
            "+-------+--------------------+--------------------+-----+-------------------+--------------------+-------+------------+\n",
            "only showing top 20 rows\n",
            "\n"
          ],
          "name": "stdout"
        }
      ]
    },
    {
      "cell_type": "code",
      "metadata": {
        "colab": {
          "base_uri": "https://localhost:8080/"
        },
        "id": "S08HO2TzOG4p",
        "outputId": "a5992fb9-1a2a-4880-ddd7-6ee4eea9d4da"
      },
      "source": [
        "spark_split_df = spark_df\n",
        "\n",
        "(train_data, test_data, val_data) = spark_split_df.randomSplit([0.1, 0.3, 0.3], 24)\n",
        "\n",
        "print(\"Train length\", train_data.count())\n",
        "print(\"Test length\", test_data.count())\n",
        "print(\"validation length\", val_data.count())"
      ],
      "execution_count": 7,
      "outputs": [
        {
          "output_type": "stream",
          "text": [
            "Train length 91801\n",
            "Test length 275056\n"
          ],
          "name": "stdout"
        }
      ]
    },
    {
      "cell_type": "code",
      "metadata": {
        "id": "TQYwJaidPMbB",
        "outputId": "ffdf0301-c017-4466-f62d-fd569d52da36",
        "colab": {
          "base_uri": "https://localhost:8080/"
        }
      },
      "source": [
        "document = DocumentAssembler()\\\n",
        "  .setInputCol(\"Body\")\\\n",
        "  .setOutputCol(\"document\")\n",
        "sentence = SentenceDetector()\\\n",
        "  .setInputCols(['document'])\\\n",
        "  .setOutputCol('sentence')\n",
        "token = Tokenizer()\\\n",
        "  .setInputCols(['sentence'])\\\n",
        "  .setOutputCol('token')\n",
        "stop_words = StopWordsCleaner.pretrained('stopwords_tr', 'tr')\\\n",
        "  .setInputCols([\"token\"]) \\\n",
        "  .setOutputCol(\"cleanTokens\") \\\n",
        "  .setCaseSensitive(False)\n",
        "lemmatizer = LemmatizerModel.pretrained(\"lemma\", \"tr\") \\\n",
        "  .setInputCols([\"cleanTokens\"]) \\\n",
        "  .setOutputCol(\"lemma\")\n",
        "finisher = Finisher() \\\n",
        "  .setInputCols([\"lemma\"]) \\\n",
        "  .setOutputCols([\"token_features\"]) \\\n",
        "  .setOutputAsArray(True) \\\n",
        "  .setCleanAnnotations(False)\n"
      ],
      "execution_count": 9,
      "outputs": [
        {
          "output_type": "stream",
          "text": [
            "stopwords_tr download started this may take some time.\n",
            "Approximate size to download 2 KB\n",
            "[OK!]\n",
            "lemma download started this may take some time.\n",
            "Approximate size to download 14.8 MB\n",
            "[OK!]\n"
          ],
          "name": "stdout"
        }
      ]
    },
    {
      "cell_type": "code",
      "metadata": {
        "id": "rA6dio37Pf_Z"
      },
      "source": [
        "\n",
        "hashTF = HashingTF(inputCol=\"token_features\", outputCol=\"raw_features\")\n",
        "idf = IDF(inputCol=\"raw_features\", outputCol=\"features\", minDocFreq=5)\n",
        "label_strIdx = StringIndexer(inputCol=\"Subreddit\", outputCol=\"label\")\n",
        "logReg = LogisticRegression(maxIter=10)\n",
        "label_Idxstr = IndexToString(inputCol=\"label\", outputCol=\"article_class\")\n",
        "# Pipeline for Logistic Regression Classifier\n",
        "nlp_pipeline_lr = Pipeline(\n",
        "    stages=[document,\n",
        "    sentence,\n",
        "    token,\n",
        "    stop_words,\n",
        "    lemmatizer,\n",
        "    finisher,\n",
        "    hashTF,\n",
        "    idf,\n",
        "    label_strIdx,\n",
        "    logReg,\n",
        "    label_Idxstr])"
      ],
      "execution_count": 14,
      "outputs": []
    },
    {
      "cell_type": "code",
      "metadata": {
        "id": "_43PvYZFQi1e"
      },
      "source": [
        "classification_model_lr = nlp_pipeline_lr.fit(train_data)"
      ],
      "execution_count": 15,
      "outputs": []
    },
    {
      "cell_type": "code",
      "metadata": {
        "id": "GPY37j1ESk31",
        "outputId": "9a76e319-34f0-4611-d96c-e554507d68fd",
        "colab": {
          "base_uri": "https://localhost:8080/"
        }
      },
      "source": [
        "from sklearn.metrics import classification_report, accuracy_score\n",
        "# Converting Spark DF into Pandas DF\n",
        "df_lr = classification_model_lr.transform(test_data).select(\"Subreddit\", \"label\", \"prediction\").toPandas()\n",
        "print(classification_report(df_lr.label, df_lr.prediction))"
      ],
      "execution_count": 16,
      "outputs": [
        {
          "output_type": "stream",
          "text": [
            "              precision    recall  f1-score   support\n",
            "\n",
            "         0.0       0.75      0.77      0.76    144293\n",
            "         1.0       0.74      0.71      0.73    130763\n",
            "\n",
            "    accuracy                           0.74    275056\n",
            "   macro avg       0.74      0.74      0.74    275056\n",
            "weighted avg       0.74      0.74      0.74    275056\n",
            "\n"
          ],
          "name": "stdout"
        }
      ]
    },
    {
      "cell_type": "code",
      "metadata": {
        "id": "6nk551dHXuDL",
        "outputId": "60d1e385-d8f4-45df-e842-09973bd12d75",
        "colab": {
          "base_uri": "https://localhost:8080/"
        }
      },
      "source": [
        "print(accuracy_score(df_lr.label, df_lr.prediction))"
      ],
      "execution_count": 17,
      "outputs": [
        {
          "output_type": "stream",
          "text": [
            "0.7448483217962888\n"
          ],
          "name": "stdout"
        }
      ]
    }
  ]
}