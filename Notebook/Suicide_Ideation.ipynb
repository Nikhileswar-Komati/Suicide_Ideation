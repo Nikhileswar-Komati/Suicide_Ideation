{
  "nbformat": 4,
  "nbformat_minor": 0,
  "metadata": {
    "colab": {
      "name": "Suicide_Ideation.ipynb",
      "provenance": [],
      "authorship_tag": "ABX9TyOz35vd13Eon7CV3KlZkgym",
      "include_colab_link": true
    },
    "kernelspec": {
      "name": "python3",
      "display_name": "Python 3"
    }
  },
  "cells": [
    {
      "cell_type": "markdown",
      "metadata": {
        "id": "view-in-github",
        "colab_type": "text"
      },
      "source": [
        "<a href=\"https://colab.research.google.com/github/Nikhileswar-Komati/Suicide_Ideation/blob/master/Notebook/Suicide_Ideation.ipynb\" target=\"_parent\"><img src=\"https://colab.research.google.com/assets/colab-badge.svg\" alt=\"Open In Colab\"/></a>"
      ]
    },
    {
      "cell_type": "code",
      "metadata": {
        "id": "oq7NNI4r8phF",
        "outputId": "b8d70710-5574-4a1b-e37b-e27a319ab292",
        "colab": {
          "base_uri": "https://localhost:8080/",
          "height": 34
        }
      },
      "source": [
        "import numpy as np\n",
        "import pandas as pd\n",
        "import re\n",
        "from collections import defaultdict\n",
        "np.seterr(divide = 'ignore')"
      ],
      "execution_count": 39,
      "outputs": [
        {
          "output_type": "execute_result",
          "data": {
            "text/plain": [
              "{'divide': 'ignore', 'invalid': 'warn', 'over': 'warn', 'under': 'ignore'}"
            ]
          },
          "metadata": {
            "tags": []
          },
          "execution_count": 39
        }
      ]
    },
    {
      "cell_type": "code",
      "metadata": {
        "id": "rEq6mzmy8tiY"
      },
      "source": [
        "from google.colab import files\n",
        "files.upload()"
      ],
      "execution_count": null,
      "outputs": []
    },
    {
      "cell_type": "code",
      "metadata": {
        "id": "2GDYD69G812r",
        "outputId": "a6c961eb-a0b9-44e1-f8bc-f547662a0b4c",
        "colab": {
          "base_uri": "https://localhost:8080/",
          "height": 235
        }
      },
      "source": [
        "data = pd.read_csv('/content/500_Reddit_users_posts_labels.csv', index_col = 'User')\n",
        "data.head(5)"
      ],
      "execution_count": 40,
      "outputs": [
        {
          "output_type": "execute_result",
          "data": {
            "text/html": [
              "<div>\n",
              "<style scoped>\n",
              "    .dataframe tbody tr th:only-of-type {\n",
              "        vertical-align: middle;\n",
              "    }\n",
              "\n",
              "    .dataframe tbody tr th {\n",
              "        vertical-align: top;\n",
              "    }\n",
              "\n",
              "    .dataframe thead th {\n",
              "        text-align: right;\n",
              "    }\n",
              "</style>\n",
              "<table border=\"1\" class=\"dataframe\">\n",
              "  <thead>\n",
              "    <tr style=\"text-align: right;\">\n",
              "      <th></th>\n",
              "      <th>Post</th>\n",
              "      <th>Label</th>\n",
              "    </tr>\n",
              "    <tr>\n",
              "      <th>User</th>\n",
              "      <th></th>\n",
              "      <th></th>\n",
              "    </tr>\n",
              "  </thead>\n",
              "  <tbody>\n",
              "    <tr>\n",
              "      <th>user-0</th>\n",
              "      <td>['Its not a viable option, and youll be leavin...</td>\n",
              "      <td>Supportive</td>\n",
              "    </tr>\n",
              "    <tr>\n",
              "      <th>user-1</th>\n",
              "      <td>['It can be hard to appreciate the notion that...</td>\n",
              "      <td>Ideation</td>\n",
              "    </tr>\n",
              "    <tr>\n",
              "      <th>user-2</th>\n",
              "      <td>['Hi, so last night i was sitting on the ledge...</td>\n",
              "      <td>Behavior</td>\n",
              "    </tr>\n",
              "    <tr>\n",
              "      <th>user-3</th>\n",
              "      <td>['I tried to kill my self once and failed badl...</td>\n",
              "      <td>Attempt</td>\n",
              "    </tr>\n",
              "    <tr>\n",
              "      <th>user-4</th>\n",
              "      <td>['Hi NEM3030. What sorts of things do you enjo...</td>\n",
              "      <td>Ideation</td>\n",
              "    </tr>\n",
              "  </tbody>\n",
              "</table>\n",
              "</div>"
            ],
            "text/plain": [
              "                                                     Post       Label\n",
              "User                                                                 \n",
              "user-0  ['Its not a viable option, and youll be leavin...  Supportive\n",
              "user-1  ['It can be hard to appreciate the notion that...    Ideation\n",
              "user-2  ['Hi, so last night i was sitting on the ledge...    Behavior\n",
              "user-3  ['I tried to kill my self once and failed badl...     Attempt\n",
              "user-4  ['Hi NEM3030. What sorts of things do you enjo...    Ideation"
            ]
          },
          "metadata": {
            "tags": []
          },
          "execution_count": 40
        }
      ]
    },
    {
      "cell_type": "code",
      "metadata": {
        "id": "Kp2RWgC89KTA",
        "outputId": "9d35e456-1fab-499d-c47a-139c86828e50",
        "colab": {
          "base_uri": "https://localhost:8080/",
          "height": 34
        }
      },
      "source": [
        "data.shape"
      ],
      "execution_count": 41,
      "outputs": [
        {
          "output_type": "execute_result",
          "data": {
            "text/plain": [
              "(500, 2)"
            ]
          },
          "metadata": {
            "tags": []
          },
          "execution_count": 41
        }
      ]
    },
    {
      "cell_type": "code",
      "metadata": {
        "id": "2WmEe6Kb9eSs",
        "outputId": "82c14cc4-674e-49fc-87e3-8d167890b0ac",
        "colab": {
          "base_uri": "https://localhost:8080/",
          "height": 119
        }
      },
      "source": [
        "data['Label'].value_counts()"
      ],
      "execution_count": 42,
      "outputs": [
        {
          "output_type": "execute_result",
          "data": {
            "text/plain": [
              "Ideation      171\n",
              "Supportive    108\n",
              "Indicator      99\n",
              "Behavior       77\n",
              "Attempt        45\n",
              "Name: Label, dtype: int64"
            ]
          },
          "metadata": {
            "tags": []
          },
          "execution_count": 42
        }
      ]
    },
    {
      "cell_type": "code",
      "metadata": {
        "id": "0_C0CaCK9mPh",
        "outputId": "9b24b40c-c644-432f-f225-18e30566b66f",
        "colab": {
          "base_uri": "https://localhost:8080/",
          "height": 350
        }
      },
      "source": [
        "import seaborn as sns\n",
        "sns.countplot(data['Label'])"
      ],
      "execution_count": 43,
      "outputs": [
        {
          "output_type": "stream",
          "text": [
            "/usr/local/lib/python3.6/dist-packages/seaborn/_decorators.py:43: FutureWarning: Pass the following variable as a keyword arg: x. From version 0.12, the only valid positional argument will be `data`, and passing other arguments without an explicit keyword will result in an error or misinterpretation.\n",
            "  FutureWarning\n"
          ],
          "name": "stderr"
        },
        {
          "output_type": "execute_result",
          "data": {
            "text/plain": [
              "<matplotlib.axes._subplots.AxesSubplot at 0x7f960e7ab4e0>"
            ]
          },
          "metadata": {
            "tags": []
          },
          "execution_count": 43
        },
        {
          "output_type": "display_data",
          "data": {
            "image/png": "[encoded data removed]",
            "text/plain": [
              "<Figure size 432x288 with 1 Axes>"
            ]
          },
          "metadata": {
            "tags": [],
            "needs_background": "light"
          }
        }
      ]
    },
    {
      "cell_type": "code",
      "metadata": {
        "id": "e9RnB91sVcLS",
        "outputId": "da6e704b-907f-4527-abe1-e3d5bd127b11",
        "colab": {
          "base_uri": "https://localhost:8080/",
          "height": 103
        }
      },
      "source": [
        "data['Post'][0]"
      ],
      "execution_count": 44,
      "outputs": [
        {
          "output_type": "execute_result",
          "data": {
            "application/vnd.google.colaboratory.intrinsic+json": {
              "type": "string"
            },
            "text/plain": [
              "\"['Its not a viable option, and youll be leaving your wife behind. Youd Pain her beyond comprehension.It sucks worrying about money, I know that first hand. It can definitely feel hopeless, as you seem to be Tired aware of. Your wife might need to chip in financially. I know time is an issue, but even 10-15 hours a Asthenia could alleviate a lot of the pressure. In the meantime, get your shit together - write that resume tomorrow. No excuses, get it done and send it out. Whether you believe in some sort of powerful being or force governing things or not, things really do work themselves out. This is a big test for you, and youll pull through. Just try to stay as positive as you can and everything will work out.']\""
            ]
          },
          "metadata": {
            "tags": []
          },
          "execution_count": 44
        }
      ]
    },
    {
      "cell_type": "code",
      "metadata": {
        "id": "PH4C7cjw-UcX",
        "outputId": "c5d1c2ad-9300-4e26-fd13-c9f1fd67a2ac",
        "colab": {
          "base_uri": "https://localhost:8080/",
          "height": 54
        }
      },
      "source": [
        "text = \"Hello, Stupid:: idiot!\"\n",
        "def preprocess(string):\n",
        "  processed_string = re.sub('[^a-z0-9]+', ' ', string, flags=re.IGNORECASE)\n",
        "  processed_string = re.sub('(\\s+)', ' ', processed_string)\n",
        "  processed_string = processed_string.lower()\n",
        "  return processed_string\n",
        "print(preprocess(data['Post'][0]))"
      ],
      "execution_count": 45,
      "outputs": [
        {
          "output_type": "stream",
          "text": [
            " its not a viable option and youll be leaving your wife behind youd pain her beyond comprehension it sucks worrying about money i know that first hand it can definitely feel hopeless as you seem to be tired aware of your wife might need to chip in financially i know time is an issue but even 10 15 hours a asthenia could alleviate a lot of the pressure in the meantime get your shit together write that resume tomorrow no excuses get it done and send it out whether you believe in some sort of powerful being or force governing things or not things really do work themselves out this is a big test for you and youll pull through just try to stay as positive as you can and everything will work out \n"
          ],
          "name": "stdout"
        }
      ]
    },
    {
      "cell_type": "code",
      "metadata": {
        "id": "SnV7yhrgV-dh",
        "outputId": "ac449637-c572-4d80-ea89-5cc46ea748ef",
        "colab": {
          "base_uri": "https://localhost:8080/",
          "height": 51
        }
      },
      "source": [
        "X = data['Post'].values\n",
        "y = data['Label'].values\n",
        "\n",
        "from sklearn.model_selection import train_test_split\n",
        "from sklearn.preprocessing import LabelEncoder\n",
        "\n",
        "le = LabelEncoder()\n",
        "\n",
        "y = le.fit_transform(y)\n",
        "X = list(X)\n",
        "y = list(y)\n",
        "print(set(y))\n",
        "train_X, test_X, train_y, test_y = train_test_split(X, y, test_size = 0.04, random_state = 42)\n",
        "print(len(train_X), len(test_X))"
      ],
      "execution_count": 53,
      "outputs": [
        {
          "output_type": "stream",
          "text": [
            "{0, 1, 2, 3, 4}\n",
            "480 20\n"
          ],
          "name": "stdout"
        }
      ]
    },
    {
      "cell_type": "code",
      "metadata": {
        "id": "6mXxKawVXdf2",
        "outputId": "9654e395-4d47-453c-8f53-9c4193332384",
        "colab": {
          "base_uri": "https://localhost:8080/",
          "height": 68
        }
      },
      "source": [
        "cleaned_train_data = [preprocess(ele) for ele in train_X]\n",
        "cleaned_test_data = [preprocess(ele) for ele in test_X]\n",
        "\n",
        "from sklearn.feature_extraction.text import CountVectorizer\n",
        "from sklearn.naive_bayes import MultinomialNB\n",
        "from sklearn.pipeline import Pipeline\n",
        "\n",
        "clf = Pipeline([('cv', CountVectorizer()), ('nb', MultinomialNB())])\n",
        "\n",
        "clf.fit(cleaned_train_data, train_y)\n",
        "print(\"------------Training Done ----------\")\n",
        "predictions = clf.predict(cleaned_test_data)\n",
        "\n",
        "test_acc_sklearn = np.sum(predictions == test_y) / float(len(test_y)) \n",
        "\n",
        "\n",
        "print (\"Test Set Examples: \", len(test_y)) \n",
        "print (\"Test Set Accuracy: \", test_acc_sklearn * 100, \"%\") "
      ],
      "execution_count": 54,
      "outputs": [
        {
          "output_type": "stream",
          "text": [
            "------------Training Done ----------\n",
            "Test Set Examples:  20\n",
            "Test Set Accuracy:  25.0 %\n"
          ],
          "name": "stdout"
        }
      ]
    },
    {
      "cell_type": "code",
      "metadata": {
        "id": "Wf25MgqBYzG2"
      },
      "source": [
        ""
      ],
      "execution_count": 50,
      "outputs": []
    }
  ]
}