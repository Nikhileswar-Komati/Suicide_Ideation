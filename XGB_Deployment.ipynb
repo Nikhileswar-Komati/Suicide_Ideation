{
  "nbformat": 4,
  "nbformat_minor": 0,
  "metadata": {
    "colab": {
      "name": "XGB_Deployment.ipynb",
      "provenance": [],
      "authorship_tag": "ABX9TyOgKybc0z46ZU8CfoUE0+cT",
      "include_colab_link": true
    },
    "kernelspec": {
      "name": "python3",
      "display_name": "Python 3"
    },
    "accelerator": "GPU"
  },
  "cells": [
    {
      "cell_type": "markdown",
      "metadata": {
        "id": "view-in-github",
        "colab_type": "text"
      },
      "source": [
        "<a href=\"https://colab.research.google.com/github/Nikhileswar-Komati/Suicide_Ideation/blob/master/XGB_Deployment.ipynb\" target=\"_parent\"><img src=\"https://colab.research.google.com/assets/colab-badge.svg\" alt=\"Open In Colab\"/></a>"
      ]
    },
    {
      "cell_type": "code",
      "metadata": {
        "id": "b2DwSquv8qSy"
      },
      "source": [
        "import pandas as pd\r\n",
        "from sklearn.model_selection import train_test_split\r\n",
        "from sklearn.preprocessing import LabelEncoder"
      ],
      "execution_count": null,
      "outputs": []
    },
    {
      "cell_type": "code",
      "metadata": {
        "colab": {
          "base_uri": "https://localhost:8080/"
        },
        "id": "IH98Qwfo8LMj",
        "outputId": "988d79e1-9de5-4884-af1a-f383c87c3876"
      },
      "source": [
        "import os\r\n",
        "os.environ['KAGGLE_USERNAME'] = \"nikhileswarkomati\"\r\n",
        "os.environ['KAGGLE_KEY'] = \"001b3a30170775e55950edb6ff0c9b17\"\r\n",
        "!kaggle datasets download -d nikhileswarkomati/suicide-watch"
      ],
      "execution_count": null,
      "outputs": [
        {
          "output_type": "stream",
          "text": [
            "suicide-watch.zip: Skipping, found more recently modified local copy (use --force to force download)\n"
          ],
          "name": "stdout"
        }
      ]
    },
    {
      "cell_type": "code",
      "metadata": {
        "colab": {
          "base_uri": "https://localhost:8080/"
        },
        "id": "4AXemEX88XIu",
        "outputId": "391711c2-3d50-457e-916c-113c09e0ec49"
      },
      "source": [
        "!unzip '/content/suicide-watch.zip'"
      ],
      "execution_count": null,
      "outputs": [
        {
          "output_type": "stream",
          "text": [
            "Archive:  /content/suicide-watch.zip\n",
            "replace Cleaned_Depression_Vs_Suicide.csv? [y]es, [n]o, [A]ll, [N]one, [r]ename: n\n"
          ],
          "name": "stdout"
        }
      ]
    },
    {
      "cell_type": "code",
      "metadata": {
        "colab": {
          "base_uri": "https://localhost:8080/",
          "height": 197
        },
        "id": "WqC-R1QJ8gKD",
        "outputId": "110f777f-2565-4ba5-e975-b7cea9841d31"
      },
      "source": [
        "data = pd.read_csv('/content/Cleaned_Depression_Vs_Suicide.csv', lineterminator = '\\n')\r\n",
        "data.sample(5)"
      ],
      "execution_count": null,
      "outputs": [
        {
          "output_type": "execute_result",
          "data": {
            "text/html": [
              "<div>\n",
              "<style scoped>\n",
              "    .dataframe tbody tr th:only-of-type {\n",
              "        vertical-align: middle;\n",
              "    }\n",
              "\n",
              "    .dataframe tbody tr th {\n",
              "        vertical-align: top;\n",
              "    }\n",
              "\n",
              "    .dataframe thead th {\n",
              "        text-align: right;\n",
              "    }\n",
              "</style>\n",
              "<table border=\"1\" class=\"dataframe\">\n",
              "  <thead>\n",
              "    <tr style=\"text-align: right;\">\n",
              "      <th></th>\n",
              "      <th>text</th>\n",
              "      <th>class</th>\n",
              "    </tr>\n",
              "  </thead>\n",
              "  <tbody>\n",
              "    <tr>\n",
              "      <th>414374</th>\n",
              "      <td>HELP ME!!I can't stop myslefw from crying! Mu ...</td>\n",
              "      <td>depression</td>\n",
              "    </tr>\n",
              "    <tr>\n",
              "      <th>36791</th>\n",
              "      <td>I am a fucking messHad a plan, was planning on...</td>\n",
              "      <td>SuicideWatch</td>\n",
              "    </tr>\n",
              "    <tr>\n",
              "      <th>452329</th>\n",
              "      <td>worst christmas of my lifemy sister is addicte...</td>\n",
              "      <td>depression</td>\n",
              "    </tr>\n",
              "    <tr>\n",
              "      <th>438978</th>\n",
              "      <td>haters. haters. haters. i have no friend. more...</td>\n",
              "      <td>depression</td>\n",
              "    </tr>\n",
              "    <tr>\n",
              "      <th>111253</th>\n",
              "      <td>All my lies are catching up to me. Can't keep ...</td>\n",
              "      <td>depression</td>\n",
              "    </tr>\n",
              "  </tbody>\n",
              "</table>\n",
              "</div>"
            ],
            "text/plain": [
              "                                                     text         class\n",
              "414374  HELP ME!!I can't stop myslefw from crying! Mu ...    depression\n",
              "36791   I am a fucking messHad a plan, was planning on...  SuicideWatch\n",
              "452329  worst christmas of my lifemy sister is addicte...    depression\n",
              "438978  haters. haters. haters. i have no friend. more...    depression\n",
              "111253  All my lies are catching up to me. Can't keep ...    depression"
            ]
          },
          "metadata": {
            "tags": []
          },
          "execution_count": 4
        }
      ]
    },
    {
      "cell_type": "code",
      "metadata": {
        "colab": {
          "base_uri": "https://localhost:8080/"
        },
        "id": "W4_3TFUs8uA-",
        "outputId": "089ed65f-463c-4576-fd43-0380018eb938"
      },
      "source": [
        "data.shape"
      ],
      "execution_count": null,
      "outputs": [
        {
          "output_type": "execute_result",
          "data": {
            "text/plain": [
              "(609772, 2)"
            ]
          },
          "metadata": {
            "tags": []
          },
          "execution_count": 5
        }
      ]
    },
    {
      "cell_type": "code",
      "metadata": {
        "id": "Qd-dYkvj9B7y"
      },
      "source": [
        "X = data.iloc[:, 0].values\r\n",
        "y = data.iloc[:, 1].values\r\n",
        "\r\n",
        "le = LabelEncoder()\r\n",
        "\r\n",
        "y = le.fit_transform(y)"
      ],
      "execution_count": null,
      "outputs": []
    },
    {
      "cell_type": "code",
      "metadata": {
        "colab": {
          "base_uri": "https://localhost:8080/"
        },
        "id": "txfNhIm4-LEK",
        "outputId": "07d904b6-7011-4ad9-bb98-664e2daa7b96"
      },
      "source": [
        "train_X, test_X, train_y, test_y = train_test_split(X, y, train_size = 0.9)\r\n",
        "print(train_X.shape, test_y.shape)"
      ],
      "execution_count": null,
      "outputs": [
        {
          "output_type": "stream",
          "text": [
            "(548794,) (60978,)\n"
          ],
          "name": "stdout"
        }
      ]
    },
    {
      "cell_type": "code",
      "metadata": {
        "colab": {
          "base_uri": "https://localhost:8080/"
        },
        "id": "ldOqsTbF-zkO",
        "outputId": "ccccf086-e46d-4c49-e143-9b0d3b56f3a9"
      },
      "source": [
        "from sklearn.feature_extraction.text import CountVectorizer\r\n",
        "from sklearn.naive_bayes import MultinomialNB\r\n",
        "from sklearn.pipeline import Pipeline\r\n",
        "from xgboost import XGBClassifier\r\n",
        "\r\n",
        "clf = Pipeline([('cv', CountVectorizer()), ('xgb', XGBClassifier())])\r\n",
        "\r\n",
        "clf.fit(train_X, train_y)\r\n",
        "print(\"------------Training Done ----------\")\r\n",
        "predictions = clf.predict(test_X)\r\n"
      ],
      "execution_count": null,
      "outputs": [
        {
          "output_type": "stream",
          "text": [
            "------------Training Done ----------\n"
          ],
          "name": "stdout"
        }
      ]
    },
    {
      "cell_type": "code",
      "metadata": {
        "colab": {
          "base_uri": "https://localhost:8080/"
        },
        "id": "lQUxd-EbCxde",
        "outputId": "8e620615-9b33-42d4-8e01-fde61f31ad8b"
      },
      "source": [
        "import numpy as np\r\n",
        "test_acc_sklearn = np.sum(predictions == test_y) / float(len(test_y)) \r\n",
        "\r\n",
        "\r\n",
        "print (\"Test Set Examples: \", len(test_y)) \r\n",
        "print (\"Test Set Accuracy: \", test_acc_sklearn * 100, \"%\")"
      ],
      "execution_count": null,
      "outputs": [
        {
          "output_type": "stream",
          "text": [
            "Test Set Examples:  60978\n",
            "Test Set Accuracy:  74.82042703926007 %\n"
          ],
          "name": "stdout"
        }
      ]
    },
    {
      "cell_type": "code",
      "metadata": {
        "colab": {
          "base_uri": "https://localhost:8080/"
        },
        "id": "wGYMHCCuFMZZ",
        "outputId": "85c18386-71df-4a76-aa12-7c6174bb3c8f"
      },
      "source": [
        "from joblib import dump\r\n",
        "\r\n",
        "# dump the pipeline model\r\n",
        "dump(clf, filename = \"suicide.joblib\")"
      ],
      "execution_count": null,
      "outputs": [
        {
          "output_type": "execute_result",
          "data": {
            "text/plain": [
              "['suicide.joblib']"
            ]
          },
          "metadata": {
            "tags": []
          },
          "execution_count": 10
        }
      ]
    },
    {
      "cell_type": "code",
      "metadata": {
        "id": "ZeGzcLb6I4Kx",
        "colab": {
          "base_uri": "https://localhost:8080/"
        },
        "outputId": "89eaaa39-08e8-4b32-e541-89d3f71ed70b"
      },
      "source": [
        "from joblib import load\r\n",
        "\r\n",
        "# sample tweet text\r\n",
        "text = [\"I'm so depressed\"]\r\n",
        "\r\n",
        "# load the saved pipleine model\r\n",
        "pipeline = load(\"/content/suicide.joblib\")\r\n",
        "\r\n",
        "# predict on the sample tweet text\r\n",
        "pipeline.predict(text)"
      ],
      "execution_count": null,
      "outputs": [
        {
          "output_type": "execute_result",
          "data": {
            "text/plain": [
              "array([1])"
            ]
          },
          "metadata": {
            "tags": []
          },
          "execution_count": 16
        }
      ]
    },
    {
      "cell_type": "code",
      "metadata": {
        "colab": {
          "base_uri": "https://localhost:8080/"
        },
        "id": "xC1-1JLDfprR",
        "outputId": "b43e790d-0229-4c8e-dd84-5a9d54c96531"
      },
      "source": [
        "le.inverse_transform(pipeline.predict(text))"
      ],
      "execution_count": null,
      "outputs": [
        {
          "output_type": "execute_result",
          "data": {
            "text/plain": [
              "array(['depression'], dtype=object)"
            ]
          },
          "metadata": {
            "tags": []
          },
          "execution_count": 17
        }
      ]
    },
    {
      "cell_type": "code",
      "metadata": {
        "id": "ifoZe9s6f2He"
      },
      "source": [
        "import tweepy\r\n",
        "import time\r\n",
        "import pandas as pd\r\n",
        "pd.set_option('display.max_colwidth', 1000)\r\n",
        "\r\n",
        "# api key\r\n",
        "api_key = \"YfsfRUtv0Jstlvm0TLg8DrZNA\"\r\n",
        "# api secret key\r\n",
        "api_secret_key = \"Dx95SabGPVACrlQanwkajOnsfss0tWsyej8xO8rUKnf6N70Tyh\"\r\n",
        "# access token\r\n",
        "access_token = \"704330902432669696-pmTtYoAM3ywia3zAY5sWAEVkzhWUwan\"\r\n",
        "# access token secret\r\n",
        "access_token_secret = \"BSW1LmSmDZmNrDPL3KytWXgZeOTHo99Ee1vDu1FBc5EAJ\"\r\n",
        "\r\n",
        "# authorize the API Key\r\n",
        "authentication = tweepy.OAuthHandler(api_key, api_secret_key)\r\n",
        "\r\n",
        "# authorization to user's access token and access token secret\r\n",
        "authentication.set_access_token(access_token, access_token_secret)\r\n",
        "\r\n",
        "# call the api\r\n",
        "api = tweepy.API(authentication, wait_on_rate_limit=True)"
      ],
      "execution_count": null,
      "outputs": []
    },
    {
      "cell_type": "code",
      "metadata": {
        "id": "FATZ0zmOji1r"
      },
      "source": [
        "def get_related_tweets(text_query):\r\n",
        "    # list to store tweets\r\n",
        "    tweets_list = []\r\n",
        "    # no of tweets\r\n",
        "    count = 50\r\n",
        "    try:\r\n",
        "        # Pulling individual tweets from query\r\n",
        "        for tweet in api.search(q=text_query, count=count, lang = 'en'):\r\n",
        "            print(tweet.text)\r\n",
        "            # Adding to list that contains all tweets\r\n",
        "            tweets_list.append({'created_at': tweet.created_at,\r\n",
        "                                'tweet_id': tweet.id,\r\n",
        "                                'tweet_text': tweet.text})\r\n",
        "        return pd.DataFrame.from_dict(tweets_list)\r\n",
        "\r\n",
        "    except BaseException as e:\r\n",
        "        print('failed on_status,', str(e))\r\n",
        "        time.sleep(3)"
      ],
      "execution_count": null,
      "outputs": []
    },
    {
      "cell_type": "code",
      "metadata": {
        "colab": {
          "base_uri": "https://localhost:8080/",
          "height": 1000
        },
        "id": "2NBV8VSHjnEc",
        "outputId": "368b26fc-bf7d-46bd-9c8c-cbd9e25e3cc1"
      },
      "source": [
        "get_related_tweets('suicide')"
      ],
      "execution_count": null,
      "outputs": [
        {
          "output_type": "stream",
          "text": [
            "The most thorough follow-up of sex-reassigned people—extending over 30 years in Sweden - documents their lifelong m… https://t.co/T3IHOzjwwA\n",
            "RT @Science_social9: I don't know why I feel weak asking this but does anyone have a good resource to share for black men who are seriously…\n",
            "RT @hasbeemasputra: I look forward to your support in future mental health initiatives Senator @razalidris\n",
            " \n",
            "You can support the mental hea…\n",
            "RT @jeffgernst: An autopsy finds that the death of Keyla Martinez - who died while in police custody within hours of being detained - was a…\n",
            "RT @BabySingh99: West Bengal ranks number ONE in 🌾 Vegetable Production.\n",
            "BJP Sarkar should learn from  @MamataOfficial 🙏 the great CM ever.…\n",
            "RT @Science_social9: I don't know why I feel weak asking this but does anyone have a good resource to share for black men who are seriously…\n",
            "RT @Anonymo85632208: SUSHANT DIDN'T COMMITTED SUICIDE\n",
            "\n",
            "@ips_nupurprasad \n",
            "\n",
            "FILE 302 IN SSR MURDER CASE?\n",
            "RT @Science_social9: I don't know why I feel weak asking this but does anyone have a good resource to share for black men who are seriously…\n",
            "VAB's Steering Team is grateful to have recently been given the opportunity to receive Suicide Prevention Training… https://t.co/RoHrXfxfQZ\n",
            "@lapinleader i have the one hour version looped too😭 its way too catchy for a song about depression and suicide\n",
            "RT @Official__Jyoti: #KVOSTV \n",
            "Can suicide really solve a problem? Life is such a precious gift from God, read Gayan Ganga written by the wo…\n",
            "@ParadouMichael @dj_forrester @georgegalloway They will never explain the economic suicide, Sturgeon would shit her… https://t.co/psp8TYBiEa\n",
            "RT @makaylathinks: 1. suicide prevention hotline in the US: 1-800-273-8255\n",
            "2. this is a joke about a grounding technique used to prevent pa…\n",
            "RT @ChikeluSc: @ewnupdates @MiaLindeque And there are spikes in loss of businesses and jobs, retrenchment, depression, suicide and so on..,…\n",
            "RT @Rajkuma36644920: #KVOSTV \n",
            "Can suicide really solve a problem? Life is such a precious gift from God, read Gayan Ganga written by the wo…\n",
            "Pieta provide free counselling to those with suicidal ideation, those engaging in self-harm, and those bereaved by… https://t.co/xgC1q6lw6E\n",
            "RT @oXMandaMandaXo: ‼️The police did not shoot this man!! He committed suicide‼️Now all the people rioting need to follow his lead #getrido…\n",
            "The Bots are Artificial thus they can survive, etc, but not the 1st Living Beings, etc for They shall commit homici… https://t.co/Pznqr9IWg8\n",
            "kasia lenhardt commited suicide. the internet killed her... i am speechless\n",
            "RT @asemota: Macroeconomic games have been a game of resources and numbers. Digital resources are the new coal, oil, and gold. \n",
            "\n",
            "Cut your p…\n",
            "A comparison of brain tissues taken from individuals who died by suicide has for the first time linked chronic depr… https://t.co/N8duHX20RC\n",
            "@kimxtellz Amen thank you cuz I tell you no lie I was seriously over here contemplating Suicide the past couple nights .\n",
            "wow, the mlp writers really said \"we're gonna create an allegory for medically assisted suicide in our rainbow horse cartoon\"\n",
            "RT @macchioss: — Message for Super Junior Haters\n",
            "\n",
            "I understand that my favorite group doesn't like you, however there's no need to hint at…\n",
            "RT @itz_mizdee: Suicide figures are up 200% since lockdown. Could 2 followers please copy and re-post this tweet? \n",
            "\n",
            "Call 1-800-273-8255 (US…\n",
            "RT @Science_social9: I don't know why I feel weak asking this but does anyone have a good resource to share for black men who are seriously…\n",
            "Mohammad Thalji al-Rajabi was 15 when he was pushed to commit a suicide stabbing attack. We can no longer allow the… https://t.co/imcJnDiafs\n",
            "RT @OfficialKabirji: #SayNoToDowry \n",
            "Every 68 minutes, a woman is murdered or compelled to commit suicide for dowry in India.\n",
            "\n",
            "But now Saint…\n",
            "RT @Mayur4SSR: CBI when will you impose 302 in SSR case ?\n",
            "\n",
            "When will you rule out Suicide angle??\n",
            "\n",
            "It's high time now CBI you should impose…\n",
            "RT @Science_social9: I don't know why I feel weak asking this but does anyone have a good resource to share for black men who are seriously…\n",
            "@Riteishd @narendramodi @ghulamnazad Crocodile tears! Where was his affection for Azad when Azad ji was pleading hi… https://t.co/lp2iQUI4HP\n",
            "RT @TalbertSwan: In Trump’s #CapitalRiots..\n",
            "\n",
            "1 cop was murdered with a fire extinguisher\n",
            "2 cops committed suicide in the aftermath\n",
            "\n",
            "140 cop…\n",
            "RT @kundu_koushani: No stool or chair is found in Sushant's room. No suicide note was found. Then how could Meme police termed it a suicide…\n",
            "RT @snehalssrfan: Where is the suicide note?\n",
            "Where is the knife used to cut that green cloth?\n",
            "Where is the stool/chair used for \"suicide\"?…\n",
            "RT @Science_social9: I don't know why I feel weak asking this but does anyone have a good resource to share for black men who are seriously…\n",
            "RT @panamena009: @BrielleClaremo1 @luckydevilgaia @T_FisherKing It is hardly settled science. It’s social policy. Men with gender dysphoria…\n",
            "RT @AriaK91361885: Why eyes and tongue didn’t protrude? \n",
            "What were the injury marks? \n",
            "Why the ligature mark was not V shaped? \n",
            "Who scripted…\n",
            "RT @WeCanDoThisGrp: 1) Fathers mental health during perinatal period (conception to 1 year post-delivery) is currently overlooked, this is…\n",
            "RT @cnni: A 20-year-old college student died by suicide last summer after he saw a negative balance of $730,000 in his trading account and…\n",
            "RT @Science_social9: I don't know why I feel weak asking this but does anyone have a good resource to share for black men who are seriously…\n",
            "RT @VickiVBowen2: @HotlineJosh I live in Louisiana. \n",
            "Senator Cassidy voted correctly. \n",
            "I hope 11 more Republicans do the Right thing and vo…\n",
            "RT @SrijitaTwinkle: There are 100 proofs of his brutal murder  present everywhere ❗\n",
            "\n",
            "But there is not a single evidence of suicide present…\n",
            "@BrielleClaremo1 @luckydevilgaia @T_FisherKing It is hardly settled science. It’s social policy. Men with gender dy… https://t.co/JBFDKYIcwj\n",
            "RT @_SSRFan: Enough said by our own GULSHAN\n",
            "\n",
            "Sush didn’t commit Suicide.\n",
            "Period!\n",
            "\n",
            "Ma’am, a testimony from the victim himself. Pls watch it…\n",
            "RT @Sir_Warrior: What a disgrace,\n",
            "Murder stage as suicide in haste,\n",
            "Evidences erased,\n",
            "Narrations rephrased,\n",
            "\n",
            "It's now 241 days,\n",
            "We are livi…\n",
            "RT @AriaK91361885: Why eyes and tongue didn’t protrude? \n",
            "What were the injury marks? \n",
            "Why the ligature mark was not V shaped? \n",
            "Who scripted…\n",
            "RT @Science_social9: I don't know why I feel weak asking this but does anyone have a good resource to share for black men who are seriously…\n",
            "RT @Science_social9: I don't know why I feel weak asking this but does anyone have a good resource to share for black men who are seriously…\n",
            "I don’t wanna attack the kpop community but serious things really need to be talked about other then every little t… https://t.co/XIWKCNhLAK\n",
            "RT @AriaK91361885: Why eyes and tongue didn’t protrude? \n",
            "What were the injury marks? \n",
            "Why the ligature mark was not V shaped? \n",
            "Who scripted…\n"
          ],
          "name": "stdout"
        },
        {
          "output_type": "execute_result",
          "data": {
            "text/html": [
              "<div>\n",
              "<style scoped>\n",
              "    .dataframe tbody tr th:only-of-type {\n",
              "        vertical-align: middle;\n",
              "    }\n",
              "\n",
              "    .dataframe tbody tr th {\n",
              "        vertical-align: top;\n",
              "    }\n",
              "\n",
              "    .dataframe thead th {\n",
              "        text-align: right;\n",
              "    }\n",
              "</style>\n",
              "<table border=\"1\" class=\"dataframe\">\n",
              "  <thead>\n",
              "    <tr style=\"text-align: right;\">\n",
              "      <th></th>\n",
              "      <th>created_at</th>\n",
              "      <th>tweet_id</th>\n",
              "      <th>tweet_text</th>\n",
              "    </tr>\n",
              "  </thead>\n",
              "  <tbody>\n",
              "    <tr>\n",
              "      <th>0</th>\n",
              "      <td>2021-02-10 11:01:13</td>\n",
              "      <td>1359457388735135745</td>\n",
              "      <td>The most thorough follow-up of sex-reassigned people—extending over 30 years in Sweden - documents their lifelong m… https://t.co/T3IHOzjwwA</td>\n",
              "    </tr>\n",
              "    <tr>\n",
              "      <th>1</th>\n",
              "      <td>2021-02-10 11:01:11</td>\n",
              "      <td>1359457379411181576</td>\n",
              "      <td>RT @Science_social9: I don't know why I feel weak asking this but does anyone have a good resource to share for black men who are seriously…</td>\n",
              "    </tr>\n",
              "    <tr>\n",
              "      <th>2</th>\n",
              "      <td>2021-02-10 11:01:06</td>\n",
              "      <td>1359457359525908480</td>\n",
              "      <td>RT @hasbeemasputra: I look forward to your support in future mental health initiatives Senator @razalidris\\n \\nYou can support the mental hea…</td>\n",
              "    </tr>\n",
              "    <tr>\n",
              "      <th>3</th>\n",
              "      <td>2021-02-10 11:00:54</td>\n",
              "      <td>1359457308196167680</td>\n",
              "      <td>RT @jeffgernst: An autopsy finds that the death of Keyla Martinez - who died while in police custody within hours of being detained - was a…</td>\n",
              "    </tr>\n",
              "    <tr>\n",
              "      <th>4</th>\n",
              "      <td>2021-02-10 11:00:53</td>\n",
              "      <td>1359457305671081985</td>\n",
              "      <td>RT @BabySingh99: West Bengal ranks number ONE in 🌾 Vegetable Production.\\nBJP Sarkar should learn from  @MamataOfficial 🙏 the great CM ever.…</td>\n",
              "    </tr>\n",
              "    <tr>\n",
              "      <th>5</th>\n",
              "      <td>2021-02-10 11:00:53</td>\n",
              "      <td>1359457304203186181</td>\n",
              "      <td>RT @Science_social9: I don't know why I feel weak asking this but does anyone have a good resource to share for black men who are seriously…</td>\n",
              "    </tr>\n",
              "    <tr>\n",
              "      <th>6</th>\n",
              "      <td>2021-02-10 11:00:52</td>\n",
              "      <td>1359457301350895629</td>\n",
              "      <td>RT @Anonymo85632208: SUSHANT DIDN'T COMMITTED SUICIDE\\n\\n@ips_nupurprasad \\n\\nFILE 302 IN SSR MURDER CASE?</td>\n",
              "    </tr>\n",
              "    <tr>\n",
              "      <th>7</th>\n",
              "      <td>2021-02-10 11:00:51</td>\n",
              "      <td>1359457295793606661</td>\n",
              "      <td>RT @Science_social9: I don't know why I feel weak asking this but does anyone have a good resource to share for black men who are seriously…</td>\n",
              "    </tr>\n",
              "    <tr>\n",
              "      <th>8</th>\n",
              "      <td>2021-02-10 11:00:51</td>\n",
              "      <td>1359457295160250374</td>\n",
              "      <td>VAB's Steering Team is grateful to have recently been given the opportunity to receive Suicide Prevention Training… https://t.co/RoHrXfxfQZ</td>\n",
              "    </tr>\n",
              "    <tr>\n",
              "      <th>9</th>\n",
              "      <td>2021-02-10 11:00:47</td>\n",
              "      <td>1359457280169705475</td>\n",
              "      <td>@lapinleader i have the one hour version looped too😭 its way too catchy for a song about depression and suicide</td>\n",
              "    </tr>\n",
              "    <tr>\n",
              "      <th>10</th>\n",
              "      <td>2021-02-10 11:00:46</td>\n",
              "      <td>1359457274473844739</td>\n",
              "      <td>RT @Official__Jyoti: #KVOSTV \\nCan suicide really solve a problem? Life is such a precious gift from God, read Gayan Ganga written by the wo…</td>\n",
              "    </tr>\n",
              "    <tr>\n",
              "      <th>11</th>\n",
              "      <td>2021-02-10 11:00:45</td>\n",
              "      <td>1359457272838184960</td>\n",
              "      <td>@ParadouMichael @dj_forrester @georgegalloway They will never explain the economic suicide, Sturgeon would shit her… https://t.co/psp8TYBiEa</td>\n",
              "    </tr>\n",
              "    <tr>\n",
              "      <th>12</th>\n",
              "      <td>2021-02-10 11:00:38</td>\n",
              "      <td>1359457242903371778</td>\n",
              "      <td>RT @makaylathinks: 1. suicide prevention hotline in the US: 1-800-273-8255\\n2. this is a joke about a grounding technique used to prevent pa…</td>\n",
              "    </tr>\n",
              "    <tr>\n",
              "      <th>13</th>\n",
              "      <td>2021-02-10 11:00:33</td>\n",
              "      <td>1359457220530962434</td>\n",
              "      <td>RT @ChikeluSc: @ewnupdates @MiaLindeque And there are spikes in loss of businesses and jobs, retrenchment, depression, suicide and so on..,…</td>\n",
              "    </tr>\n",
              "    <tr>\n",
              "      <th>14</th>\n",
              "      <td>2021-02-10 11:00:32</td>\n",
              "      <td>1359457217364123649</td>\n",
              "      <td>RT @Rajkuma36644920: #KVOSTV \\nCan suicide really solve a problem? Life is such a precious gift from God, read Gayan Ganga written by the wo…</td>\n",
              "    </tr>\n",
              "    <tr>\n",
              "      <th>15</th>\n",
              "      <td>2021-02-10 11:00:30</td>\n",
              "      <td>1359457207490781185</td>\n",
              "      <td>Pieta provide free counselling to those with suicidal ideation, those engaging in self-harm, and those bereaved by… https://t.co/xgC1q6lw6E</td>\n",
              "    </tr>\n",
              "    <tr>\n",
              "      <th>16</th>\n",
              "      <td>2021-02-10 11:00:20</td>\n",
              "      <td>1359457164906037251</td>\n",
              "      <td>RT @oXMandaMandaXo: ‼️The police did not shoot this man!! He committed suicide‼️Now all the people rioting need to follow his lead #getrido…</td>\n",
              "    </tr>\n",
              "    <tr>\n",
              "      <th>17</th>\n",
              "      <td>2021-02-10 11:00:19</td>\n",
              "      <td>1359457159747153927</td>\n",
              "      <td>The Bots are Artificial thus they can survive, etc, but not the 1st Living Beings, etc for They shall commit homici… https://t.co/Pznqr9IWg8</td>\n",
              "    </tr>\n",
              "    <tr>\n",
              "      <th>18</th>\n",
              "      <td>2021-02-10 11:00:16</td>\n",
              "      <td>1359457149248749568</td>\n",
              "      <td>kasia lenhardt commited suicide. the internet killed her... i am speechless</td>\n",
              "    </tr>\n",
              "    <tr>\n",
              "      <th>19</th>\n",
              "      <td>2021-02-10 11:00:16</td>\n",
              "      <td>1359457148762271746</td>\n",
              "      <td>RT @asemota: Macroeconomic games have been a game of resources and numbers. Digital resources are the new coal, oil, and gold. \\n\\nCut your p…</td>\n",
              "    </tr>\n",
              "    <tr>\n",
              "      <th>20</th>\n",
              "      <td>2021-02-10 11:00:16</td>\n",
              "      <td>1359457147122245632</td>\n",
              "      <td>A comparison of brain tissues taken from individuals who died by suicide has for the first time linked chronic depr… https://t.co/N8duHX20RC</td>\n",
              "    </tr>\n",
              "    <tr>\n",
              "      <th>21</th>\n",
              "      <td>2021-02-10 11:00:15</td>\n",
              "      <td>1359457145180323840</td>\n",
              "      <td>@kimxtellz Amen thank you cuz I tell you no lie I was seriously over here contemplating Suicide the past couple nights .</td>\n",
              "    </tr>\n",
              "    <tr>\n",
              "      <th>22</th>\n",
              "      <td>2021-02-10 11:00:14</td>\n",
              "      <td>1359457141329829888</td>\n",
              "      <td>wow, the mlp writers really said \"we're gonna create an allegory for medically assisted suicide in our rainbow horse cartoon\"</td>\n",
              "    </tr>\n",
              "    <tr>\n",
              "      <th>23</th>\n",
              "      <td>2021-02-10 11:00:09</td>\n",
              "      <td>1359457121637523458</td>\n",
              "      <td>RT @macchioss: — Message for Super Junior Haters\\n\\nI understand that my favorite group doesn't like you, however there's no need to hint at…</td>\n",
              "    </tr>\n",
              "    <tr>\n",
              "      <th>24</th>\n",
              "      <td>2021-02-10 11:00:06</td>\n",
              "      <td>1359457105124720643</td>\n",
              "      <td>RT @itz_mizdee: Suicide figures are up 200% since lockdown. Could 2 followers please copy and re-post this tweet? \\n\\nCall 1-800-273-8255 (US…</td>\n",
              "    </tr>\n",
              "    <tr>\n",
              "      <th>25</th>\n",
              "      <td>2021-02-10 11:00:03</td>\n",
              "      <td>1359457095444234240</td>\n",
              "      <td>RT @Science_social9: I don't know why I feel weak asking this but does anyone have a good resource to share for black men who are seriously…</td>\n",
              "    </tr>\n",
              "    <tr>\n",
              "      <th>26</th>\n",
              "      <td>2021-02-10 11:00:01</td>\n",
              "      <td>1359457087231647748</td>\n",
              "      <td>Mohammad Thalji al-Rajabi was 15 when he was pushed to commit a suicide stabbing attack. We can no longer allow the… https://t.co/imcJnDiafs</td>\n",
              "    </tr>\n",
              "    <tr>\n",
              "      <th>27</th>\n",
              "      <td>2021-02-10 10:59:58</td>\n",
              "      <td>1359457074816688129</td>\n",
              "      <td>RT @OfficialKabirji: #SayNoToDowry \\nEvery 68 minutes, a woman is murdered or compelled to commit suicide for dowry in India.\\n\\nBut now Saint…</td>\n",
              "    </tr>\n",
              "    <tr>\n",
              "      <th>28</th>\n",
              "      <td>2021-02-10 10:59:58</td>\n",
              "      <td>1359457074057388039</td>\n",
              "      <td>RT @Mayur4SSR: CBI when will you impose 302 in SSR case ?\\n\\nWhen will you rule out Suicide angle??\\n\\nIt's high time now CBI you should impose…</td>\n",
              "    </tr>\n",
              "    <tr>\n",
              "      <th>29</th>\n",
              "      <td>2021-02-10 10:59:55</td>\n",
              "      <td>1359457061357178881</td>\n",
              "      <td>RT @Science_social9: I don't know why I feel weak asking this but does anyone have a good resource to share for black men who are seriously…</td>\n",
              "    </tr>\n",
              "    <tr>\n",
              "      <th>30</th>\n",
              "      <td>2021-02-10 10:59:53</td>\n",
              "      <td>1359457054029606915</td>\n",
              "      <td>@Riteishd @narendramodi @ghulamnazad Crocodile tears! Where was his affection for Azad when Azad ji was pleading hi… https://t.co/lp2iQUI4HP</td>\n",
              "    </tr>\n",
              "    <tr>\n",
              "      <th>31</th>\n",
              "      <td>2021-02-10 10:59:52</td>\n",
              "      <td>1359457049210466306</td>\n",
              "      <td>RT @TalbertSwan: In Trump’s #CapitalRiots..\\n\\n1 cop was murdered with a fire extinguisher\\n2 cops committed suicide in the aftermath\\n\\n140 cop…</td>\n",
              "    </tr>\n",
              "    <tr>\n",
              "      <th>32</th>\n",
              "      <td>2021-02-10 10:59:51</td>\n",
              "      <td>1359457045301264386</td>\n",
              "      <td>RT @kundu_koushani: No stool or chair is found in Sushant's room. No suicide note was found. Then how could Meme police termed it a suicide…</td>\n",
              "    </tr>\n",
              "    <tr>\n",
              "      <th>33</th>\n",
              "      <td>2021-02-10 10:59:51</td>\n",
              "      <td>1359457043728375810</td>\n",
              "      <td>RT @snehalssrfan: Where is the suicide note?\\nWhere is the knife used to cut that green cloth?\\nWhere is the stool/chair used for \"suicide\"?…</td>\n",
              "    </tr>\n",
              "    <tr>\n",
              "      <th>34</th>\n",
              "      <td>2021-02-10 10:59:50</td>\n",
              "      <td>1359457041480351746</td>\n",
              "      <td>RT @Science_social9: I don't know why I feel weak asking this but does anyone have a good resource to share for black men who are seriously…</td>\n",
              "    </tr>\n",
              "    <tr>\n",
              "      <th>35</th>\n",
              "      <td>2021-02-10 10:59:50</td>\n",
              "      <td>1359457039970369536</td>\n",
              "      <td>RT @panamena009: @BrielleClaremo1 @luckydevilgaia @T_FisherKing It is hardly settled science. It’s social policy. Men with gender dysphoria…</td>\n",
              "    </tr>\n",
              "    <tr>\n",
              "      <th>36</th>\n",
              "      <td>2021-02-10 10:59:49</td>\n",
              "      <td>1359457034471571462</td>\n",
              "      <td>RT @AriaK91361885: Why eyes and tongue didn’t protrude? \\nWhat were the injury marks? \\nWhy the ligature mark was not V shaped? \\nWho scripted…</td>\n",
              "    </tr>\n",
              "    <tr>\n",
              "      <th>37</th>\n",
              "      <td>2021-02-10 10:59:47</td>\n",
              "      <td>1359457028498989056</td>\n",
              "      <td>RT @WeCanDoThisGrp: 1) Fathers mental health during perinatal period (conception to 1 year post-delivery) is currently overlooked, this is…</td>\n",
              "    </tr>\n",
              "    <tr>\n",
              "      <th>38</th>\n",
              "      <td>2021-02-10 10:59:47</td>\n",
              "      <td>1359457025533517825</td>\n",
              "      <td>RT @cnni: A 20-year-old college student died by suicide last summer after he saw a negative balance of $730,000 in his trading account and…</td>\n",
              "    </tr>\n",
              "    <tr>\n",
              "      <th>39</th>\n",
              "      <td>2021-02-10 10:59:45</td>\n",
              "      <td>1359457018923343873</td>\n",
              "      <td>RT @Science_social9: I don't know why I feel weak asking this but does anyone have a good resource to share for black men who are seriously…</td>\n",
              "    </tr>\n",
              "    <tr>\n",
              "      <th>40</th>\n",
              "      <td>2021-02-10 10:59:43</td>\n",
              "      <td>1359457008848678914</td>\n",
              "      <td>RT @VickiVBowen2: @HotlineJosh I live in Louisiana. \\nSenator Cassidy voted correctly. \\nI hope 11 more Republicans do the Right thing and vo…</td>\n",
              "    </tr>\n",
              "    <tr>\n",
              "      <th>41</th>\n",
              "      <td>2021-02-10 10:59:41</td>\n",
              "      <td>1359457001193971712</td>\n",
              "      <td>RT @SrijitaTwinkle: There are 100 proofs of his brutal murder  present everywhere ❗\\n\\nBut there is not a single evidence of suicide present…</td>\n",
              "    </tr>\n",
              "    <tr>\n",
              "      <th>42</th>\n",
              "      <td>2021-02-10 10:59:32</td>\n",
              "      <td>1359456965710258178</td>\n",
              "      <td>@BrielleClaremo1 @luckydevilgaia @T_FisherKing It is hardly settled science. It’s social policy. Men with gender dy… https://t.co/JBFDKYIcwj</td>\n",
              "    </tr>\n",
              "    <tr>\n",
              "      <th>43</th>\n",
              "      <td>2021-02-10 10:59:31</td>\n",
              "      <td>1359456960840536067</td>\n",
              "      <td>RT @_SSRFan: Enough said by our own GULSHAN\\n\\nSush didn’t commit Suicide.\\nPeriod!\\n\\nMa’am, a testimony from the victim himself. Pls watch it…</td>\n",
              "    </tr>\n",
              "    <tr>\n",
              "      <th>44</th>\n",
              "      <td>2021-02-10 10:59:29</td>\n",
              "      <td>1359456950782545924</td>\n",
              "      <td>RT @Sir_Warrior: What a disgrace,\\nMurder stage as suicide in haste,\\nEvidences erased,\\nNarrations rephrased,\\n\\nIt's now 241 days,\\nWe are livi…</td>\n",
              "    </tr>\n",
              "    <tr>\n",
              "      <th>45</th>\n",
              "      <td>2021-02-10 10:59:28</td>\n",
              "      <td>1359456948031168513</td>\n",
              "      <td>RT @AriaK91361885: Why eyes and tongue didn’t protrude? \\nWhat were the injury marks? \\nWhy the ligature mark was not V shaped? \\nWho scripted…</td>\n",
              "    </tr>\n",
              "    <tr>\n",
              "      <th>46</th>\n",
              "      <td>2021-02-10 10:59:27</td>\n",
              "      <td>1359456941790142470</td>\n",
              "      <td>RT @Science_social9: I don't know why I feel weak asking this but does anyone have a good resource to share for black men who are seriously…</td>\n",
              "    </tr>\n",
              "    <tr>\n",
              "      <th>47</th>\n",
              "      <td>2021-02-10 10:59:26</td>\n",
              "      <td>1359456940309573635</td>\n",
              "      <td>RT @Science_social9: I don't know why I feel weak asking this but does anyone have a good resource to share for black men who are seriously…</td>\n",
              "    </tr>\n",
              "    <tr>\n",
              "      <th>48</th>\n",
              "      <td>2021-02-10 10:59:25</td>\n",
              "      <td>1359456936144625664</td>\n",
              "      <td>I don’t wanna attack the kpop community but serious things really need to be talked about other then every little t… https://t.co/XIWKCNhLAK</td>\n",
              "    </tr>\n",
              "    <tr>\n",
              "      <th>49</th>\n",
              "      <td>2021-02-10 10:59:24</td>\n",
              "      <td>1359456931673350144</td>\n",
              "      <td>RT @AriaK91361885: Why eyes and tongue didn’t protrude? \\nWhat were the injury marks? \\nWhy the ligature mark was not V shaped? \\nWho scripted…</td>\n",
              "    </tr>\n",
              "  </tbody>\n",
              "</table>\n",
              "</div>"
            ],
            "text/plain": [
              "            created_at  ...                                                                                                                                          tweet_text\n",
              "0  2021-02-10 11:01:13  ...        The most thorough follow-up of sex-reassigned people—extending over 30 years in Sweden - documents their lifelong m… https://t.co/T3IHOzjwwA\n",
              "1  2021-02-10 11:01:11  ...        RT @Science_social9: I don't know why I feel weak asking this but does anyone have a good resource to share for black men who are seriously…\n",
              "2  2021-02-10 11:01:06  ...      RT @hasbeemasputra: I look forward to your support in future mental health initiatives Senator @razalidris\\n \\nYou can support the mental hea…\n",
              "3  2021-02-10 11:00:54  ...        RT @jeffgernst: An autopsy finds that the death of Keyla Martinez - who died while in police custody within hours of being detained - was a…\n",
              "4  2021-02-10 11:00:53  ...       RT @BabySingh99: West Bengal ranks number ONE in 🌾 Vegetable Production.\\nBJP Sarkar should learn from  @MamataOfficial 🙏 the great CM ever.…\n",
              "5  2021-02-10 11:00:53  ...        RT @Science_social9: I don't know why I feel weak asking this but does anyone have a good resource to share for black men who are seriously…\n",
              "6  2021-02-10 11:00:52  ...                                          RT @Anonymo85632208: SUSHANT DIDN'T COMMITTED SUICIDE\\n\\n@ips_nupurprasad \\n\\nFILE 302 IN SSR MURDER CASE?\n",
              "7  2021-02-10 11:00:51  ...        RT @Science_social9: I don't know why I feel weak asking this but does anyone have a good resource to share for black men who are seriously…\n",
              "8  2021-02-10 11:00:51  ...         VAB's Steering Team is grateful to have recently been given the opportunity to receive Suicide Prevention Training… https://t.co/RoHrXfxfQZ\n",
              "9  2021-02-10 11:00:47  ...                                     @lapinleader i have the one hour version looped too😭 its way too catchy for a song about depression and suicide\n",
              "10 2021-02-10 11:00:46  ...       RT @Official__Jyoti: #KVOSTV \\nCan suicide really solve a problem? Life is such a precious gift from God, read Gayan Ganga written by the wo…\n",
              "11 2021-02-10 11:00:45  ...        @ParadouMichael @dj_forrester @georgegalloway They will never explain the economic suicide, Sturgeon would shit her… https://t.co/psp8TYBiEa\n",
              "12 2021-02-10 11:00:38  ...       RT @makaylathinks: 1. suicide prevention hotline in the US: 1-800-273-8255\\n2. this is a joke about a grounding technique used to prevent pa…\n",
              "13 2021-02-10 11:00:33  ...        RT @ChikeluSc: @ewnupdates @MiaLindeque And there are spikes in loss of businesses and jobs, retrenchment, depression, suicide and so on..,…\n",
              "14 2021-02-10 11:00:32  ...       RT @Rajkuma36644920: #KVOSTV \\nCan suicide really solve a problem? Life is such a precious gift from God, read Gayan Ganga written by the wo…\n",
              "15 2021-02-10 11:00:30  ...         Pieta provide free counselling to those with suicidal ideation, those engaging in self-harm, and those bereaved by… https://t.co/xgC1q6lw6E\n",
              "16 2021-02-10 11:00:20  ...        RT @oXMandaMandaXo: ‼️The police did not shoot this man!! He committed suicide‼️Now all the people rioting need to follow his lead #getrido…\n",
              "17 2021-02-10 11:00:19  ...        The Bots are Artificial thus they can survive, etc, but not the 1st Living Beings, etc for They shall commit homici… https://t.co/Pznqr9IWg8\n",
              "18 2021-02-10 11:00:16  ...                                                                         kasia lenhardt commited suicide. the internet killed her... i am speechless\n",
              "19 2021-02-10 11:00:16  ...      RT @asemota: Macroeconomic games have been a game of resources and numbers. Digital resources are the new coal, oil, and gold. \\n\\nCut your p…\n",
              "20 2021-02-10 11:00:16  ...        A comparison of brain tissues taken from individuals who died by suicide has for the first time linked chronic depr… https://t.co/N8duHX20RC\n",
              "21 2021-02-10 11:00:15  ...                            @kimxtellz Amen thank you cuz I tell you no lie I was seriously over here contemplating Suicide the past couple nights .\n",
              "22 2021-02-10 11:00:14  ...                       wow, the mlp writers really said \"we're gonna create an allegory for medically assisted suicide in our rainbow horse cartoon\"\n",
              "23 2021-02-10 11:00:09  ...       RT @macchioss: — Message for Super Junior Haters\\n\\nI understand that my favorite group doesn't like you, however there's no need to hint at…\n",
              "24 2021-02-10 11:00:06  ...      RT @itz_mizdee: Suicide figures are up 200% since lockdown. Could 2 followers please copy and re-post this tweet? \\n\\nCall 1-800-273-8255 (US…\n",
              "25 2021-02-10 11:00:03  ...        RT @Science_social9: I don't know why I feel weak asking this but does anyone have a good resource to share for black men who are seriously…\n",
              "26 2021-02-10 11:00:01  ...        Mohammad Thalji al-Rajabi was 15 when he was pushed to commit a suicide stabbing attack. We can no longer allow the… https://t.co/imcJnDiafs\n",
              "27 2021-02-10 10:59:58  ...     RT @OfficialKabirji: #SayNoToDowry \\nEvery 68 minutes, a woman is murdered or compelled to commit suicide for dowry in India.\\n\\nBut now Saint…\n",
              "28 2021-02-10 10:59:58  ...    RT @Mayur4SSR: CBI when will you impose 302 in SSR case ?\\n\\nWhen will you rule out Suicide angle??\\n\\nIt's high time now CBI you should impose…\n",
              "29 2021-02-10 10:59:55  ...        RT @Science_social9: I don't know why I feel weak asking this but does anyone have a good resource to share for black men who are seriously…\n",
              "30 2021-02-10 10:59:53  ...        @Riteishd @narendramodi @ghulamnazad Crocodile tears! Where was his affection for Azad when Azad ji was pleading hi… https://t.co/lp2iQUI4HP\n",
              "31 2021-02-10 10:59:52  ...   RT @TalbertSwan: In Trump’s #CapitalRiots..\\n\\n1 cop was murdered with a fire extinguisher\\n2 cops committed suicide in the aftermath\\n\\n140 cop…\n",
              "32 2021-02-10 10:59:51  ...        RT @kundu_koushani: No stool or chair is found in Sushant's room. No suicide note was found. Then how could Meme police termed it a suicide…\n",
              "33 2021-02-10 10:59:51  ...       RT @snehalssrfan: Where is the suicide note?\\nWhere is the knife used to cut that green cloth?\\nWhere is the stool/chair used for \"suicide\"?…\n",
              "34 2021-02-10 10:59:50  ...        RT @Science_social9: I don't know why I feel weak asking this but does anyone have a good resource to share for black men who are seriously…\n",
              "35 2021-02-10 10:59:50  ...        RT @panamena009: @BrielleClaremo1 @luckydevilgaia @T_FisherKing It is hardly settled science. It’s social policy. Men with gender dysphoria…\n",
              "36 2021-02-10 10:59:49  ...     RT @AriaK91361885: Why eyes and tongue didn’t protrude? \\nWhat were the injury marks? \\nWhy the ligature mark was not V shaped? \\nWho scripted…\n",
              "37 2021-02-10 10:59:47  ...         RT @WeCanDoThisGrp: 1) Fathers mental health during perinatal period (conception to 1 year post-delivery) is currently overlooked, this is…\n",
              "38 2021-02-10 10:59:47  ...         RT @cnni: A 20-year-old college student died by suicide last summer after he saw a negative balance of $730,000 in his trading account and…\n",
              "39 2021-02-10 10:59:45  ...        RT @Science_social9: I don't know why I feel weak asking this but does anyone have a good resource to share for black men who are seriously…\n",
              "40 2021-02-10 10:59:43  ...      RT @VickiVBowen2: @HotlineJosh I live in Louisiana. \\nSenator Cassidy voted correctly. \\nI hope 11 more Republicans do the Right thing and vo…\n",
              "41 2021-02-10 10:59:41  ...       RT @SrijitaTwinkle: There are 100 proofs of his brutal murder  present everywhere ❗\\n\\nBut there is not a single evidence of suicide present…\n",
              "42 2021-02-10 10:59:32  ...        @BrielleClaremo1 @luckydevilgaia @T_FisherKing It is hardly settled science. It’s social policy. Men with gender dy… https://t.co/JBFDKYIcwj\n",
              "43 2021-02-10 10:59:31  ...    RT @_SSRFan: Enough said by our own GULSHAN\\n\\nSush didn’t commit Suicide.\\nPeriod!\\n\\nMa’am, a testimony from the victim himself. Pls watch it…\n",
              "44 2021-02-10 10:59:29  ...  RT @Sir_Warrior: What a disgrace,\\nMurder stage as suicide in haste,\\nEvidences erased,\\nNarrations rephrased,\\n\\nIt's now 241 days,\\nWe are livi…\n",
              "45 2021-02-10 10:59:28  ...     RT @AriaK91361885: Why eyes and tongue didn’t protrude? \\nWhat were the injury marks? \\nWhy the ligature mark was not V shaped? \\nWho scripted…\n",
              "46 2021-02-10 10:59:27  ...        RT @Science_social9: I don't know why I feel weak asking this but does anyone have a good resource to share for black men who are seriously…\n",
              "47 2021-02-10 10:59:26  ...        RT @Science_social9: I don't know why I feel weak asking this but does anyone have a good resource to share for black men who are seriously…\n",
              "48 2021-02-10 10:59:25  ...        I don’t wanna attack the kpop community but serious things really need to be talked about other then every little t… https://t.co/XIWKCNhLAK\n",
              "49 2021-02-10 10:59:24  ...     RT @AriaK91361885: Why eyes and tongue didn’t protrude? \\nWhat were the injury marks? \\nWhy the ligature mark was not V shaped? \\nWho scripted…\n",
              "\n",
              "[50 rows x 3 columns]"
            ]
          },
          "metadata": {
            "tags": []
          },
          "execution_count": 22
        }
      ]
    },
    {
      "cell_type": "code",
      "metadata": {
        "colab": {
          "base_uri": "https://localhost:8080/"
        },
        "id": "4SMz1_apkd3N",
        "outputId": "8567fd49-b913-400c-ef8e-4a41edf0fa60"
      },
      "source": [
        "!python --version"
      ],
      "execution_count": null,
      "outputs": [
        {
          "output_type": "stream",
          "text": [
            "Python 3.6.9\n"
          ],
          "name": "stdout"
        }
      ]
    },
    {
      "cell_type": "code",
      "metadata": {
        "colab": {
          "base_uri": "https://localhost:8080/"
        },
        "id": "4N_Kz5g8qNca",
        "outputId": "accb05d2-979d-4fd4-cba9-dc3cb13735e4"
      },
      "source": [
        "!pip install xgboost"
      ],
      "execution_count": null,
      "outputs": [
        {
          "output_type": "stream",
          "text": [
            "Requirement already satisfied: xgboost in /usr/local/lib/python3.6/dist-packages (0.90)\n",
            "Requirement already satisfied: numpy in /usr/local/lib/python3.6/dist-packages (from xgboost) (1.19.5)\n",
            "Requirement already satisfied: scipy in /usr/local/lib/python3.6/dist-packages (from xgboost) (1.4.1)\n"
          ],
          "name": "stdout"
        }
      ]
    },
    {
      "cell_type": "markdown",
      "metadata": {
        "id": "NBv1M8Wwz1LL"
      },
      "source": [
        ""
      ]
    },
    {
      "cell_type": "code",
      "metadata": {
        "id": "o3TIC1tgAVsP",
        "colab": {
          "base_uri": "https://localhost:8080/",
          "height": 35
        },
        "outputId": "2ed96549-254b-4545-9086-953621c04b69"
      },
      "source": [
        "import sklearn\r\n",
        "sklearn.__version__"
      ],
      "execution_count": null,
      "outputs": [
        {
          "output_type": "execute_result",
          "data": {
            "application/vnd.google.colaboratory.intrinsic+json": {
              "type": "string"
            },
            "text/plain": [
              "'0.22.2.post1'"
            ]
          },
          "metadata": {
            "tags": []
          },
          "execution_count": 1
        }
      ]
    },
    {
      "cell_type": "code",
      "metadata": {
        "id": "D7UIz04j6JRn"
      },
      "source": [
        ""
      ],
      "execution_count": null,
      "outputs": []
    }
  ]
}