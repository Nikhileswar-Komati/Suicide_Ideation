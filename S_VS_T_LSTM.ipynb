{
  "nbformat": 4,
  "nbformat_minor": 0,
  "metadata": {
    "colab": {
      "name": "V2_XGB_Deployment.ipynb",
      "provenance": [],
      "authorship_tag": "ABX9TyNFcOdb/EHnp1SutwZlFwn5",
      "include_colab_link": true
    },
    "kernelspec": {
      "name": "python3",
      "display_name": "Python 3"
    }
  },
  "cells": [
    {
      "cell_type": "markdown",
      "metadata": {
        "id": "view-in-github",
        "colab_type": "text"
      },
      "source": [
        "<a href=\"https://colab.research.google.com/github/Nikhileswar-Komati/Suicide_Ideation/blob/master/S_VS_T_LSTM.ipynb\" target=\"_parent\"><img src=\"https://colab.research.google.com/assets/colab-badge.svg\" alt=\"Open In Colab\"/></a>"
      ]
    },
    {
      "cell_type": "code",
      "metadata": {
        "id": "HTlu-l_bdI1Y",
        "colab": {
          "base_uri": "https://localhost:8080/"
        },
        "outputId": "da1466f8-227e-4a86-d4e2-0d4a75b0192e"
      },
      "source": [
        "!wget --quiet https://raw.githubusercontent.com/tensorflow/models/master/official/nlp/bert/tokenization.py\n",
        "!pip install sentencepiece\n",
        "!pip install bert-for-tf2"
      ],
      "execution_count": 1,
      "outputs": [
        {
          "output_type": "stream",
          "text": [
            "Collecting sentencepiece\n",
            "\u001b[?25l  Downloading https://files.pythonhosted.org/packages/f5/99/e0808cb947ba10f575839c43e8fafc9cc44e4a7a2c8f79c60db48220a577/sentencepiece-0.1.95-cp37-cp37m-manylinux2014_x86_64.whl (1.2MB)\n",
            "\r\u001b[K     |▎                               | 10kB 14.4MB/s eta 0:00:01\r\u001b[K     |▌                               | 20kB 16.4MB/s eta 0:00:01\r\u001b[K     |▉                               | 30kB 9.9MB/s eta 0:00:01\r\u001b[K     |█                               | 40kB 9.8MB/s eta 0:00:01\r\u001b[K     |█▍                              | 51kB 7.8MB/s eta 0:00:01\r\u001b[K     |█▋                              | 61kB 8.1MB/s eta 0:00:01\r\u001b[K     |██                              | 71kB 8.3MB/s eta 0:00:01\r\u001b[K     |██▏                             | 81kB 8.5MB/s eta 0:00:01\r\u001b[K     |██▌                             | 92kB 8.1MB/s eta 0:00:01\r\u001b[K     |██▊                             | 102kB 7.1MB/s eta 0:00:01\r\u001b[K     |███                             | 112kB 7.1MB/s eta 0:00:01\r\u001b[K     |███▎                            | 122kB 7.1MB/s eta 0:00:01\r\u001b[K     |███▌                            | 133kB 7.1MB/s eta 0:00:01\r\u001b[K     |███▉                            | 143kB 7.1MB/s eta 0:00:01\r\u001b[K     |████                            | 153kB 7.1MB/s eta 0:00:01\r\u001b[K     |████▍                           | 163kB 7.1MB/s eta 0:00:01\r\u001b[K     |████▋                           | 174kB 7.1MB/s eta 0:00:01\r\u001b[K     |█████                           | 184kB 7.1MB/s eta 0:00:01\r\u001b[K     |█████▏                          | 194kB 7.1MB/s eta 0:00:01\r\u001b[K     |█████▌                          | 204kB 7.1MB/s eta 0:00:01\r\u001b[K     |█████▊                          | 215kB 7.1MB/s eta 0:00:01\r\u001b[K     |██████                          | 225kB 7.1MB/s eta 0:00:01\r\u001b[K     |██████▎                         | 235kB 7.1MB/s eta 0:00:01\r\u001b[K     |██████▌                         | 245kB 7.1MB/s eta 0:00:01\r\u001b[K     |██████▉                         | 256kB 7.1MB/s eta 0:00:01\r\u001b[K     |███████                         | 266kB 7.1MB/s eta 0:00:01\r\u001b[K     |███████▍                        | 276kB 7.1MB/s eta 0:00:01\r\u001b[K     |███████▋                        | 286kB 7.1MB/s eta 0:00:01\r\u001b[K     |████████                        | 296kB 7.1MB/s eta 0:00:01\r\u001b[K     |████████▏                       | 307kB 7.1MB/s eta 0:00:01\r\u001b[K     |████████▍                       | 317kB 7.1MB/s eta 0:00:01\r\u001b[K     |████████▊                       | 327kB 7.1MB/s eta 0:00:01\r\u001b[K     |█████████                       | 337kB 7.1MB/s eta 0:00:01\r\u001b[K     |█████████▎                      | 348kB 7.1MB/s eta 0:00:01\r\u001b[K     |█████████▌                      | 358kB 7.1MB/s eta 0:00:01\r\u001b[K     |█████████▉                      | 368kB 7.1MB/s eta 0:00:01\r\u001b[K     |██████████                      | 378kB 7.1MB/s eta 0:00:01\r\u001b[K     |██████████▍                     | 389kB 7.1MB/s eta 0:00:01\r\u001b[K     |██████████▋                     | 399kB 7.1MB/s eta 0:00:01\r\u001b[K     |███████████                     | 409kB 7.1MB/s eta 0:00:01\r\u001b[K     |███████████▏                    | 419kB 7.1MB/s eta 0:00:01\r\u001b[K     |███████████▍                    | 430kB 7.1MB/s eta 0:00:01\r\u001b[K     |███████████▊                    | 440kB 7.1MB/s eta 0:00:01\r\u001b[K     |████████████                    | 450kB 7.1MB/s eta 0:00:01\r\u001b[K     |████████████▎                   | 460kB 7.1MB/s eta 0:00:01\r\u001b[K     |████████████▌                   | 471kB 7.1MB/s eta 0:00:01\r\u001b[K     |████████████▉                   | 481kB 7.1MB/s eta 0:00:01\r\u001b[K     |█████████████                   | 491kB 7.1MB/s eta 0:00:01\r\u001b[K     |█████████████▍                  | 501kB 7.1MB/s eta 0:00:01\r\u001b[K     |█████████████▋                  | 512kB 7.1MB/s eta 0:00:01\r\u001b[K     |█████████████▉                  | 522kB 7.1MB/s eta 0:00:01\r\u001b[K     |██████████████▏                 | 532kB 7.1MB/s eta 0:00:01\r\u001b[K     |██████████████▍                 | 542kB 7.1MB/s eta 0:00:01\r\u001b[K     |██████████████▊                 | 552kB 7.1MB/s eta 0:00:01\r\u001b[K     |███████████████                 | 563kB 7.1MB/s eta 0:00:01\r\u001b[K     |███████████████▎                | 573kB 7.1MB/s eta 0:00:01\r\u001b[K     |███████████████▌                | 583kB 7.1MB/s eta 0:00:01\r\u001b[K     |███████████████▉                | 593kB 7.1MB/s eta 0:00:01\r\u001b[K     |████████████████                | 604kB 7.1MB/s eta 0:00:01\r\u001b[K     |████████████████▍               | 614kB 7.1MB/s eta 0:00:01\r\u001b[K     |████████████████▋               | 624kB 7.1MB/s eta 0:00:01\r\u001b[K     |████████████████▉               | 634kB 7.1MB/s eta 0:00:01\r\u001b[K     |█████████████████▏              | 645kB 7.1MB/s eta 0:00:01\r\u001b[K     |█████████████████▍              | 655kB 7.1MB/s eta 0:00:01\r\u001b[K     |█████████████████▊              | 665kB 7.1MB/s eta 0:00:01\r\u001b[K     |██████████████████              | 675kB 7.1MB/s eta 0:00:01\r\u001b[K     |██████████████████▎             | 686kB 7.1MB/s eta 0:00:01\r\u001b[K     |██████████████████▌             | 696kB 7.1MB/s eta 0:00:01\r\u001b[K     |██████████████████▉             | 706kB 7.1MB/s eta 0:00:01\r\u001b[K     |███████████████████             | 716kB 7.1MB/s eta 0:00:01\r\u001b[K     |███████████████████▎            | 727kB 7.1MB/s eta 0:00:01\r\u001b[K     |███████████████████▋            | 737kB 7.1MB/s eta 0:00:01\r\u001b[K     |███████████████████▉            | 747kB 7.1MB/s eta 0:00:01\r\u001b[K     |████████████████████▏           | 757kB 7.1MB/s eta 0:00:01\r\u001b[K     |████████████████████▍           | 768kB 7.1MB/s eta 0:00:01\r\u001b[K     |████████████████████▊           | 778kB 7.1MB/s eta 0:00:01\r\u001b[K     |█████████████████████           | 788kB 7.1MB/s eta 0:00:01\r\u001b[K     |█████████████████████▎          | 798kB 7.1MB/s eta 0:00:01\r\u001b[K     |█████████████████████▌          | 808kB 7.1MB/s eta 0:00:01\r\u001b[K     |█████████████████████▉          | 819kB 7.1MB/s eta 0:00:01\r\u001b[K     |██████████████████████          | 829kB 7.1MB/s eta 0:00:01\r\u001b[K     |██████████████████████▎         | 839kB 7.1MB/s eta 0:00:01\r\u001b[K     |██████████████████████▋         | 849kB 7.1MB/s eta 0:00:01\r\u001b[K     |██████████████████████▉         | 860kB 7.1MB/s eta 0:00:01\r\u001b[K     |███████████████████████▏        | 870kB 7.1MB/s eta 0:00:01\r\u001b[K     |███████████████████████▍        | 880kB 7.1MB/s eta 0:00:01\r\u001b[K     |███████████████████████▊        | 890kB 7.1MB/s eta 0:00:01\r\u001b[K     |████████████████████████        | 901kB 7.1MB/s eta 0:00:01\r\u001b[K     |████████████████████████▎       | 911kB 7.1MB/s eta 0:00:01\r\u001b[K     |████████████████████████▌       | 921kB 7.1MB/s eta 0:00:01\r\u001b[K     |████████████████████████▊       | 931kB 7.1MB/s eta 0:00:01\r\u001b[K     |█████████████████████████       | 942kB 7.1MB/s eta 0:00:01\r\u001b[K     |█████████████████████████▎      | 952kB 7.1MB/s eta 0:00:01\r\u001b[K     |█████████████████████████▋      | 962kB 7.1MB/s eta 0:00:01\r\u001b[K     |█████████████████████████▉      | 972kB 7.1MB/s eta 0:00:01\r\u001b[K     |██████████████████████████▏     | 983kB 7.1MB/s eta 0:00:01\r\u001b[K     |██████████████████████████▍     | 993kB 7.1MB/s eta 0:00:01\r\u001b[K     |██████████████████████████▊     | 1.0MB 7.1MB/s eta 0:00:01\r\u001b[K     |███████████████████████████     | 1.0MB 7.1MB/s eta 0:00:01\r\u001b[K     |███████████████████████████▎    | 1.0MB 7.1MB/s eta 0:00:01\r\u001b[K     |███████████████████████████▌    | 1.0MB 7.1MB/s eta 0:00:01\r\u001b[K     |███████████████████████████▊    | 1.0MB 7.1MB/s eta 0:00:01\r\u001b[K     |████████████████████████████    | 1.1MB 7.1MB/s eta 0:00:01\r\u001b[K     |████████████████████████████▎   | 1.1MB 7.1MB/s eta 0:00:01\r\u001b[K     |████████████████████████████▋   | 1.1MB 7.1MB/s eta 0:00:01\r\u001b[K     |████████████████████████████▉   | 1.1MB 7.1MB/s eta 0:00:01\r\u001b[K     |█████████████████████████████▏  | 1.1MB 7.1MB/s eta 0:00:01\r\u001b[K     |█████████████████████████████▍  | 1.1MB 7.1MB/s eta 0:00:01\r\u001b[K     |█████████████████████████████▊  | 1.1MB 7.1MB/s eta 0:00:01\r\u001b[K     |██████████████████████████████  | 1.1MB 7.1MB/s eta 0:00:01\r\u001b[K     |██████████████████████████████▏ | 1.1MB 7.1MB/s eta 0:00:01\r\u001b[K     |██████████████████████████████▌ | 1.1MB 7.1MB/s eta 0:00:01\r\u001b[K     |██████████████████████████████▊ | 1.2MB 7.1MB/s eta 0:00:01\r\u001b[K     |███████████████████████████████ | 1.2MB 7.1MB/s eta 0:00:01\r\u001b[K     |███████████████████████████████▎| 1.2MB 7.1MB/s eta 0:00:01\r\u001b[K     |███████████████████████████████▋| 1.2MB 7.1MB/s eta 0:00:01\r\u001b[K     |███████████████████████████████▉| 1.2MB 7.1MB/s eta 0:00:01\r\u001b[K     |████████████████████████████████| 1.2MB 7.1MB/s \n",
            "\u001b[?25hInstalling collected packages: sentencepiece\n",
            "Successfully installed sentencepiece-0.1.95\n",
            "Collecting bert-for-tf2\n",
            "\u001b[?25l  Downloading https://files.pythonhosted.org/packages/a5/a1/acb891630749c56901e770a34d6bac8a509a367dd74a05daf7306952e910/bert-for-tf2-0.14.9.tar.gz (41kB)\n",
            "\u001b[K     |████████████████████████████████| 51kB 4.3MB/s \n",
            "\u001b[?25hCollecting py-params>=0.9.6\n",
            "  Downloading https://files.pythonhosted.org/packages/aa/e0/4f663d8abf83c8084b75b995bd2ab3a9512ebc5b97206fde38cef906ab07/py-params-0.10.2.tar.gz\n",
            "Collecting params-flow>=0.8.0\n",
            "  Downloading https://files.pythonhosted.org/packages/a9/95/ff49f5ebd501f142a6f0aaf42bcfd1c192dc54909d1d9eb84ab031d46056/params-flow-0.8.2.tar.gz\n",
            "Requirement already satisfied: numpy in /usr/local/lib/python3.7/dist-packages (from params-flow>=0.8.0->bert-for-tf2) (1.19.5)\n",
            "Requirement already satisfied: tqdm in /usr/local/lib/python3.7/dist-packages (from params-flow>=0.8.0->bert-for-tf2) (4.41.1)\n",
            "Building wheels for collected packages: bert-for-tf2, py-params, params-flow\n",
            "  Building wheel for bert-for-tf2 (setup.py) ... \u001b[?25l\u001b[?25hdone\n",
            "  Created wheel for bert-for-tf2: filename=bert_for_tf2-0.14.9-cp37-none-any.whl size=30535 sha256=a0f2948ed1514442442898e2a6e7011ac31b2d85ababfaa14cf8f597eea2816b\n",
            "  Stored in directory: /root/.cache/pip/wheels/a1/04/ee/347bd9f5b821b637c76411d280271a857aece00358896a230f\n",
            "  Building wheel for py-params (setup.py) ... \u001b[?25l\u001b[?25hdone\n",
            "  Created wheel for py-params: filename=py_params-0.10.2-cp37-none-any.whl size=7912 sha256=609ea0187224a7ecff162907dee212d7a127570ccb3fe984cce032e7a2fa7369\n",
            "  Stored in directory: /root/.cache/pip/wheels/d0/4a/70/ff12450229ff1955abf01f365051d4faae1c20aef53ab4cf09\n",
            "  Building wheel for params-flow (setup.py) ... \u001b[?25l\u001b[?25hdone\n",
            "  Created wheel for params-flow: filename=params_flow-0.8.2-cp37-none-any.whl size=19472 sha256=d851816572c8bfa0712be146fafa95623ad1414a2ac89f8a434746d602ed9be9\n",
            "  Stored in directory: /root/.cache/pip/wheels/08/c8/7f/81c86b9ff2b86e2c477e3914175be03e679e596067dc630c06\n",
            "Successfully built bert-for-tf2 py-params params-flow\n",
            "Installing collected packages: py-params, params-flow, bert-for-tf2\n",
            "Successfully installed bert-for-tf2-0.14.9 params-flow-0.8.2 py-params-0.10.2\n"
          ],
          "name": "stdout"
        }
      ]
    },
    {
      "cell_type": "code",
      "metadata": {
        "id": "b2DwSquv8qSy",
        "colab": {
          "base_uri": "https://localhost:8080/"
        },
        "outputId": "38807545-eeaf-4a97-b355-db7bc5dd41fd"
      },
      "source": [
        "import pandas as pd\n",
        "import nltk\n",
        "import numpy as np\n",
        "import matplotlib.pyplot as plt\n",
        "import seaborn as sns\n",
        "from sklearn.model_selection import train_test_split\n",
        "from sklearn.preprocessing import LabelEncoder\n",
        "from sklearn.feature_extraction.text import CountVectorizer\n",
        "from sklearn.naive_bayes import MultinomialNB\n",
        "from sklearn.pipeline import Pipeline\n",
        "from sklearn.feature_extraction.text import TfidfTransformer\n",
        "from sklearn.metrics import accuracy_score, classification_report\n",
        "from xgboost import XGBClassifier\n",
        "from nltk.corpus import stopwords\n",
        "nltk.download('stopwords')\n",
        "nltk.download('punkt')\n",
        "from nltk.tokenize import word_tokenize\n",
        "import os, re\n",
        "import tensorflow_hub as hub\n",
        "import tensorflow as tf\n",
        "embed = hub.load(\"https://tfhub.dev/google/universal-sentence-encoder/4\")"
      ],
      "execution_count": 2,
      "outputs": [
        {
          "output_type": "stream",
          "text": [
            "[nltk_data] Downloading package stopwords to /root/nltk_data...\n",
            "[nltk_data]   Unzipping corpora/stopwords.zip.\n",
            "[nltk_data] Downloading package punkt to /root/nltk_data...\n",
            "[nltk_data]   Unzipping tokenizers/punkt.zip.\n"
          ],
          "name": "stdout"
        }
      ]
    },
    {
      "cell_type": "code",
      "metadata": {
        "colab": {
          "base_uri": "https://localhost:8080/"
        },
        "id": "IH98Qwfo8LMj",
        "outputId": "2b2aea59-5744-4f35-8f81-8da012dd97f4"
      },
      "source": [
        "os.environ['KAGGLE_USERNAME'] = \"nikhileswarkomati\"\n",
        "os.environ['KAGGLE_KEY'] = \"001b3a30170775e55950edb6ff0c9b17\"\n",
        "!kaggle datasets download -d nikhileswarkomati/suicide-watch"
      ],
      "execution_count": 3,
      "outputs": [
        {
          "output_type": "stream",
          "text": [
            "Downloading suicide-watch.zip to /content\n",
            " 92% 106M/115M [00:00<00:00, 162MB/s] \n",
            "100% 115M/115M [00:00<00:00, 169MB/s]\n"
          ],
          "name": "stdout"
        }
      ]
    },
    {
      "cell_type": "code",
      "metadata": {
        "colab": {
          "base_uri": "https://localhost:8080/"
        },
        "id": "4AXemEX88XIu",
        "outputId": "7a1f22bc-033e-40a6-df1c-d480022dcdb3"
      },
      "source": [
        "!unzip '/content/suicide-watch.zip'"
      ],
      "execution_count": 4,
      "outputs": [
        {
          "output_type": "stream",
          "text": [
            "Archive:  /content/suicide-watch.zip\n",
            "  inflating: SuicideAndDepression_Detection.csv  \n"
          ],
          "name": "stdout"
        }
      ]
    },
    {
      "cell_type": "code",
      "metadata": {
        "colab": {
          "base_uri": "https://localhost:8080/",
          "height": 197
        },
        "id": "WqC-R1QJ8gKD",
        "outputId": "c7c0ac3f-a3ca-4cb6-9e6c-79b7962c500b"
      },
      "source": [
        "data = pd.read_csv('/content/SuicideAndDepression_Detection.csv', lineterminator = '\\n')\n",
        "data.sample(5)"
      ],
      "execution_count": 5,
      "outputs": [
        {
          "output_type": "execute_result",
          "data": {
            "text/html": [
              "<div>\n",
              "<style scoped>\n",
              "    .dataframe tbody tr th:only-of-type {\n",
              "        vertical-align: middle;\n",
              "    }\n",
              "\n",
              "    .dataframe tbody tr th {\n",
              "        vertical-align: top;\n",
              "    }\n",
              "\n",
              "    .dataframe thead th {\n",
              "        text-align: right;\n",
              "    }\n",
              "</style>\n",
              "<table border=\"1\" class=\"dataframe\">\n",
              "  <thead>\n",
              "    <tr style=\"text-align: right;\">\n",
              "      <th></th>\n",
              "      <th>text</th>\n",
              "      <th>class</th>\n",
              "    </tr>\n",
              "  </thead>\n",
              "  <tbody>\n",
              "    <tr>\n",
              "      <th>268716</th>\n",
              "      <td>I've been contemplating it for a while nowI do...</td>\n",
              "      <td>SuicideWatch</td>\n",
              "    </tr>\n",
              "    <tr>\n",
              "      <th>289817</th>\n",
              "      <td>How common is it to get creepy PM's? I never g...</td>\n",
              "      <td>teenagers</td>\n",
              "    </tr>\n",
              "    <tr>\n",
              "      <th>159871</th>\n",
              "      <td>Kids who ask math teachers “How am I gonna use...</td>\n",
              "      <td>teenagers</td>\n",
              "    </tr>\n",
              "    <tr>\n",
              "      <th>205312</th>\n",
              "      <td>What kind of cars do y’all drive? Idk man put ...</td>\n",
              "      <td>teenagers</td>\n",
              "    </tr>\n",
              "    <tr>\n",
              "      <th>181930</th>\n",
              "      <td>I'm gonna sleep my way to death.I'm so tired. ...</td>\n",
              "      <td>SuicideWatch</td>\n",
              "    </tr>\n",
              "  </tbody>\n",
              "</table>\n",
              "</div>"
            ],
            "text/plain": [
              "                                                     text         class\n",
              "268716  I've been contemplating it for a while nowI do...  SuicideWatch\n",
              "289817  How common is it to get creepy PM's? I never g...     teenagers\n",
              "159871  Kids who ask math teachers “How am I gonna use...     teenagers\n",
              "205312  What kind of cars do y’all drive? Idk man put ...     teenagers\n",
              "181930  I'm gonna sleep my way to death.I'm so tired. ...  SuicideWatch"
            ]
          },
          "metadata": {
            "tags": []
          },
          "execution_count": 5
        }
      ]
    },
    {
      "cell_type": "code",
      "metadata": {
        "colab": {
          "base_uri": "https://localhost:8080/"
        },
        "id": "W4_3TFUs8uA-",
        "outputId": "7d5a90d7-4d0b-4f69-8772-c91276fd9e40"
      },
      "source": [
        "print(data.shape)\n",
        "data['class'].value_counts()"
      ],
      "execution_count": 6,
      "outputs": [
        {
          "output_type": "stream",
          "text": [
            "(348111, 2)\n"
          ],
          "name": "stdout"
        },
        {
          "output_type": "execute_result",
          "data": {
            "text/plain": [
              "SuicideWatch    116037\n",
              "depression      116037\n",
              "teenagers       116037\n",
              "Name: class, dtype: int64"
            ]
          },
          "metadata": {
            "tags": []
          },
          "execution_count": 6
        }
      ]
    },
    {
      "cell_type": "code",
      "metadata": {
        "colab": {
          "base_uri": "https://localhost:8080/"
        },
        "id": "txfNhIm4-LEK",
        "outputId": "dca62822-e340-4319-a449-7f8a7e7c18fa"
      },
      "source": [
        "# X = data.iloc[:, 0].values\n",
        "# y = data.iloc[:, 1].values\n",
        "\n",
        "# le = LabelEncoder()\n",
        "\n",
        "# y = le.fit_transform(y)\n",
        "\n",
        "# train_X, test_X, train_y, test_y = train_test_split(X, y, train_size = 0.5, stratify = y)\n",
        "# train_X, val_X, train_y, val_y = train_test_split(train_X, train_y, train_size = 0.2, stratify = train_y)\n",
        "# print(train_X.shape, test_y.shape, val_X.shape)\n",
        "\n",
        "#------------------------------------------------------------------------------------------\n",
        "X = data.loc[(data['class'] != 'depression'), 'text'].values\n",
        "y = data.loc[(data['class'] != 'depression'), 'class'].values\n",
        "\n",
        "le = LabelEncoder()\n",
        "\n",
        "y = le.fit_transform(y)\n",
        "\n",
        "train_X, test_X, train_y, test_y = train_test_split(X, y, train_size = 0.5, stratify = y)\n",
        "train_X, val_X, train_y, val_y = train_test_split(train_X, train_y, train_size = 0.2, stratify = train_y)\n",
        "print(train_X.shape, test_y.shape, val_X.shape)"
      ],
      "execution_count": 8,
      "outputs": [
        {
          "output_type": "stream",
          "text": [
            "(23207,) (116037,) (92830,)\n"
          ],
          "name": "stdout"
        }
      ]
    },
    {
      "cell_type": "code",
      "metadata": {
        "colab": {
          "base_uri": "https://localhost:8080/"
        },
        "id": "XqPOahWxBKvn",
        "outputId": "a52974a5-9d49-4f1a-9d60-b2061d44dc42"
      },
      "source": [
        "from keras.layers import LSTM\n",
        "from keras.preprocessing import sequence\n",
        "from tensorflow.keras.preprocessing.text import Tokenizer\n",
        "import itertools\n",
        "\n",
        "\n",
        "%matplotlib inline\n",
        "\n",
        "\n",
        "from sklearn.preprocessing import LabelBinarizer, LabelEncoder\n",
        "from sklearn.metrics import confusion_matrix\n",
        "\n",
        "from tensorflow import keras\n",
        "from keras.models import Sequential\n",
        "from keras.layers import Dense, Activation, Dropout, Embedding\n",
        "from keras.preprocessing import text, sequence\n",
        "from keras import utils\n",
        "\n",
        "embedding_vecor_length = 32\n",
        "vocab_size = 10000\n",
        "max_length = 600\n",
        "oov_tok = '<OOV>'\n",
        "trunc_type = 'post'\n",
        "\n",
        "tokenizer = Tokenizer(num_words = vocab_size, oov_token = oov_tok)\n",
        "tokenizer.fit_on_texts(train_X)\n",
        "word_index = tokenizer.word_index\n",
        "sequences = tokenizer.texts_to_sequences(train_X)\n",
        "padded = sequence.pad_sequences(sequences, maxlen = max_length, truncating = trunc_type)\n",
        "\n",
        "model = Sequential()\n",
        "model.add(Embedding(vocab_size, embedding_vecor_length, input_length = max_length))\n",
        "model.add(LSTM(100, dropout = 0.3, recurrent_dropout = 0.3))\n",
        "model.add(Dense(1, activation = 'sigmoid'))\n",
        "model.compile(loss = 'binary_crossentropy', optimizer = 'adam', metrics = ['accuracy'])\n",
        "print(model.summary())\n",
        "\n",
        "\n",
        "\n",
        "checkpoint = tf.keras.callbacks.ModelCheckpoint('model_lstm.h5', monitor='val_accuracy', save_best_only=True, verbose=1)\n",
        "earlystopping = tf.keras.callbacks.EarlyStopping(monitor='val_accuracy', patience=5, verbose=1)\n",
        "callbacks_list = [checkpoint, earlystopping]\n",
        "model.fit(padded, train_y, epochs=10, batch_size=256,verbose = 1,callbacks = callbacks_list,validation_split = 0.1)"
      ],
      "execution_count": 11,
      "outputs": [
        {
          "output_type": "stream",
          "text": [
            "Model: \"sequential_1\"\n",
            "_________________________________________________________________\n",
            "Layer (type)                 Output Shape              Param #   \n",
            "=================================================================\n",
            "embedding_1 (Embedding)      (None, 600, 32)           320000    \n",
            "_________________________________________________________________\n",
            "lstm_1 (LSTM)                (None, 100)               53200     \n",
            "_________________________________________________________________\n",
            "dense_1 (Dense)              (None, 1)                 101       \n",
            "=================================================================\n",
            "Total params: 373,301\n",
            "Trainable params: 373,301\n",
            "Non-trainable params: 0\n",
            "_________________________________________________________________\n",
            "None\n",
            "Epoch 1/10\n",
            "82/82 [==============================] - 248s 3s/step - loss: 0.5773 - accuracy: 0.6927 - val_loss: 0.3485 - val_accuracy: 0.8755\n",
            "\n",
            "Epoch 00001: val_accuracy improved from -inf to 0.87548, saving model to model_lstm.h5\n",
            "Epoch 2/10\n",
            "82/82 [==============================] - 243s 3s/step - loss: 0.2990 - accuracy: 0.8912 - val_loss: 0.3080 - val_accuracy: 0.8832\n",
            "\n",
            "Epoch 00002: val_accuracy improved from 0.87548 to 0.88324, saving model to model_lstm.h5\n",
            "Epoch 3/10\n",
            "82/82 [==============================] - 243s 3s/step - loss: 0.2563 - accuracy: 0.9114 - val_loss: 0.2591 - val_accuracy: 0.8979\n",
            "\n",
            "Epoch 00003: val_accuracy improved from 0.88324 to 0.89789, saving model to model_lstm.h5\n",
            "Epoch 4/10\n",
            "82/82 [==============================] - 257s 3s/step - loss: 0.2424 - accuracy: 0.9211 - val_loss: 0.2826 - val_accuracy: 0.9121\n",
            "\n",
            "Epoch 00004: val_accuracy improved from 0.89789 to 0.91211, saving model to model_lstm.h5\n",
            "Epoch 5/10\n",
            "82/82 [==============================] - 248s 3s/step - loss: 0.2209 - accuracy: 0.9325 - val_loss: 0.2454 - val_accuracy: 0.9035\n",
            "\n",
            "Epoch 00005: val_accuracy did not improve from 0.91211\n",
            "Epoch 6/10\n",
            "82/82 [==============================] - 248s 3s/step - loss: 0.1741 - accuracy: 0.9411 - val_loss: 0.2176 - val_accuracy: 0.9212\n",
            "\n",
            "Epoch 00006: val_accuracy improved from 0.91211 to 0.92115, saving model to model_lstm.h5\n",
            "Epoch 7/10\n",
            "82/82 [==============================] - 247s 3s/step - loss: 0.1473 - accuracy: 0.9516 - val_loss: 0.2283 - val_accuracy: 0.9173\n",
            "\n",
            "Epoch 00007: val_accuracy did not improve from 0.92115\n",
            "Epoch 8/10\n",
            "82/82 [==============================] - 247s 3s/step - loss: 0.1365 - accuracy: 0.9549 - val_loss: 0.2174 - val_accuracy: 0.9250\n",
            "\n",
            "Epoch 00008: val_accuracy improved from 0.92115 to 0.92503, saving model to model_lstm.h5\n",
            "Epoch 9/10\n",
            "82/82 [==============================] - 247s 3s/step - loss: 0.1370 - accuracy: 0.9561 - val_loss: 0.2304 - val_accuracy: 0.9207\n",
            "\n",
            "Epoch 00009: val_accuracy did not improve from 0.92503\n",
            "Epoch 10/10\n",
            "82/82 [==============================] - 248s 3s/step - loss: 0.1446 - accuracy: 0.9537 - val_loss: 0.2735 - val_accuracy: 0.9199\n",
            "\n",
            "Epoch 00010: val_accuracy did not improve from 0.92503\n"
          ],
          "name": "stdout"
        },
        {
          "output_type": "execute_result",
          "data": {
            "text/plain": [
              "<tensorflow.python.keras.callbacks.History at 0x7fd046337ed0>"
            ]
          },
          "metadata": {
            "tags": []
          },
          "execution_count": 11
        }
      ]
    },
    {
      "cell_type": "code",
      "metadata": {
        "id": "EhaHzDHSh6oN"
      },
      "source": [
        "from keras.models import load_model\n",
        "model = load_model('/content/model_lstm.h5')"
      ],
      "execution_count": 13,
      "outputs": []
    },
    {
      "cell_type": "code",
      "metadata": {
        "id": "Y5oanJvAlehM",
        "outputId": "9edf9d5c-e153-432d-a6e4-93345fdf1732",
        "colab": {
          "base_uri": "https://localhost:8080/"
        }
      },
      "source": [
        "testing_sequences = tokenizer.texts_to_sequences(test_X)\n",
        "testing_padded = sequence.pad_sequences(testing_sequences, maxlen = max_length)\n",
        "y_pred = model.predict(testing_padded)\n",
        "print(accuracy_score(np.rint(y_pred), test_y))\n",
        "print(classification_report(np.rint(y_pred), test_y))"
      ],
      "execution_count": 14,
      "outputs": [
        {
          "output_type": "stream",
          "text": [
            "0.924782612442583\n",
            "              precision    recall  f1-score   support\n",
            "\n",
            "         0.0       0.93      0.92      0.92     58320\n",
            "         1.0       0.92      0.93      0.92     57717\n",
            "\n",
            "    accuracy                           0.92    116037\n",
            "   macro avg       0.92      0.92      0.92    116037\n",
            "weighted avg       0.92      0.92      0.92    116037\n",
            "\n"
          ],
          "name": "stdout"
        }
      ]
    }
  ]
}