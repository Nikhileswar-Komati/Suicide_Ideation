{
  "nbformat": 4,
  "nbformat_minor": 0,
  "metadata": {
    "colab": {
      "name": "BERT_Suicide_Ideation.ipynb",
      "provenance": [],
      "authorship_tag": "ABX9TyPMFPDBJQnylsrFtDAIVXsx",
      "include_colab_link": true
    },
    "kernelspec": {
      "name": "python3",
      "display_name": "Python 3"
    },
    "accelerator": "GPU"
  },
  "cells": [
    {
      "cell_type": "markdown",
      "metadata": {
        "id": "view-in-github",
        "colab_type": "text"
      },
      "source": [
        "<a href=\"https://colab.research.google.com/github/Nikhileswar-Komati/Suicide_Ideation/blob/master/USE_BERT_500_Labels.ipynb\" target=\"_parent\"><img src=\"https://colab.research.google.com/assets/colab-badge.svg\" alt=\"Open In Colab\"/></a>"
      ]
    },
    {
      "cell_type": "code",
      "metadata": {
        "id": "oq7NNI4r8phF",
        "colab": {
          "base_uri": "https://localhost:8080/"
        },
        "outputId": "4eb7cde4-cabe-493b-ecbd-23a959e0ee3b"
      },
      "source": [
        "import numpy as np\n",
        "import pandas as pd\n",
        "import re\n",
        "from collections import defaultdict\n",
        "np.seterr(divide = 'ignore')"
      ],
      "execution_count": 1,
      "outputs": [
        {
          "output_type": "execute_result",
          "data": {
            "text/plain": [
              "{'divide': 'warn', 'invalid': 'warn', 'over': 'warn', 'under': 'ignore'}"
            ]
          },
          "metadata": {
            "tags": []
          },
          "execution_count": 1
        }
      ]
    },
    {
      "cell_type": "code",
      "metadata": {
        "id": "rEq6mzmy8tiY"
      },
      "source": [
        "from google.colab import files\n",
        "files.upload()"
      ],
      "execution_count": null,
      "outputs": []
    },
    {
      "cell_type": "code",
      "metadata": {
        "id": "2wXWcblZbQS0",
        "outputId": "e913f5fb-b002-4011-9194-789ec07677c6",
        "colab": {
          "base_uri": "https://localhost:8080/"
        }
      },
      "source": [
        "import os\r\n",
        "\r\n",
        "# Install java\r\n",
        "! apt-get update -qq\r\n",
        "! apt-get install -y openjdk-8-jdk-headless -qq > /dev/null\r\n",
        "\r\n",
        "os.environ[\"JAVA_HOME\"] = \"/usr/lib/jvm/java-8-openjdk-amd64\"\r\n",
        "os.environ[\"PATH\"] = os.environ[\"JAVA_HOME\"] + \"/bin:\" + os.environ[\"PATH\"]\r\n",
        "! java -version\r\n",
        "\r\n",
        "# Install pyspark\r\n",
        "! pip install --ignore-installed pyspark==2.4.4\r\n",
        "\r\n",
        "# Install Spark NLP\r\n",
        "! pip install --ignore-installed spark-nlp"
      ],
      "execution_count": 3,
      "outputs": [
        {
          "output_type": "stream",
          "text": [
            "openjdk version \"1.8.0_275\"\n",
            "OpenJDK Runtime Environment (build 1.8.0_275-8u275-b01-0ubuntu1~18.04-b01)\n",
            "OpenJDK 64-Bit Server VM (build 25.275-b01, mixed mode)\n",
            "Collecting pyspark==2.4.4\n",
            "\u001b[?25l  Downloading https://files.pythonhosted.org/packages/87/21/f05c186f4ddb01d15d0ddc36ef4b7e3cedbeb6412274a41f26b55a650ee5/pyspark-2.4.4.tar.gz (215.7MB)\n",
            "\u001b[K     |████████████████████████████████| 215.7MB 72kB/s \n",
            "\u001b[?25hCollecting py4j==0.10.7\n",
            "\u001b[?25l  Downloading https://files.pythonhosted.org/packages/e3/53/c737818eb9a7dc32a7cd4f1396e787bd94200c3997c72c1dbe028587bd76/py4j-0.10.7-py2.py3-none-any.whl (197kB)\n",
            "\u001b[K     |████████████████████████████████| 204kB 50.1MB/s \n",
            "\u001b[?25hBuilding wheels for collected packages: pyspark\n",
            "  Building wheel for pyspark (setup.py) ... \u001b[?25l\u001b[?25hdone\n",
            "  Created wheel for pyspark: filename=pyspark-2.4.4-py2.py3-none-any.whl size=216130389 sha256=ebc52358d1b701151fc258e193a52cd565d0f85e29a10881ac46280fb706f886\n",
            "  Stored in directory: /root/.cache/pip/wheels/ab/09/4d/0d184230058e654eb1b04467dbc1292f00eaa186544604b471\n",
            "Successfully built pyspark\n",
            "Installing collected packages: py4j, pyspark\n",
            "Successfully installed py4j-0.10.7 pyspark-2.4.4\n",
            "Collecting spark-nlp\n",
            "\u001b[?25l  Downloading https://files.pythonhosted.org/packages/af/1f/864678c262ed9312d7b182eda8bd2976fce2a2847e3a809aa54d92f7dace/spark_nlp-2.7.1-py2.py3-none-any.whl (138kB)\n",
            "\u001b[K     |████████████████████████████████| 143kB 8.4MB/s \n",
            "\u001b[?25hInstalling collected packages: spark-nlp\n",
            "Successfully installed spark-nlp-2.7.1\n"
          ],
          "name": "stdout"
        }
      ]
    },
    {
      "cell_type": "code",
      "metadata": {
        "id": "J0gFEHNebVDr",
        "outputId": "d4898209-f6a3-466b-ad60-430ab3834010",
        "colab": {
          "base_uri": "https://localhost:8080/"
        }
      },
      "source": [
        "import sparknlp\r\n",
        "\r\n",
        "spark = sparknlp.start()\r\n",
        "\r\n",
        "print(\"Spark NLP version: \", sparknlp.version())\r\n",
        "print(\"Apache Spark version\", spark.version)"
      ],
      "execution_count": 4,
      "outputs": [
        {
          "output_type": "stream",
          "text": [
            "Spark NLP version:  2.7.1\n",
            "Apache Spark version 2.4.4\n"
          ],
          "name": "stdout"
        }
      ]
    },
    {
      "cell_type": "code",
      "metadata": {
        "id": "2GDYD69G812r",
        "colab": {
          "base_uri": "https://localhost:8080/",
          "height": 235
        },
        "outputId": "821bede4-1b87-46f7-b30d-1c358de9aedb"
      },
      "source": [
        "data = pd.read_csv('/content/500_Reddit_users_posts_labels.csv', index_col = 'User')\n",
        "data.head(5)"
      ],
      "execution_count": 5,
      "outputs": [
        {
          "output_type": "execute_result",
          "data": {
            "text/html": [
              "<div>\n",
              "<style scoped>\n",
              "    .dataframe tbody tr th:only-of-type {\n",
              "        vertical-align: middle;\n",
              "    }\n",
              "\n",
              "    .dataframe tbody tr th {\n",
              "        vertical-align: top;\n",
              "    }\n",
              "\n",
              "    .dataframe thead th {\n",
              "        text-align: right;\n",
              "    }\n",
              "</style>\n",
              "<table border=\"1\" class=\"dataframe\">\n",
              "  <thead>\n",
              "    <tr style=\"text-align: right;\">\n",
              "      <th></th>\n",
              "      <th>Post</th>\n",
              "      <th>Label</th>\n",
              "    </tr>\n",
              "    <tr>\n",
              "      <th>User</th>\n",
              "      <th></th>\n",
              "      <th></th>\n",
              "    </tr>\n",
              "  </thead>\n",
              "  <tbody>\n",
              "    <tr>\n",
              "      <th>user-0</th>\n",
              "      <td>['Its not a viable option, and youll be leavin...</td>\n",
              "      <td>Supportive</td>\n",
              "    </tr>\n",
              "    <tr>\n",
              "      <th>user-1</th>\n",
              "      <td>['It can be hard to appreciate the notion that...</td>\n",
              "      <td>Ideation</td>\n",
              "    </tr>\n",
              "    <tr>\n",
              "      <th>user-2</th>\n",
              "      <td>['Hi, so last night i was sitting on the ledge...</td>\n",
              "      <td>Behavior</td>\n",
              "    </tr>\n",
              "    <tr>\n",
              "      <th>user-3</th>\n",
              "      <td>['I tried to kill my self once and failed badl...</td>\n",
              "      <td>Attempt</td>\n",
              "    </tr>\n",
              "    <tr>\n",
              "      <th>user-4</th>\n",
              "      <td>['Hi NEM3030. What sorts of things do you enjo...</td>\n",
              "      <td>Ideation</td>\n",
              "    </tr>\n",
              "  </tbody>\n",
              "</table>\n",
              "</div>"
            ],
            "text/plain": [
              "                                                     Post       Label\n",
              "User                                                                 \n",
              "user-0  ['Its not a viable option, and youll be leavin...  Supportive\n",
              "user-1  ['It can be hard to appreciate the notion that...    Ideation\n",
              "user-2  ['Hi, so last night i was sitting on the ledge...    Behavior\n",
              "user-3  ['I tried to kill my self once and failed badl...     Attempt\n",
              "user-4  ['Hi NEM3030. What sorts of things do you enjo...    Ideation"
            ]
          },
          "metadata": {
            "tags": []
          },
          "execution_count": 5
        }
      ]
    },
    {
      "cell_type": "code",
      "metadata": {
        "id": "Kp2RWgC89KTA",
        "colab": {
          "base_uri": "https://localhost:8080/"
        },
        "outputId": "437cdac3-b96b-4451-b8f2-620518147b93"
      },
      "source": [
        "data.shape"
      ],
      "execution_count": 6,
      "outputs": [
        {
          "output_type": "execute_result",
          "data": {
            "text/plain": [
              "(500, 2)"
            ]
          },
          "metadata": {
            "tags": []
          },
          "execution_count": 6
        }
      ]
    },
    {
      "cell_type": "code",
      "metadata": {
        "id": "2WmEe6Kb9eSs",
        "colab": {
          "base_uri": "https://localhost:8080/"
        },
        "outputId": "a21e9480-5bc3-4105-82cd-995d0722a26a"
      },
      "source": [
        "data['Label'].value_counts()"
      ],
      "execution_count": 7,
      "outputs": [
        {
          "output_type": "execute_result",
          "data": {
            "text/plain": [
              "Ideation      171\n",
              "Supportive    108\n",
              "Indicator      99\n",
              "Behavior       77\n",
              "Attempt        45\n",
              "Name: Label, dtype: int64"
            ]
          },
          "metadata": {
            "tags": []
          },
          "execution_count": 7
        }
      ]
    },
    {
      "cell_type": "code",
      "metadata": {
        "id": "0_C0CaCK9mPh",
        "colab": {
          "base_uri": "https://localhost:8080/",
          "height": 350
        },
        "outputId": "da97ccd8-9bef-46e6-e075-ebdd2b4d041a"
      },
      "source": [
        "import seaborn as sns\n",
        "sns.countplot(data['Label'])"
      ],
      "execution_count": 8,
      "outputs": [
        {
          "output_type": "stream",
          "text": [
            "/usr/local/lib/python3.6/dist-packages/seaborn/_decorators.py:43: FutureWarning: Pass the following variable as a keyword arg: x. From version 0.12, the only valid positional argument will be `data`, and passing other arguments without an explicit keyword will result in an error or misinterpretation.\n",
            "  FutureWarning\n"
          ],
          "name": "stderr"
        },
        {
          "output_type": "execute_result",
          "data": {
            "text/plain": [
              "<matplotlib.axes._subplots.AxesSubplot at 0x7f7c7a4c32b0>"
            ]
          },
          "metadata": {
            "tags": []
          },
          "execution_count": 8
        },
        {
          "output_type": "display_data",
          "data": {
            "image/png": "[encoded data removed]",
            "text/plain": [
              "<Figure size 432x288 with 1 Axes>"
            ]
          },
          "metadata": {
            "tags": [],
            "needs_background": "light"
          }
        }
      ]
    },
    {
      "cell_type": "code",
      "metadata": {
        "id": "e9RnB91sVcLS",
        "colab": {
          "base_uri": "https://localhost:8080/",
          "height": 103
        },
        "outputId": "654bcbf4-6411-4913-d3fd-63ce74e98f75"
      },
      "source": [
        "data['Post'][0]"
      ],
      "execution_count": 9,
      "outputs": [
        {
          "output_type": "execute_result",
          "data": {
            "application/vnd.google.colaboratory.intrinsic+json": {
              "type": "string"
            },
            "text/plain": [
              "\"['Its not a viable option, and youll be leaving your wife behind. Youd Pain her beyond comprehension.It sucks worrying about money, I know that first hand. It can definitely feel hopeless, as you seem to be Tired aware of. Your wife might need to chip in financially. I know time is an issue, but even 10-15 hours a Asthenia could alleviate a lot of the pressure. In the meantime, get your shit together - write that resume tomorrow. No excuses, get it done and send it out. Whether you believe in some sort of powerful being or force governing things or not, things really do work themselves out. This is a big test for you, and youll pull through. Just try to stay as positive as you can and everything will work out.']\""
            ]
          },
          "metadata": {
            "tags": []
          },
          "execution_count": 9
        }
      ]
    },
    {
      "cell_type": "code",
      "metadata": {
        "id": "f3WMyfVbbr6Z"
      },
      "source": [
        "spark_df = spark.read.option(\"header\", \"true\").option(\"multiLine\", \"true\").option(\"quote\", \"\\\"\").option(\"escape\", \"\\\"\").option(\"inferSchema\", \"true\").csv('/content/500_Reddit_users_posts_labels.csv', sep = ',')"
      ],
      "execution_count": 10,
      "outputs": []
    },
    {
      "cell_type": "code",
      "metadata": {
        "id": "jJ3sgyXgb1Gc",
        "outputId": "bd35028f-69bf-4ba7-8be6-4cc0554fce79",
        "colab": {
          "base_uri": "https://localhost:8080/",
          "height": 34
        }
      },
      "source": [
        "display(spark_df)"
      ],
      "execution_count": 12,
      "outputs": [
        {
          "output_type": "display_data",
          "data": {
            "text/plain": [
              "DataFrame[User: string, Post: string, Label: string]"
            ]
          },
          "metadata": {
            "tags": []
          }
        }
      ]
    },
    {
      "cell_type": "code",
      "metadata": {
        "id": "pm9rdzWxcN6T",
        "outputId": "b1f7b5c1-942f-4fa6-f305-31f77e19b1ed",
        "colab": {
          "base_uri": "https://localhost:8080/"
        }
      },
      "source": [
        "spark_df.printSchema()"
      ],
      "execution_count": 14,
      "outputs": [
        {
          "output_type": "stream",
          "text": [
            "root\n",
            " |-- User: string (nullable = true)\n",
            " |-- Post: string (nullable = true)\n",
            " |-- Label: string (nullable = true)\n",
            "\n"
          ],
          "name": "stdout"
        }
      ]
    },
    {
      "cell_type": "code",
      "metadata": {
        "id": "pnANs6_TcW7T",
        "outputId": "f34a61f6-b2f5-4c97-cdd9-772ae9fb42d9",
        "colab": {
          "base_uri": "https://localhost:8080/"
        }
      },
      "source": [
        "\r\n",
        "spark_split_df = spark_df\r\n",
        "\r\n",
        "(train_data, test_data) = spark_split_df.randomSplit([0.9, 0.1], 24)\r\n",
        "\r\n",
        "print(\"Train length\", train_data.count())\r\n",
        "print(\"Test length\", test_data.count())"
      ],
      "execution_count": 17,
      "outputs": [
        {
          "output_type": "stream",
          "text": [
            "Train length 456\n",
            "Test length 44\n"
          ],
          "name": "stdout"
        }
      ]
    },
    {
      "cell_type": "code",
      "metadata": {
        "id": "pmkqMtbwcl2N"
      },
      "source": [
        "from pyspark.ml import Pipeline\r\n",
        "\r\n",
        "from sparknlp.annotator import *\r\n",
        "from sparknlp.common import *\r\n",
        "from sparknlp.base import *"
      ],
      "execution_count": 18,
      "outputs": []
    },
    {
      "cell_type": "code",
      "metadata": {
        "id": "8Jj4-aBYcq5d",
        "outputId": "ac3e45b1-409c-41d3-9124-bbbd51e36ce1",
        "colab": {
          "base_uri": "https://localhost:8080/"
        }
      },
      "source": [
        "document = DocumentAssembler()\\\r\n",
        "    .setInputCol(\"Post\")\\\r\n",
        "    .setOutputCol(\"document\")\r\n",
        "\r\n",
        "use = UniversalSentenceEncoder.pretrained() \\\r\n",
        " .setInputCols([\"document\"])\\\r\n",
        " .setOutputCol(\"sentence_embeddings\")\r\n",
        "\r\n",
        "# the classes/labels/categories are in category column\r\n",
        "sentimentdl = ClassifierDLApproach()\\\r\n",
        "  .setInputCols([\"sentence_embeddings\"])\\\r\n",
        "  .setOutputCol(\"class\")\\\r\n",
        "  .setLabelColumn(\"Label\")\\\r\n",
        "  .setMaxEpochs(20)\\\r\n",
        "  .setEnableOutputLogs(True)\r\n",
        "\r\n",
        "pipeline = Pipeline(\r\n",
        "    stages = [\r\n",
        "        document,\r\n",
        "        use,\r\n",
        "        sentimentdl\r\n",
        "    ])"
      ],
      "execution_count": 21,
      "outputs": [
        {
          "output_type": "stream",
          "text": [
            "tfhub_use download started this may take some time.\n",
            "Approximate size to download 923.7 MB\n",
            "[OK!]\n"
          ],
          "name": "stdout"
        }
      ]
    },
    {
      "cell_type": "code",
      "metadata": {
        "id": "jRP5KhVkc0DE"
      },
      "source": [
        "pipelineModel = pipeline.fit(train_data)"
      ],
      "execution_count": 22,
      "outputs": []
    },
    {
      "cell_type": "code",
      "metadata": {
        "id": "kP7faa3Sc4kr",
        "outputId": "a80d3823-9a7c-417d-d5d2-d2578e42d123",
        "colab": {
          "base_uri": "https://localhost:8080/"
        }
      },
      "source": [
        "!cd ~/annotator_logs && ls -l"
      ],
      "execution_count": 23,
      "outputs": [
        {
          "output_type": "stream",
          "text": [
            "total 4\n",
            "-rw-r--r-- 1 root root 1458 Jan 11 12:39 ClassifierDLApproach_273e67d66b3d.log\n"
          ],
          "name": "stdout"
        }
      ]
    },
    {
      "cell_type": "code",
      "metadata": {
        "id": "AQxiZbzLc67x",
        "outputId": "6d6a23e6-6ea4-4ab9-ae56-c31c0dc7f099",
        "colab": {
          "base_uri": "https://localhost:8080/"
        }
      },
      "source": [
        "!cat ~/annotator_logs/ClassifierDLApproach_273e67d66b3d.log"
      ],
      "execution_count": 24,
      "outputs": [
        {
          "output_type": "stream",
          "text": [
            "Training started - epochs: 20 - learning_rate: 0.005 - batch_size: 64 - training_examples: 456 - classes: 5\n",
            "Epoch 0/20 - 0.54s - loss: 14.380881 - acc: 0.3482143 - batches: 8\n",
            "Epoch 1/20 - 0.13s - loss: 14.238661 - acc: 0.3705357 - batches: 8\n",
            "Epoch 2/20 - 0.13s - loss: 14.238661 - acc: 0.3705357 - batches: 8\n",
            "Epoch 3/20 - 0.14s - loss: 14.238661 - acc: 0.3705357 - batches: 8\n",
            "Epoch 4/20 - 0.13s - loss: 14.238661 - acc: 0.3705357 - batches: 8\n",
            "Epoch 5/20 - 0.12s - loss: 14.238661 - acc: 0.3705357 - batches: 8\n",
            "Epoch 6/20 - 0.13s - loss: 14.238661 - acc: 0.3705357 - batches: 8\n",
            "Epoch 7/20 - 0.20s - loss: 14.238661 - acc: 0.3705357 - batches: 8\n",
            "Epoch 8/20 - 0.18s - loss: 14.238661 - acc: 0.3705357 - batches: 8\n",
            "Epoch 9/20 - 0.14s - loss: 14.238661 - acc: 0.3705357 - batches: 8\n",
            "Epoch 10/20 - 0.13s - loss: 14.238661 - acc: 0.3705357 - batches: 8\n",
            "Epoch 11/20 - 0.13s - loss: 14.238661 - acc: 0.3705357 - batches: 8\n",
            "Epoch 12/20 - 0.13s - loss: 14.238661 - acc: 0.3705357 - batches: 8\n",
            "Epoch 13/20 - 0.13s - loss: 14.238661 - acc: 0.3705357 - batches: 8\n",
            "Epoch 14/20 - 0.13s - loss: 14.238661 - acc: 0.3705357 - batches: 8\n",
            "Epoch 15/20 - 0.13s - loss: 14.238661 - acc: 0.3705357 - batches: 8\n",
            "Epoch 16/20 - 0.13s - loss: 14.238661 - acc: 0.3705357 - batches: 8\n",
            "Epoch 17/20 - 0.13s - loss: 14.238661 - acc: 0.3705357 - batches: 8\n",
            "Epoch 18/20 - 0.15s - loss: 14.238661 - acc: 0.3705357 - batches: 8\n",
            "Epoch 19/20 - 0.12s - loss: 14.238661 - acc: 0.3705357 - batches: 8\n"
          ],
          "name": "stdout"
        }
      ]
    },
    {
      "cell_type": "code",
      "metadata": {
        "id": "V5S7yTnadm9l",
        "outputId": "114d5e9d-f9d5-4135-c9f9-60064dc0f95d",
        "colab": {
          "base_uri": "https://localhost:8080/"
        }
      },
      "source": [
        "document = DocumentAssembler()\\\r\n",
        "    .setInputCol(\"Post\")\\\r\n",
        "    .setOutputCol(\"document\")\r\n",
        "    \r\n",
        "# we can also use sentence detector here \r\n",
        "# if we want to train on and get predictions for each sentence\r\n",
        "# downloading pretrained embeddings\r\n",
        "bert_sent = BertSentenceEmbeddings.pretrained('sent_small_bert_L8_512')\\\r\n",
        " .setInputCols([\"document\"])\\\r\n",
        " .setOutputCol(\"sentence_embeddings\")\r\n",
        "# the classes/labels/categories are in category column\r\n",
        "\r\n",
        "classsifierdl = ClassifierDLApproach()\\\r\n",
        "  .setInputCols([\"sentence_embeddings\"])\\\r\n",
        "  .setOutputCol(\"class\")\\\r\n",
        "  .setLabelColumn(\"Label\")\\\r\n",
        "  .setMaxEpochs(20)\\\r\n",
        "  .setEnableOutputLogs(True)\r\n",
        "\r\n",
        "bert_sent_clf_pipeline = Pipeline(\r\n",
        "    stages = [\r\n",
        "        document,\r\n",
        "        bert_sent,\r\n",
        "        classsifierdl\r\n",
        "    ])"
      ],
      "execution_count": 25,
      "outputs": [
        {
          "output_type": "stream",
          "text": [
            "sent_small_bert_L8_512 download started this may take some time.\n",
            "Approximate size to download 149.1 MB\n",
            "[OK!]\n"
          ],
          "name": "stdout"
        }
      ]
    },
    {
      "cell_type": "code",
      "metadata": {
        "id": "GeMXdeItd4kh"
      },
      "source": [
        "bert_pipelineModel = bert_sent_clf_pipeline.fit(train_data)"
      ],
      "execution_count": 26,
      "outputs": []
    },
    {
      "cell_type": "code",
      "metadata": {
        "id": "zNBJn0ATd8OJ",
        "outputId": "51b7f86a-4234-4b5f-8b81-88a0aa8cc910",
        "colab": {
          "base_uri": "https://localhost:8080/"
        }
      },
      "source": [
        "!cd ~/annotator_logs && ls -l"
      ],
      "execution_count": 27,
      "outputs": [
        {
          "output_type": "stream",
          "text": [
            "total 8\n",
            "-rw-r--r-- 1 root root 1458 Jan 11 12:39 ClassifierDLApproach_273e67d66b3d.log\n",
            "-rw-r--r-- 1 root root 1475 Jan 11 12:43 ClassifierDLApproach_bdfa3f74cedd.log\n"
          ],
          "name": "stdout"
        }
      ]
    },
    {
      "cell_type": "code",
      "metadata": {
        "id": "rCP3MrFMd_WS",
        "outputId": "7780160a-5d65-496a-bcd0-0f60086456ec",
        "colab": {
          "base_uri": "https://localhost:8080/"
        }
      },
      "source": [
        "!cat ~/annotator_logs/ClassifierDLApproach_bdfa3f74cedd.log"
      ],
      "execution_count": 28,
      "outputs": [
        {
          "output_type": "stream",
          "text": [
            "Training started - epochs: 20 - learning_rate: 0.005 - batch_size: 64 - training_examples: 456 - classes: 5\n",
            "Epoch 0/20 - 0.54s - loss: 11.955034 - acc: 0.24107143 - batches: 8\n",
            "Epoch 1/20 - 0.13s - loss: 12.238629 - acc: 0.22767857 - batches: 8\n",
            "Epoch 2/20 - 0.13s - loss: 12.238647 - acc: 0.22767857 - batches: 8\n",
            "Epoch 3/20 - 0.13s - loss: 12.238642 - acc: 0.22767857 - batches: 8\n",
            "Epoch 4/20 - 0.13s - loss: 12.238632 - acc: 0.22767857 - batches: 8\n",
            "Epoch 5/20 - 0.13s - loss: 12.238615 - acc: 0.22767857 - batches: 8\n",
            "Epoch 6/20 - 0.13s - loss: 12.238569 - acc: 0.22767857 - batches: 8\n",
            "Epoch 7/20 - 0.13s - loss: 12.238449 - acc: 0.22767857 - batches: 8\n",
            "Epoch 8/20 - 0.16s - loss: 12.238008 - acc: 0.22767857 - batches: 8\n",
            "Epoch 9/20 - 0.12s - loss: 12.237078 - acc: 0.22767857 - batches: 8\n",
            "Epoch 10/20 - 0.13s - loss: 12.570199 - acc: 0.20535715 - batches: 8\n",
            "Epoch 11/20 - 0.13s - loss: 12.03069 - acc: 0.26339287 - batches: 8\n",
            "Epoch 12/20 - 0.13s - loss: 12.193668 - acc: 0.22767857 - batches: 8\n",
            "Epoch 13/20 - 0.12s - loss: 12.291714 - acc: 0.26785713 - batches: 8\n",
            "Epoch 14/20 - 0.13s - loss: 12.095638 - acc: 0.27232143 - batches: 8\n",
            "Epoch 15/20 - 0.13s - loss: 12.067439 - acc: 0.26339287 - batches: 8\n",
            "Epoch 16/20 - 0.13s - loss: 11.996848 - acc: 0.28794643 - batches: 8\n",
            "Epoch 17/20 - 0.13s - loss: 11.89409 - acc: 0.3080357 - batches: 8\n",
            "Epoch 18/20 - 0.13s - loss: 11.864241 - acc: 0.32142857 - batches: 8\n",
            "Epoch 19/20 - 0.13s - loss: 11.815209 - acc: 0.33035713 - batches: 8\n"
          ],
          "name": "stdout"
        }
      ]
    },
    {
      "cell_type": "code",
      "metadata": {
        "id": "UKWrQDzMeTaP",
        "outputId": "ab6fb641-33ab-4703-bc0e-676113b36b0b",
        "colab": {
          "base_uri": "https://localhost:8080/"
        }
      },
      "source": [
        "document_assembler = DocumentAssembler().setInputCol(\"Post\").setOutputCol(\"document\")\r\n",
        "\r\n",
        "tokenizer = Tokenizer().setInputCols([\"document\"]).setOutputCol(\"token\")\r\n",
        "\r\n",
        "normalizer = Normalizer().setInputCols([\"token\"]).setOutputCol(\"normalized\")\r\n",
        "\r\n",
        "stopwords_cleaner = StopWordsCleaner().setInputCols([\"normalized\"]).setOutputCol(\"cleanTokens\").setCaseSensitive(False)\r\n",
        "    \r\n",
        "lemma = LemmatizerModel.pretrained('lemma_antbnc')\\\r\n",
        "    .setInputCols([\"cleanTokens\"])\\\r\n",
        "    .setOutputCol(\"lemma\")\r\n",
        "# we can also use sentence detector here \r\n",
        "# if we want to train on and get predictions for each sentence\r\n",
        "# downloading pretrained embeddings\r\n",
        "word_embeddings = WordEmbeddingsModel.pretrained()\\\r\n",
        " .setInputCols([\"document\", \"lemma\"])\\\r\n",
        " .setOutputCol(\"embeddings\")\\\r\n",
        " .setCaseSensitive(False)\r\n",
        "embeddings_sentence = SentenceEmbeddings().setInputCols([\"document\",\"embeddings\"]).setOutputCol(\"sentence_embeddings\").setPoolingStrategy(\"AVERAGE\")\r\n",
        "\r\n",
        "# the classes/labels/categories are in category column\r\n",
        "\r\n",
        "classsifierdl = ClassifierDLApproach()\\\r\n",
        "  .setInputCols([\"sentence_embeddings\"])\\\r\n",
        "  .setOutputCol(\"class\")\\\r\n",
        "  .setLabelColumn(\"Label\")\\\r\n",
        "  .setMaxEpochs(20)\\\r\n",
        "  .setEnableOutputLogs(True)\r\n",
        "\r\n",
        "clf_pipeline = Pipeline(\r\n",
        "    stages = [\r\n",
        "        document_assembler,\r\n",
        "        tokenizer,\r\n",
        "        normalizer,\r\n",
        "        stopwords_cleaner,\r\n",
        "        lemma,\r\n",
        "        word_embeddings,\r\n",
        "        embeddings_sentence,\r\n",
        "        classsifierdl\r\n",
        "    ])"
      ],
      "execution_count": 29,
      "outputs": [
        {
          "output_type": "stream",
          "text": [
            "lemma_antbnc download started this may take some time.\n",
            "Approximate size to download 907.6 KB\n",
            "[OK!]\n",
            "glove_100d download started this may take some time.\n",
            "Approximate size to download 145.3 MB\n",
            "[OK!]\n"
          ],
          "name": "stdout"
        }
      ]
    },
    {
      "cell_type": "code",
      "metadata": {
        "id": "rUJ9GOyUeisi"
      },
      "source": [
        "clf_pipelineModel = clf_pipeline.fit(train_data)"
      ],
      "execution_count": 30,
      "outputs": []
    },
    {
      "cell_type": "code",
      "metadata": {
        "id": "OXqu3BN7emk6",
        "outputId": "7e23e2ba-70ca-4dbb-e0a1-6bf5b4f9176b",
        "colab": {
          "base_uri": "https://localhost:8080/"
        }
      },
      "source": [
        "!cd ~/annotator_logs && ls -l"
      ],
      "execution_count": 31,
      "outputs": [
        {
          "output_type": "stream",
          "text": [
            "total 12\n",
            "-rw-r--r-- 1 root root 1458 Jan 11 12:39 ClassifierDLApproach_273e67d66b3d.log\n",
            "-rw-r--r-- 1 root root 1459 Jan 11 12:45 ClassifierDLApproach_51bf82349f04.log\n",
            "-rw-r--r-- 1 root root 1475 Jan 11 12:43 ClassifierDLApproach_bdfa3f74cedd.log\n"
          ],
          "name": "stdout"
        }
      ]
    },
    {
      "cell_type": "code",
      "metadata": {
        "id": "YyTn0UtEepJt",
        "outputId": "368cb720-34f1-4538-a4c2-16267004bae7",
        "colab": {
          "base_uri": "https://localhost:8080/"
        }
      },
      "source": [
        "!cat ~/annotator_logs/ClassifierDLApproach_51bf82349f04.log"
      ],
      "execution_count": 32,
      "outputs": [
        {
          "output_type": "stream",
          "text": [
            "Training started - epochs: 20 - learning_rate: 0.005 - batch_size: 64 - training_examples: 456 - classes: 5\n",
            "Epoch 0/20 - 0.54s - loss: 13.480497 - acc: 0.35044643 - batches: 8\n",
            "Epoch 1/20 - 0.13s - loss: 13.238661 - acc: 0.3549107 - batches: 8\n",
            "Epoch 2/20 - 0.13s - loss: 13.238661 - acc: 0.3549107 - batches: 8\n",
            "Epoch 3/20 - 0.13s - loss: 13.238661 - acc: 0.3549107 - batches: 8\n",
            "Epoch 4/20 - 0.13s - loss: 13.238661 - acc: 0.3549107 - batches: 8\n",
            "Epoch 5/20 - 0.16s - loss: 13.238661 - acc: 0.3549107 - batches: 8\n",
            "Epoch 6/20 - 0.14s - loss: 13.238661 - acc: 0.3549107 - batches: 8\n",
            "Epoch 7/20 - 0.13s - loss: 13.238661 - acc: 0.3549107 - batches: 8\n",
            "Epoch 8/20 - 0.14s - loss: 13.238661 - acc: 0.3549107 - batches: 8\n",
            "Epoch 9/20 - 0.13s - loss: 13.238661 - acc: 0.3549107 - batches: 8\n",
            "Epoch 10/20 - 0.13s - loss: 13.238661 - acc: 0.3549107 - batches: 8\n",
            "Epoch 11/20 - 0.14s - loss: 13.238661 - acc: 0.3549107 - batches: 8\n",
            "Epoch 12/20 - 0.13s - loss: 13.238661 - acc: 0.3549107 - batches: 8\n",
            "Epoch 13/20 - 0.14s - loss: 13.238661 - acc: 0.3549107 - batches: 8\n",
            "Epoch 14/20 - 0.13s - loss: 13.238661 - acc: 0.3549107 - batches: 8\n",
            "Epoch 15/20 - 0.13s - loss: 13.238661 - acc: 0.3549107 - batches: 8\n",
            "Epoch 16/20 - 0.13s - loss: 13.238661 - acc: 0.3549107 - batches: 8\n",
            "Epoch 17/20 - 0.13s - loss: 13.238661 - acc: 0.3549107 - batches: 8\n",
            "Epoch 18/20 - 0.13s - loss: 13.238661 - acc: 0.3549107 - batches: 8\n",
            "Epoch 19/20 - 0.13s - loss: 13.238661 - acc: 0.3549107 - batches: 8\n"
          ],
          "name": "stdout"
        }
      ]
    },
    {
      "cell_type": "code",
      "metadata": {
        "id": "I9XtW4jgeykK"
      },
      "source": [
        ""
      ],
      "execution_count": null,
      "outputs": []
    }
  ]
}