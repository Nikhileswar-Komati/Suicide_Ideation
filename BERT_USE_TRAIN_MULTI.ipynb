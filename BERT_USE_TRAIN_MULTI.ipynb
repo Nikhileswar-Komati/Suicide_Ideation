{
  "nbformat": 4,
  "nbformat_minor": 0,
  "metadata": {
    "colab": {
      "name": "BERT_USE_TRAIN.ipynb",
      "provenance": [],
      "authorship_tag": "ABX9TyO+8wWRFaIbQHBwaI//wUUC",
      "include_colab_link": true
    },
    "kernelspec": {
      "name": "python3",
      "display_name": "Python 3"
    }
  },
  "cells": [
    {
      "cell_type": "markdown",
      "metadata": {
        "id": "view-in-github",
        "colab_type": "text"
      },
      "source": [
        "<a href=\"https://colab.research.google.com/github/Nikhileswar-Komati/Suicide_Ideation/blob/master/BERT_USE_TRAIN_MULTI.ipynb\" target=\"_parent\"><img src=\"https://colab.research.google.com/assets/colab-badge.svg\" alt=\"Open In Colab\"/></a>"
      ]
    },
    {
      "cell_type": "code",
      "metadata": {
        "colab": {
          "base_uri": "https://localhost:8080/"
        },
        "id": "8Ob28RUGZ9uV",
        "outputId": "6f3997f1-d230-4c43-8a6c-796c2a189819"
      },
      "source": [
        "import os\n",
        "\n",
        "# Install java\n",
        "! apt-get update -qq\n",
        "! apt-get install -y openjdk-8-jdk-headless -qq > /dev/null\n",
        "\n",
        "os.environ[\"JAVA_HOME\"] = \"/usr/lib/jvm/java-8-openjdk-amd64\"\n",
        "os.environ[\"PATH\"] = os.environ[\"JAVA_HOME\"] + \"/bin:\" + os.environ[\"PATH\"]\n",
        "! java -version\n",
        "\n",
        "# Install pyspark\n",
        "! pip install --ignore-installed pyspark==2.4.4\n",
        "\n",
        "# Install Spark NLP\n",
        "! pip install --ignore-installed spark-nlp\n"
      ],
      "execution_count": null,
      "outputs": [
        {
          "output_type": "stream",
          "text": [
            "openjdk version \"1.8.0_275\"\n",
            "OpenJDK Runtime Environment (build 1.8.0_275-8u275-b01-0ubuntu1~18.04-b01)\n",
            "OpenJDK 64-Bit Server VM (build 25.275-b01, mixed mode)\n",
            "Processing /root/.cache/pip/wheels/ab/09/4d/0d184230058e654eb1b04467dbc1292f00eaa186544604b471/pyspark-2.4.4-py2.py3-none-any.whl\n",
            "Collecting py4j==0.10.7\n",
            "  Using cached https://files.pythonhosted.org/packages/e3/53/c737818eb9a7dc32a7cd4f1396e787bd94200c3997c72c1dbe028587bd76/py4j-0.10.7-py2.py3-none-any.whl\n",
            "Installing collected packages: py4j, pyspark\n",
            "Successfully installed py4j-0.10.7 pyspark-2.4.4\n",
            "Processing /root/.cache/pip/wheels/75/e4/63/ade6bdbafb87b93e87b21c22db80b606eb4d47d7aaa88e8158/spark_nlp-2.7.0-py2.py3-none-any.whl\n",
            "Installing collected packages: spark-nlp\n",
            "Successfully installed spark-nlp-2.7.0\n"
          ],
          "name": "stdout"
        }
      ]
    },
    {
      "cell_type": "code",
      "metadata": {
        "colab": {
          "base_uri": "https://localhost:8080/"
        },
        "id": "PHJrHzr8aF0m",
        "outputId": "3acfbcb6-c7bc-44c7-bfc9-bc0541ed376a"
      },
      "source": [
        "import sparknlp\n",
        "\n",
        "spark = sparknlp.start()\n",
        "\n",
        "print(\"Spark NLP version: \", sparknlp.version())\n",
        "print(\"Apache Spark version\", spark.version)"
      ],
      "execution_count": null,
      "outputs": [
        {
          "output_type": "stream",
          "text": [
            "Spark NLP version:  2.7.0\n",
            "Apache Spark version 2.4.4\n"
          ],
          "name": "stdout"
        }
      ]
    },
    {
      "cell_type": "code",
      "metadata": {
        "colab": {
          "base_uri": "https://localhost:8080/"
        },
        "id": "UeibSRgYadTI",
        "outputId": "181ef3e6-2d79-4b11-baa8-b2394e0f1519"
      },
      "source": [
        "import os\n",
        "#kaggle username from api token \n",
        "os.environ['KAGGLE_USERNAME'] = \"nikhileswarkomati\"\n",
        "#kaggle key from api token\n",
        "os.environ['KAGGLE_KEY'] =\"0ffd0be5c369d70815be7d0521aeab91\"\n",
        "#dataset path for downloading the data\n",
        "!kaggle datasets download -d nikhileswarkomati/suicide-watch"
      ],
      "execution_count": null,
      "outputs": [
        {
          "output_type": "stream",
          "text": [
            "suicide-watch.zip: Skipping, found more recently modified local copy (use --force to force download)\n"
          ],
          "name": "stdout"
        }
      ]
    },
    {
      "cell_type": "code",
      "metadata": {
        "colab": {
          "base_uri": "https://localhost:8080/"
        },
        "id": "7zfwtgeva24A",
        "outputId": "c2b601c5-c7ba-441d-8549-840323d19de1"
      },
      "source": [
        "!unzip '/content/suicide-watch.zip'"
      ],
      "execution_count": null,
      "outputs": [
        {
          "output_type": "stream",
          "text": [
            "Archive:  /content/suicide-watch.zip\n",
            "replace Cleaned_Depression_Vs_Suicide.csv? [y]es, [n]o, [A]ll, [N]one, [r]ename: "
          ],
          "name": "stdout"
        }
      ]
    },
    {
      "cell_type": "code",
      "metadata": {
        "id": "DNcPkL4Jauqc"
      },
      "source": [
        "spark_df = spark.read.option(\"header\", \"true\").option(\"multiLine\", \"true\").option(\"quote\", \"\\\"\").option(\"escape\", \"\\\"\").option(\"inferSchema\", \"true\").csv('/content/Depression_Vs_Subreddit.csv', sep = ',')"
      ],
      "execution_count": null,
      "outputs": []
    },
    {
      "cell_type": "code",
      "metadata": {
        "colab": {
          "base_uri": "https://localhost:8080/"
        },
        "id": "Rn7LQjkKbBlv",
        "outputId": "0bcbb59b-2718-44f4-da7f-531c79d3d52c"
      },
      "source": [
        "spark_split_df = spark_df\n",
        "\n",
        "(train_data, test_data, val_data) = spark_split_df.randomSplit([0.01, 0.01, 0.9], 24)\n",
        "\n",
        "print(\"Train length\", train_data.count())\n",
        "print(\"Test length\", test_data.count())\n",
        "print(\"validation length\", val_data.count())"
      ],
      "execution_count": null,
      "outputs": [
        {
          "output_type": "stream",
          "text": [
            "Train length 6876\n",
            "Test length 6875\n",
            "validation length 626034\n"
          ],
          "name": "stdout"
        }
      ]
    },
    {
      "cell_type": "code",
      "metadata": {
        "id": "vrAVvhpwbLES"
      },
      "source": [
        "from pyspark.ml import Pipeline\n",
        "\n",
        "from sparknlp.annotator import *\n",
        "from sparknlp.common import *\n",
        "from sparknlp.base import *"
      ],
      "execution_count": null,
      "outputs": []
    },
    {
      "cell_type": "code",
      "metadata": {
        "colab": {
          "base_uri": "https://localhost:8080/"
        },
        "id": "Zbuliup4bajr",
        "outputId": "d2d8b45c-9305-4b1d-bb9f-d500f33c2036"
      },
      "source": [
        "document = DocumentAssembler()\\\n",
        "    .setInputCol(\"Text\")\\\n",
        "    .setOutputCol(\"document\")\n",
        "\n",
        "use = UniversalSentenceEncoder.pretrained() \\\n",
        " .setInputCols([\"document\"])\\\n",
        " .setOutputCol(\"sentence_embeddings\")\n",
        "\n",
        "# the classes/labels/categories are in category column\n",
        "sentimentdl = SentimentDLApproach()\\\n",
        "  .setInputCols([\"sentence_embeddings\"])\\\n",
        "  .setOutputCol(\"class\")\\\n",
        "  .setLabelColumn(\"Subreddit\")\\\n",
        "  .setMaxEpochs(20)\\\n",
        "  .setEnableOutputLogs(True)\n",
        "\n",
        "pipeline = Pipeline(\n",
        "    stages = [\n",
        "        document,\n",
        "        use,\n",
        "        sentimentdl\n",
        "    ])"
      ],
      "execution_count": null,
      "outputs": [
        {
          "output_type": "stream",
          "text": [
            "tfhub_use download started this may take some time.\n",
            "Approximate size to download 923.7 MB\n",
            "[OK!]\n"
          ],
          "name": "stdout"
        }
      ]
    },
    {
      "cell_type": "code",
      "metadata": {
        "id": "rOm3bO2Nbjyh"
      },
      "source": [
        "pipelineModel = pipeline.fit(train_data)"
      ],
      "execution_count": null,
      "outputs": []
    },
    {
      "cell_type": "code",
      "metadata": {
        "colab": {
          "base_uri": "https://localhost:8080/"
        },
        "id": "YoGVEkfNdZSY",
        "outputId": "27d5d650-8b29-448e-dac3-4bdbc0558db0"
      },
      "source": [
        "!cd ~/annotator_logs && ls -l"
      ],
      "execution_count": null,
      "outputs": [
        {
          "output_type": "stream",
          "text": [
            "total 8\n",
            "-rw-r--r-- 1 root root 1481 Jan  8 20:24 SentimentDLApproach_59844a7c7c32.log\n",
            "-rw-r--r-- 1 root root  433 Jan  8 20:15 SentimentDLApproach_a1cfcfa2e179.log\n"
          ],
          "name": "stdout"
        }
      ]
    },
    {
      "cell_type": "code",
      "metadata": {
        "colab": {
          "base_uri": "https://localhost:8080/"
        },
        "id": "cGCbFQysr70d",
        "outputId": "02a3c4ce-fd79-47fc-e22f-4f20d6f5320a"
      },
      "source": [
        "!cat ~/annotator_logs/SentimentDLApproach_59844a7c7c32.log"
      ],
      "execution_count": null,
      "outputs": [
        {
          "output_type": "stream",
          "text": [
            "Training started - epochs: 20 - learning_rate: 0.005 - batch_size: 64 - training_examples: 6876\n",
            "Epoch 0/20 - 2.38s - loss: 59.34515 - acc: 0.7308703 - batches: 108\n",
            "Epoch 1/20 - 2.37s - loss: 57.567738 - acc: 0.76844126 - batches: 108\n",
            "Epoch 2/20 - 2.18s - loss: 56.11422 - acc: 0.7745744 - batches: 108\n",
            "Epoch 3/20 - 2.16s - loss: 55.052856 - acc: 0.7823139 - batches: 108\n",
            "Epoch 4/20 - 2.18s - loss: 54.340836 - acc: 0.7869868 - batches: 108\n",
            "Epoch 5/20 - 2.16s - loss: 53.669533 - acc: 0.7937041 - batches: 108\n",
            "Epoch 6/20 - 2.25s - loss: 53.162262 - acc: 0.798377 - batches: 108\n",
            "Epoch 7/20 - 2.15s - loss: 52.731255 - acc: 0.80275786 - batches: 108\n",
            "Epoch 8/20 - 2.17s - loss: 52.309166 - acc: 0.8058661 - batches: 108\n",
            "Epoch 9/20 - 2.23s - loss: 51.907764 - acc: 0.80951685 - batches: 108\n",
            "Epoch 10/20 - 2.16s - loss: 51.536446 - acc: 0.81170726 - batches: 108\n",
            "Epoch 11/20 - 2.19s - loss: 51.125496 - acc: 0.81565 - batches: 108\n",
            "Epoch 12/20 - 2.13s - loss: 50.70455 - acc: 0.8195928 - batches: 108\n",
            "Epoch 13/20 - 2.14s - loss: 50.315723 - acc: 0.8232435 - batches: 108\n",
            "Epoch 14/20 - 2.14s - loss: 49.932175 - acc: 0.826164 - batches: 108\n",
            "Epoch 15/20 - 2.16s - loss: 49.581947 - acc: 0.8285005 - batches: 108\n",
            "Epoch 16/20 - 2.17s - loss: 49.271793 - acc: 0.831129 - batches: 108\n",
            "Epoch 17/20 - 2.16s - loss: 49.00705 - acc: 0.8333194 - batches: 108\n",
            "Epoch 18/20 - 2.16s - loss: 48.762924 - acc: 0.8353638 - batches: 108\n",
            "Epoch 19/20 - 2.14s - loss: 48.549774 - acc: 0.8374082 - batches: 108\n"
          ],
          "name": "stdout"
        }
      ]
    },
    {
      "cell_type": "code",
      "metadata": {
        "colab": {
          "base_uri": "https://localhost:8080/"
        },
        "id": "00hR8voppnUY",
        "outputId": "27760f7e-a986-46c4-e25a-d3e7ce2cab3a"
      },
      "source": [
        "# actual content is inside description column\n",
        "document = DocumentAssembler()\\\n",
        "    .setInputCol(\"Text\")\\\n",
        "    .setOutputCol(\"document\")\n",
        "    \n",
        "# we can also use sentence detector here \n",
        "# if we want to train on and get predictions for each sentence\n",
        "# downloading pretrained embeddings\n",
        "bert_sent = BertSentenceEmbeddings.pretrained('sent_small_bert_L8_512')\\\n",
        " .setInputCols([\"document\"])\\\n",
        " .setOutputCol(\"sentence_embeddings\")\n",
        "# the classes/labels/categories are in category column\n",
        "\n",
        "classsifierdl = ClassifierDLApproach()\\\n",
        "  .setInputCols([\"sentence_embeddings\"])\\\n",
        "  .setOutputCol(\"class\")\\\n",
        "  .setLabelColumn(\"Subreddit\")\\\n",
        "  .setMaxEpochs(20)\\\n",
        "  .setEnableOutputLogs(True)\n",
        "\n",
        "bert_sent_clf_pipeline = Pipeline(\n",
        "    stages = [\n",
        "        document,\n",
        "        bert_sent,\n",
        "        classsifierdl\n",
        "    ])"
      ],
      "execution_count": null,
      "outputs": [
        {
          "output_type": "stream",
          "text": [
            "sent_small_bert_L8_512 download started this may take some time.\n",
            "Approximate size to download 149.1 MB\n",
            "[OK!]\n"
          ],
          "name": "stdout"
        }
      ]
    },
    {
      "cell_type": "code",
      "metadata": {
        "id": "8REKwDq6ps9v"
      },
      "source": [
        "bert_pipelineModel = bert_sent_clf_pipeline.fit(train_data)"
      ],
      "execution_count": null,
      "outputs": []
    },
    {
      "cell_type": "code",
      "metadata": {
        "colab": {
          "base_uri": "https://localhost:8080/"
        },
        "id": "ie1z5j1FrvUd",
        "outputId": "8e5850fb-1b3c-45a3-f43b-580e429a0700"
      },
      "source": [
        "!cd ~/annotator_logs && ls -l"
      ],
      "execution_count": null,
      "outputs": [
        {
          "output_type": "stream",
          "text": [
            "total 12\n",
            "-rw-r--r-- 1 root root 1461 Jan  8 20:47 ClassifierDLApproach_cfbc853c01fb.log\n",
            "-rw-r--r-- 1 root root 1481 Jan  8 20:24 SentimentDLApproach_59844a7c7c32.log\n",
            "-rw-r--r-- 1 root root  433 Jan  8 20:15 SentimentDLApproach_a1cfcfa2e179.log\n"
          ],
          "name": "stdout"
        }
      ]
    },
    {
      "cell_type": "code",
      "metadata": {
        "colab": {
          "base_uri": "https://localhost:8080/"
        },
        "id": "bUz336VwwikJ",
        "outputId": "2d41c418-7f18-47fc-adaf-bffcff8ad152"
      },
      "source": [
        "# actual content is inside description column\n",
        "document_assembler = DocumentAssembler().setInputCol(\"Text\").setOutputCol(\"document\")\n",
        "\n",
        "tokenizer = Tokenizer().setInputCols([\"document\"]).setOutputCol(\"token\")\n",
        "\n",
        "normalizer = Normalizer().setInputCols([\"token\"]).setOutputCol(\"normalized\")\n",
        "\n",
        "stopwords_cleaner = StopWordsCleaner().setInputCols([\"normalized\"]).setOutputCol(\"cleanTokens\").setCaseSensitive(False)\n",
        "    \n",
        "lemma = LemmatizerModel.pretrained('lemma_antbnc')\\\n",
        "    .setInputCols([\"cleanTokens\"])\\\n",
        "    .setOutputCol(\"lemma\")\n",
        "# we can also use sentence detector here \n",
        "# if we want to train on and get predictions for each sentence\n",
        "# downloading pretrained embeddings\n",
        "word_embeddings = WordEmbeddingsModel.pretrained()\\\n",
        " .setInputCols([\"document\", \"lemma\"])\\\n",
        " .setOutputCol(\"embeddings\")\\\n",
        " .setCaseSensitive(False)\n",
        "embeddings_sentence = SentenceEmbeddings().setInputCols([\"document\",\"embeddings\"]).setOutputCol(\"sentence_embeddings\").setPoolingStrategy(\"AVERAGE\")\n",
        "\n",
        "# the classes/labels/categories are in category column\n",
        "\n",
        "classsifierdl = ClassifierDLApproach()\\\n",
        "  .setInputCols([\"sentence_embeddings\"])\\\n",
        "  .setOutputCol(\"class\")\\\n",
        "  .setLabelColumn(\"Subreddit\")\\\n",
        "  .setMaxEpochs(20)\\\n",
        "  .setEnableOutputLogs(True)\n",
        "\n",
        "clf_pipeline = Pipeline(\n",
        "    stages = [\n",
        "        document_assembler,\n",
        "        tokenizer,\n",
        "        normalizer,\n",
        "        stopwords_cleaner,\n",
        "        lemma,\n",
        "        word_embeddings,\n",
        "        embeddings_sentence,\n",
        "        classsifierdl\n",
        "    ])"
      ],
      "execution_count": null,
      "outputs": [
        {
          "output_type": "stream",
          "text": [
            "lemma_antbnc download started this may take some time.\n",
            "Approximate size to download 907.6 KB\n",
            "[OK!]\n",
            "glove_100d download started this may take some time.\n",
            "Approximate size to download 145.3 MB\n",
            "[OK!]\n"
          ],
          "name": "stdout"
        }
      ]
    },
    {
      "cell_type": "code",
      "metadata": {
        "id": "2lJhHMA4z3D7"
      },
      "source": [
        "clf_pipelineModel = clf_pipeline.fit(train_data)"
      ],
      "execution_count": null,
      "outputs": []
    },
    {
      "cell_type": "code",
      "metadata": {
        "colab": {
          "base_uri": "https://localhost:8080/"
        },
        "id": "WtEdJUen2S3c",
        "outputId": "ff6af3ea-6c1f-4226-e3f3-c0a6e5566425"
      },
      "source": [
        "!cd ~/annotator_logs && ls -l"
      ],
      "execution_count": null,
      "outputs": [
        {
          "output_type": "stream",
          "text": [
            "total 16\n",
            "-rw-r--r-- 1 root root 1490 Jan  8 21:16 ClassifierDLApproach_56ee1fb46f28.log\n",
            "-rw-r--r-- 1 root root 1461 Jan  8 20:47 ClassifierDLApproach_cfbc853c01fb.log\n",
            "-rw-r--r-- 1 root root 1481 Jan  8 20:24 SentimentDLApproach_59844a7c7c32.log\n",
            "-rw-r--r-- 1 root root  433 Jan  8 20:15 SentimentDLApproach_a1cfcfa2e179.log\n"
          ],
          "name": "stdout"
        }
      ]
    },
    {
      "cell_type": "code",
      "metadata": {
        "colab": {
          "base_uri": "https://localhost:8080/"
        },
        "id": "YZ7zLrul3Ak5",
        "outputId": "7f5ddb26-7583-4b68-ecac-55a182b7ad27"
      },
      "source": [
        "!cat ~/annotator_logs/ClassifierDLApproach_56ee1fb46f28.log"
      ],
      "execution_count": null,
      "outputs": [
        {
          "output_type": "stream",
          "text": [
            "Training started - epochs: 20 - learning_rate: 0.005 - batch_size: 64 - training_examples: 6876 - classes: 2\n",
            "Epoch 0/20 - 3.10s - loss: 72.29845 - acc: 0.60201097 - batches: 108\n",
            "Epoch 1/20 - 2.24s - loss: 64.93205 - acc: 0.6910673 - batches: 108\n",
            "Epoch 2/20 - 2.20s - loss: 64.16535 - acc: 0.69978726 - batches: 108\n",
            "Epoch 3/20 - 2.24s - loss: 63.29178 - acc: 0.70869493 - batches: 108\n",
            "Epoch 4/20 - 2.22s - loss: 62.46677 - acc: 0.71311754 - batches: 108\n",
            "Epoch 5/20 - 2.26s - loss: 62.128746 - acc: 0.715454 - batches: 108\n",
            "Epoch 6/20 - 2.24s - loss: 61.808155 - acc: 0.7182285 - batches: 108\n",
            "Epoch 7/20 - 2.22s - loss: 61.563927 - acc: 0.7189586 - batches: 108\n",
            "Epoch 8/20 - 2.22s - loss: 61.350502 - acc: 0.721003 - batches: 108\n",
            "Epoch 9/20 - 2.21s - loss: 61.21146 - acc: 0.7218792 - batches: 108\n",
            "Epoch 10/20 - 2.23s - loss: 61.10493 - acc: 0.7240696 - batches: 108\n",
            "Epoch 11/20 - 2.22s - loss: 61.028774 - acc: 0.7253839 - batches: 108\n",
            "Epoch 12/20 - 2.27s - loss: 60.963905 - acc: 0.725968 - batches: 108\n",
            "Epoch 13/20 - 2.31s - loss: 60.904583 - acc: 0.7275743 - batches: 108\n",
            "Epoch 14/20 - 2.28s - loss: 60.86626 - acc: 0.7272822 - batches: 108\n",
            "Epoch 15/20 - 2.29s - loss: 60.83656 - acc: 0.7281584 - batches: 108\n",
            "Epoch 16/20 - 2.27s - loss: 60.815872 - acc: 0.7285965 - batches: 108\n",
            "Epoch 17/20 - 2.23s - loss: 60.80358 - acc: 0.7291806 - batches: 108\n",
            "Epoch 18/20 - 2.23s - loss: 60.795086 - acc: 0.7291389 - batches: 108\n",
            "Epoch 19/20 - 2.25s - loss: 60.79456 - acc: 0.73001504 - batches: 108\n"
          ],
          "name": "stdout"
        }
      ]
    },
    {
      "cell_type": "code",
      "metadata": {
        "colab": {
          "base_uri": "https://localhost:8080/"
        },
        "id": "Kh9O6_iW3OWJ",
        "outputId": "51a1ea1a-7628-41bf-f9a4-20e43ba66ab6"
      },
      "source": [
        "!cat ~/annotator_logs/ClassifierDLApproach_cfbc853c01fb.log"
      ],
      "execution_count": null,
      "outputs": [
        {
          "output_type": "stream",
          "text": [
            "Training started - epochs: 20 - learning_rate: 0.005 - batch_size: 64 - training_examples: 6876 - classes: 2\n",
            "Epoch 0/20 - 2.92s - loss: 77.26133 - acc: 0.52951854 - batches: 108\n",
            "Epoch 1/20 - 2.18s - loss: 76.83232 - acc: 0.531855 - batches: 108\n",
            "Epoch 2/20 - 2.18s - loss: 76.83232 - acc: 0.531855 - batches: 108\n",
            "Epoch 3/20 - 2.17s - loss: 76.83232 - acc: 0.531855 - batches: 108\n",
            "Epoch 4/20 - 2.17s - loss: 76.83232 - acc: 0.531855 - batches: 108\n",
            "Epoch 5/20 - 2.19s - loss: 76.83232 - acc: 0.531855 - batches: 108\n",
            "Epoch 6/20 - 2.18s - loss: 76.83232 - acc: 0.531855 - batches: 108\n",
            "Epoch 7/20 - 2.19s - loss: 76.83232 - acc: 0.531855 - batches: 108\n",
            "Epoch 8/20 - 2.17s - loss: 76.83232 - acc: 0.531855 - batches: 108\n",
            "Epoch 9/20 - 2.18s - loss: 76.83232 - acc: 0.531855 - batches: 108\n",
            "Epoch 10/20 - 2.18s - loss: 76.83232 - acc: 0.531855 - batches: 108\n",
            "Epoch 11/20 - 2.19s - loss: 76.83232 - acc: 0.531855 - batches: 108\n",
            "Epoch 12/20 - 2.21s - loss: 76.83232 - acc: 0.531855 - batches: 108\n",
            "Epoch 13/20 - 2.19s - loss: 76.83232 - acc: 0.531855 - batches: 108\n",
            "Epoch 14/20 - 2.17s - loss: 76.83232 - acc: 0.531855 - batches: 108\n",
            "Epoch 15/20 - 2.17s - loss: 76.83232 - acc: 0.531855 - batches: 108\n",
            "Epoch 16/20 - 2.17s - loss: 76.83232 - acc: 0.531855 - batches: 108\n",
            "Epoch 17/20 - 2.19s - loss: 76.83232 - acc: 0.531855 - batches: 108\n",
            "Epoch 18/20 - 2.18s - loss: 76.83232 - acc: 0.531855 - batches: 108\n",
            "Epoch 19/20 - 2.16s - loss: 76.83232 - acc: 0.531855 - batches: 108\n"
          ],
          "name": "stdout"
        }
      ]
    },
    {
      "cell_type": "code",
      "metadata": {
        "colab": {
          "base_uri": "https://localhost:8080/"
        },
        "id": "aUnfCp0Z3arH",
        "outputId": "471b8340-3b45-400b-fea2-7c6546756c68"
      },
      "source": [
        "!cat ~/annotator_logs/SentimentDLApproach_59844a7c7c32.log"
      ],
      "execution_count": null,
      "outputs": [
        {
          "output_type": "stream",
          "text": [
            "Training started - epochs: 20 - learning_rate: 0.005 - batch_size: 64 - training_examples: 6876\n",
            "Epoch 0/20 - 2.38s - loss: 59.34515 - acc: 0.7308703 - batches: 108\n",
            "Epoch 1/20 - 2.37s - loss: 57.567738 - acc: 0.76844126 - batches: 108\n",
            "Epoch 2/20 - 2.18s - loss: 56.11422 - acc: 0.7745744 - batches: 108\n",
            "Epoch 3/20 - 2.16s - loss: 55.052856 - acc: 0.7823139 - batches: 108\n",
            "Epoch 4/20 - 2.18s - loss: 54.340836 - acc: 0.7869868 - batches: 108\n",
            "Epoch 5/20 - 2.16s - loss: 53.669533 - acc: 0.7937041 - batches: 108\n",
            "Epoch 6/20 - 2.25s - loss: 53.162262 - acc: 0.798377 - batches: 108\n",
            "Epoch 7/20 - 2.15s - loss: 52.731255 - acc: 0.80275786 - batches: 108\n",
            "Epoch 8/20 - 2.17s - loss: 52.309166 - acc: 0.8058661 - batches: 108\n",
            "Epoch 9/20 - 2.23s - loss: 51.907764 - acc: 0.80951685 - batches: 108\n",
            "Epoch 10/20 - 2.16s - loss: 51.536446 - acc: 0.81170726 - batches: 108\n",
            "Epoch 11/20 - 2.19s - loss: 51.125496 - acc: 0.81565 - batches: 108\n",
            "Epoch 12/20 - 2.13s - loss: 50.70455 - acc: 0.8195928 - batches: 108\n",
            "Epoch 13/20 - 2.14s - loss: 50.315723 - acc: 0.8232435 - batches: 108\n",
            "Epoch 14/20 - 2.14s - loss: 49.932175 - acc: 0.826164 - batches: 108\n",
            "Epoch 15/20 - 2.16s - loss: 49.581947 - acc: 0.8285005 - batches: 108\n",
            "Epoch 16/20 - 2.17s - loss: 49.271793 - acc: 0.831129 - batches: 108\n",
            "Epoch 17/20 - 2.16s - loss: 49.00705 - acc: 0.8333194 - batches: 108\n",
            "Epoch 18/20 - 2.16s - loss: 48.762924 - acc: 0.8353638 - batches: 108\n",
            "Epoch 19/20 - 2.14s - loss: 48.549774 - acc: 0.8374082 - batches: 108\n"
          ],
          "name": "stdout"
        }
      ]
    },
    {
      "cell_type": "code",
      "metadata": {
        "id": "_lj3b1RH3vCf"
      },
      "source": [
        ""
      ],
      "execution_count": null,
      "outputs": []
    }
  ]
}