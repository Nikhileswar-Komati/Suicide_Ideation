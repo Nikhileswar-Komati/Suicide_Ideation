{
  "nbformat": 4,
  "nbformat_minor": 0,
  "metadata": {
    "colab": {
      "name": "BERT_Suicide_Ideation.ipynb",
      "provenance": [],
      "authorship_tag": "ABX9TyPHOdqk3GoAh4AidKHNjR23",
      "include_colab_link": true
    },
    "kernelspec": {
      "name": "python3",
      "display_name": "Python 3"
    },
    "accelerator": "GPU"
  },
  "cells": [
    {
      "cell_type": "markdown",
      "metadata": {
        "id": "view-in-github",
        "colab_type": "text"
      },
      "source": [
        "<a href=\"https://colab.research.google.com/github/Nikhileswar-Komati/Suicide_Ideation/blob/master/BERT_Suicide_Ideation.ipynb\" target=\"_parent\"><img src=\"https://colab.research.google.com/assets/colab-badge.svg\" alt=\"Open In Colab\"/></a>"
      ]
    },
    {
      "cell_type": "code",
      "metadata": {
        "id": "oq7NNI4r8phF",
        "colab": {
          "base_uri": "https://localhost:8080/"
        },
        "outputId": "a7a31450-b744-429c-da70-3dfbc530fabe"
      },
      "source": [
        "import numpy as np\n",
        "import pandas as pd\n",
        "import re\n",
        "from collections import defaultdict\n",
        "np.seterr(divide = 'ignore')"
      ],
      "execution_count": 1,
      "outputs": [
        {
          "output_type": "execute_result",
          "data": {
            "text/plain": [
              "{'divide': 'warn', 'invalid': 'warn', 'over': 'warn', 'under': 'ignore'}"
            ]
          },
          "metadata": {
            "tags": []
          },
          "execution_count": 1
        }
      ]
    },
    {
      "cell_type": "code",
      "metadata": {
        "id": "rEq6mzmy8tiY"
      },
      "source": [
        "from google.colab import files\n",
        "files.upload()"
      ],
      "execution_count": null,
      "outputs": []
    },
    {
      "cell_type": "code",
      "metadata": {
        "id": "2GDYD69G812r",
        "colab": {
          "base_uri": "https://localhost:8080/",
          "height": 235
        },
        "outputId": "88ac9bfa-d475-46cc-ef67-569729ed9919"
      },
      "source": [
        "data = pd.read_csv('/content/500_Reddit_users_posts_labels.csv', index_col = 'User')\n",
        "data.head(5)"
      ],
      "execution_count": 4,
      "outputs": [
        {
          "output_type": "execute_result",
          "data": {
            "text/html": [
              "<div>\n",
              "<style scoped>\n",
              "    .dataframe tbody tr th:only-of-type {\n",
              "        vertical-align: middle;\n",
              "    }\n",
              "\n",
              "    .dataframe tbody tr th {\n",
              "        vertical-align: top;\n",
              "    }\n",
              "\n",
              "    .dataframe thead th {\n",
              "        text-align: right;\n",
              "    }\n",
              "</style>\n",
              "<table border=\"1\" class=\"dataframe\">\n",
              "  <thead>\n",
              "    <tr style=\"text-align: right;\">\n",
              "      <th></th>\n",
              "      <th>Post</th>\n",
              "      <th>Label</th>\n",
              "    </tr>\n",
              "    <tr>\n",
              "      <th>User</th>\n",
              "      <th></th>\n",
              "      <th></th>\n",
              "    </tr>\n",
              "  </thead>\n",
              "  <tbody>\n",
              "    <tr>\n",
              "      <th>user-0</th>\n",
              "      <td>['Its not a viable option, and youll be leavin...</td>\n",
              "      <td>Supportive</td>\n",
              "    </tr>\n",
              "    <tr>\n",
              "      <th>user-1</th>\n",
              "      <td>['It can be hard to appreciate the notion that...</td>\n",
              "      <td>Ideation</td>\n",
              "    </tr>\n",
              "    <tr>\n",
              "      <th>user-2</th>\n",
              "      <td>['Hi, so last night i was sitting on the ledge...</td>\n",
              "      <td>Behavior</td>\n",
              "    </tr>\n",
              "    <tr>\n",
              "      <th>user-3</th>\n",
              "      <td>['I tried to kill my self once and failed badl...</td>\n",
              "      <td>Attempt</td>\n",
              "    </tr>\n",
              "    <tr>\n",
              "      <th>user-4</th>\n",
              "      <td>['Hi NEM3030. What sorts of things do you enjo...</td>\n",
              "      <td>Ideation</td>\n",
              "    </tr>\n",
              "  </tbody>\n",
              "</table>\n",
              "</div>"
            ],
            "text/plain": [
              "                                                     Post       Label\n",
              "User                                                                 \n",
              "user-0  ['Its not a viable option, and youll be leavin...  Supportive\n",
              "user-1  ['It can be hard to appreciate the notion that...    Ideation\n",
              "user-2  ['Hi, so last night i was sitting on the ledge...    Behavior\n",
              "user-3  ['I tried to kill my self once and failed badl...     Attempt\n",
              "user-4  ['Hi NEM3030. What sorts of things do you enjo...    Ideation"
            ]
          },
          "metadata": {
            "tags": []
          },
          "execution_count": 4
        }
      ]
    },
    {
      "cell_type": "code",
      "metadata": {
        "id": "Kp2RWgC89KTA",
        "colab": {
          "base_uri": "https://localhost:8080/"
        },
        "outputId": "2b2c125c-3caf-408c-f509-c0d1979303b3"
      },
      "source": [
        "data.shape"
      ],
      "execution_count": 5,
      "outputs": [
        {
          "output_type": "execute_result",
          "data": {
            "text/plain": [
              "(500, 2)"
            ]
          },
          "metadata": {
            "tags": []
          },
          "execution_count": 5
        }
      ]
    },
    {
      "cell_type": "code",
      "metadata": {
        "id": "2WmEe6Kb9eSs",
        "colab": {
          "base_uri": "https://localhost:8080/"
        },
        "outputId": "f5d8155e-3a53-4e9a-dd2f-609e44c6026a"
      },
      "source": [
        "data['Label'].value_counts()"
      ],
      "execution_count": 6,
      "outputs": [
        {
          "output_type": "execute_result",
          "data": {
            "text/plain": [
              "Ideation      171\n",
              "Supportive    108\n",
              "Indicator      99\n",
              "Behavior       77\n",
              "Attempt        45\n",
              "Name: Label, dtype: int64"
            ]
          },
          "metadata": {
            "tags": []
          },
          "execution_count": 6
        }
      ]
    },
    {
      "cell_type": "code",
      "metadata": {
        "id": "0_C0CaCK9mPh",
        "colab": {
          "base_uri": "https://localhost:8080/",
          "height": 350
        },
        "outputId": "eaa28b4b-d2c2-4390-cc98-f4c333ae54bb"
      },
      "source": [
        "import seaborn as sns\n",
        "sns.countplot(data['Label'])"
      ],
      "execution_count": 7,
      "outputs": [
        {
          "output_type": "stream",
          "text": [
            "/usr/local/lib/python3.6/dist-packages/seaborn/_decorators.py:43: FutureWarning: Pass the following variable as a keyword arg: x. From version 0.12, the only valid positional argument will be `data`, and passing other arguments without an explicit keyword will result in an error or misinterpretation.\n",
            "  FutureWarning\n"
          ],
          "name": "stderr"
        },
        {
          "output_type": "execute_result",
          "data": {
            "text/plain": [
              "<matplotlib.axes._subplots.AxesSubplot at 0x7f08011e3860>"
            ]
          },
          "metadata": {
            "tags": []
          },
          "execution_count": 7
        },
        {
          "output_type": "display_data",
          "data": {
            "image/png": "[encoded data removed]",
            "text/plain": [
              "<Figure size 432x288 with 1 Axes>"
            ]
          },
          "metadata": {
            "tags": [],
            "needs_background": "light"
          }
        }
      ]
    },
    {
      "cell_type": "code",
      "metadata": {
        "id": "e9RnB91sVcLS",
        "colab": {
          "base_uri": "https://localhost:8080/",
          "height": 103
        },
        "outputId": "21c74548-0b58-467d-8dae-654a2da3c6ec"
      },
      "source": [
        "data['Post'][0]"
      ],
      "execution_count": 8,
      "outputs": [
        {
          "output_type": "execute_result",
          "data": {
            "application/vnd.google.colaboratory.intrinsic+json": {
              "type": "string"
            },
            "text/plain": [
              "\"['Its not a viable option, and youll be leaving your wife behind. Youd Pain her beyond comprehension.It sucks worrying about money, I know that first hand. It can definitely feel hopeless, as you seem to be Tired aware of. Your wife might need to chip in financially. I know time is an issue, but even 10-15 hours a Asthenia could alleviate a lot of the pressure. In the meantime, get your shit together - write that resume tomorrow. No excuses, get it done and send it out. Whether you believe in some sort of powerful being or force governing things or not, things really do work themselves out. This is a big test for you, and youll pull through. Just try to stay as positive as you can and everything will work out.']\""
            ]
          },
          "metadata": {
            "tags": []
          },
          "execution_count": 8
        }
      ]
    },
    {
      "cell_type": "code",
      "metadata": {
        "id": "PH4C7cjw-UcX",
        "colab": {
          "base_uri": "https://localhost:8080/"
        },
        "outputId": "6bfcdfd9-44a5-4a06-ce53-7f0f53a83c24"
      },
      "source": [
        "text = \"Hello, Stupid:: idiot!\"\n",
        "def preprocess(string):\n",
        "  processed_string = re.sub('[^a-z0-9]+', ' ', string, flags=re.IGNORECASE)\n",
        "  processed_string = re.sub('(\\s+)', ' ', processed_string)\n",
        "  processed_string = processed_string.lower()\n",
        "  return processed_string\n",
        "print(preprocess(data['Post'][0]))"
      ],
      "execution_count": 9,
      "outputs": [
        {
          "output_type": "stream",
          "text": [
            " its not a viable option and youll be leaving your wife behind youd pain her beyond comprehension it sucks worrying about money i know that first hand it can definitely feel hopeless as you seem to be tired aware of your wife might need to chip in financially i know time is an issue but even 10 15 hours a asthenia could alleviate a lot of the pressure in the meantime get your shit together write that resume tomorrow no excuses get it done and send it out whether you believe in some sort of powerful being or force governing things or not things really do work themselves out this is a big test for you and youll pull through just try to stay as positive as you can and everything will work out \n"
          ],
          "name": "stdout"
        }
      ]
    },
    {
      "cell_type": "code",
      "metadata": {
        "id": "SnV7yhrgV-dh",
        "colab": {
          "base_uri": "https://localhost:8080/"
        },
        "outputId": "9ce857a4-64cc-4dd3-957b-af03dfd88b72"
      },
      "source": [
        "X = data['Post'].values\n",
        "y = data['Label'].values\n",
        "\n",
        "from sklearn.model_selection import train_test_split\n",
        "from sklearn.preprocessing import LabelEncoder\n",
        "\n",
        "le = LabelEncoder()\n",
        "\n",
        "y = le.fit_transform(y)\n",
        "# X = list(X)\n",
        "# y = list(y)\n",
        "print(set(y))\n",
        "train_X, test_X, train_y, test_y = train_test_split(X, y, test_size = 0.04, random_state = 42)\n",
        "print(len(train_X), len(test_X))"
      ],
      "execution_count": 10,
      "outputs": [
        {
          "output_type": "stream",
          "text": [
            "{0, 1, 2, 3, 4}\n",
            "480 20\n"
          ],
          "name": "stdout"
        }
      ]
    },
    {
      "cell_type": "code",
      "metadata": {
        "id": "6mXxKawVXdf2"
      },
      "source": [
        "cleaned_train_data = [preprocess(ele) for ele in train_X]\n",
        "cleaned_test_data = [preprocess(ele) for ele in test_X]\n"
      ],
      "execution_count": 11,
      "outputs": []
    },
    {
      "cell_type": "code",
      "metadata": {
        "id": "Wf25MgqBYzG2"
      },
      "source": [
        "import numpy as np\r\n",
        "import pandas as pd\r\n",
        "import tensorflow as tf\r\n",
        "import tensorflow_hub as hub\r\n",
        "import logging\r\n",
        "logging.basicConfig(level=logging.INFO)"
      ],
      "execution_count": 12,
      "outputs": []
    },
    {
      "cell_type": "code",
      "metadata": {
        "id": "MtQHLJRMhfX-"
      },
      "source": [
        "!wget --quiet https://raw.githubusercontent.com/tensorflow/models/master/official/nlp/bert/tokenization.py"
      ],
      "execution_count": 13,
      "outputs": []
    },
    {
      "cell_type": "code",
      "metadata": {
        "colab": {
          "base_uri": "https://localhost:8080/"
        },
        "id": "G3nx1AhfhpCb",
        "outputId": "38526406-516e-44bd-e9b2-97ad1c145d34"
      },
      "source": [
        "pip install sentencepiece"
      ],
      "execution_count": 14,
      "outputs": [
        {
          "output_type": "stream",
          "text": [
            "Collecting sentencepiece\n",
            "\u001b[?25l  Downloading https://files.pythonhosted.org/packages/e5/2d/6d4ca4bef9a67070fa1cac508606328329152b1df10bdf31fb6e4e727894/sentencepiece-0.1.94-cp36-cp36m-manylinux2014_x86_64.whl (1.1MB)\n",
            "\u001b[K     |████████████████████████████████| 1.1MB 7.4MB/s \n",
            "\u001b[?25hInstalling collected packages: sentencepiece\n",
            "Successfully installed sentencepiece-0.1.94\n"
          ],
          "name": "stdout"
        }
      ]
    },
    {
      "cell_type": "code",
      "metadata": {
        "colab": {
          "base_uri": "https://localhost:8080/"
        },
        "id": "s9wDuSy2hkvu",
        "outputId": "aa063dd5-0d4c-462f-8ac7-fb1365d5220c"
      },
      "source": [
        "import tensorflow_hub as hub\r\n",
        "import tokenization\r\n",
        "module_url = 'https://tfhub.dev/tensorflow/bert_en_uncased_L-12_H-768_A-12/2'\r\n",
        "bert_layer = hub.KerasLayer(module_url, trainable=True)"
      ],
      "execution_count": 15,
      "outputs": [
        {
          "output_type": "stream",
          "text": [
            "INFO:absl:resolver HttpCompressedFileResolver does not support the provided handle.\n",
            "INFO:absl:resolver GcsCompressedFileResolver does not support the provided handle.\n"
          ],
          "name": "stderr"
        }
      ]
    },
    {
      "cell_type": "code",
      "metadata": {
        "id": "9uNH2_0UhzRv"
      },
      "source": [
        "vocab_file = bert_layer.resolved_object.vocab_file.asset_path.numpy()\r\n",
        "do_lower_case = bert_layer.resolved_object.do_lower_case.numpy()\r\n",
        "tokenizer = tokenization.FullTokenizer(vocab_file, do_lower_case)\r\n",
        "\r\n",
        "def bert_encode(texts, tokenizer, max_len=512):\r\n",
        "    all_tokens = []\r\n",
        "    all_masks = []\r\n",
        "    all_segments = []\r\n",
        "    \r\n",
        "    for text in texts:\r\n",
        "        text = tokenizer.tokenize(text)\r\n",
        "            \r\n",
        "        text = text[:max_len-2]\r\n",
        "        input_sequence = [\"[CLS]\"] + text + [\"[SEP]\"]\r\n",
        "        pad_len = max_len - len(input_sequence)\r\n",
        "        \r\n",
        "        tokens = tokenizer.convert_tokens_to_ids(input_sequence) + [0] * pad_len\r\n",
        "        pad_masks = [1] * len(input_sequence) + [0] * pad_len\r\n",
        "        segment_ids = [0] * max_len\r\n",
        "        \r\n",
        "        all_tokens.append(tokens)\r\n",
        "        all_masks.append(pad_masks)\r\n",
        "        all_segments.append(segment_ids)\r\n",
        "    \r\n",
        "    return np.array(all_tokens), np.array(all_masks), np.array(all_segments)"
      ],
      "execution_count": 16,
      "outputs": []
    },
    {
      "cell_type": "code",
      "metadata": {
        "id": "ewFF3fa3iwd2"
      },
      "source": [
        "def build_model(bert_layer, max_len=512):\r\n",
        "    input_word_ids = tf.keras.Input(shape=(max_len,), dtype=tf.int32, name=\"input_word_ids\")\r\n",
        "    input_mask = tf.keras.Input(shape=(max_len,), dtype=tf.int32, name=\"input_mask\")\r\n",
        "    segment_ids = tf.keras.Input(shape=(max_len,), dtype=tf.int32, name=\"segment_ids\")\r\n",
        "\r\n",
        "    pooled_output, sequence_output = bert_layer([input_word_ids, input_mask, segment_ids])\r\n",
        "    clf_output = sequence_output[:, 0, :]\r\n",
        "    net = tf.keras.layers.Dense(64, activation='relu')(clf_output)\r\n",
        "    net = tf.keras.layers.Dropout(0.3)(net)\r\n",
        "    net = tf.keras.layers.Dense(32, activation='relu')(net)\r\n",
        "    net = tf.keras.layers.Dropout(0.3)(net)\r\n",
        "    out = tf.keras.layers.Dense(5, activation='softmax')(net)\r\n",
        "    \r\n",
        "    model = tf.keras.models.Model(inputs=[input_word_ids, input_mask, segment_ids], outputs=out)\r\n",
        "    model.compile(tf.keras.optimizers.Adam(lr=1e-5), loss='categorical_crossentropy', metrics=['accuracy'])\r\n",
        "    \r\n",
        "    return model"
      ],
      "execution_count": 92,
      "outputs": []
    },
    {
      "cell_type": "code",
      "metadata": {
        "id": "z_YFGuzWi77P"
      },
      "source": [
        "import keras\r\n",
        "max_len = 512\r\n",
        "train_input = bert_encode(cleaned_train_data, tokenizer, max_len = max_len)\r\n",
        "test_input = bert_encode(cleaned_test_data, tokenizer, max_len = max_len)\r\n",
        "train_labels = keras.utils.to_categorical(train_y, num_classes = 5)"
      ],
      "execution_count": 93,
      "outputs": []
    },
    {
      "cell_type": "code",
      "metadata": {
        "colab": {
          "base_uri": "https://localhost:8080/"
        },
        "id": "iYlvA6SUjYAI",
        "outputId": "7750c242-60db-4cbd-c402-e1ef8fe2cfe2"
      },
      "source": [
        "model = build_model(bert_layer, max_len=max_len)\r\n",
        "model.summary()"
      ],
      "execution_count": 94,
      "outputs": [
        {
          "output_type": "stream",
          "text": [
            "Model: \"functional_39\"\n",
            "__________________________________________________________________________________________________\n",
            "Layer (type)                    Output Shape         Param #     Connected to                     \n",
            "==================================================================================================\n",
            "input_word_ids (InputLayer)     [(None, 512)]        0                                            \n",
            "__________________________________________________________________________________________________\n",
            "input_mask (InputLayer)         [(None, 512)]        0                                            \n",
            "__________________________________________________________________________________________________\n",
            "segment_ids (InputLayer)        [(None, 512)]        0                                            \n",
            "__________________________________________________________________________________________________\n",
            "keras_layer (KerasLayer)        multiple             109482241   input_word_ids[0][0]             \n",
            "                                                                 input_mask[0][0]                 \n",
            "                                                                 segment_ids[0][0]                \n",
            "__________________________________________________________________________________________________\n",
            "tf_op_layer_strided_slice_19 (T [(None, 768)]        0           keras_layer[19][1]               \n",
            "__________________________________________________________________________________________________\n",
            "dense_58 (Dense)                (None, 64)           49216       tf_op_layer_strided_slice_19[0][0\n",
            "__________________________________________________________________________________________________\n",
            "dropout_39 (Dropout)            (None, 64)           0           dense_58[0][0]                   \n",
            "__________________________________________________________________________________________________\n",
            "dense_59 (Dense)                (None, 32)           2080        dropout_39[0][0]                 \n",
            "__________________________________________________________________________________________________\n",
            "dropout_40 (Dropout)            (None, 32)           0           dense_59[0][0]                   \n",
            "__________________________________________________________________________________________________\n",
            "dense_60 (Dense)                (None, 5)            165         dropout_40[0][0]                 \n",
            "==================================================================================================\n",
            "Total params: 109,533,702\n",
            "Trainable params: 109,533,701\n",
            "Non-trainable params: 1\n",
            "__________________________________________________________________________________________________\n"
          ],
          "name": "stdout"
        }
      ]
    },
    {
      "cell_type": "code",
      "metadata": {
        "colab": {
          "base_uri": "https://localhost:8080/"
        },
        "id": "TqU0rp5Uly7g",
        "outputId": "c851e1fd-7c5b-4075-e687-c4fb31d20d9e"
      },
      "source": [
        "checkpoint = tf.keras.callbacks.ModelCheckpoint('model.h5', monitor='val_accuracy', save_best_only=True, verbose=1)\r\n",
        "earlystopping = tf.keras.callbacks.EarlyStopping(monitor='val_accuracy', patience=5, verbose=1)\r\n",
        "\r\n",
        "train_history = model.fit(\r\n",
        "    train_input, train_labels, \r\n",
        "    validation_split = 0.05,\r\n",
        "    epochs = 10,\r\n",
        "    callbacks = [checkpoint, earlystopping],\r\n",
        "    batch_size = 8,\r\n",
        "    verbose = 1)"
      ],
      "execution_count": 95,
      "outputs": [
        {
          "output_type": "stream",
          "text": [
            "Epoch 1/10\n",
            "57/57 [==============================] - ETA: 0s - loss: 0.7282 - accuracy: 0.7654WARNING:tensorflow:Callbacks method `on_test_batch_end` is slow compared to the batch time (batch time: 0.0106s vs `on_test_batch_end` time: 0.1736s). Check your callbacks.\n"
          ],
          "name": "stdout"
        },
        {
          "output_type": "stream",
          "text": [
            "WARNING:tensorflow:Callbacks method `on_test_batch_end` is slow compared to the batch time (batch time: 0.0106s vs `on_test_batch_end` time: 0.1736s). Check your callbacks.\n"
          ],
          "name": "stderr"
        },
        {
          "output_type": "stream",
          "text": [
            "\n",
            "Epoch 00001: val_accuracy improved from -inf to 0.29167, saving model to model.h5\n",
            "57/57 [==============================] - 38s 662ms/step - loss: 0.7282 - accuracy: 0.7654 - val_loss: 1.9315 - val_accuracy: 0.2917\n",
            "Epoch 2/10\n",
            "57/57 [==============================] - ETA: 0s - loss: 0.3576 - accuracy: 0.9189\n",
            "Epoch 00002: val_accuracy improved from 0.29167 to 0.33333, saving model to model.h5\n",
            "57/57 [==============================] - 37s 651ms/step - loss: 0.3576 - accuracy: 0.9189 - val_loss: 2.5479 - val_accuracy: 0.3333\n",
            "Epoch 3/10\n",
            "57/57 [==============================] - ETA: 0s - loss: 0.2470 - accuracy: 0.9254\n",
            "Epoch 00003: val_accuracy improved from 0.33333 to 0.37500, saving model to model.h5\n",
            "57/57 [==============================] - 37s 650ms/step - loss: 0.2470 - accuracy: 0.9254 - val_loss: 2.9060 - val_accuracy: 0.3750\n",
            "Epoch 4/10\n",
            "57/57 [==============================] - ETA: 0s - loss: 0.1711 - accuracy: 0.9496\n",
            "Epoch 00004: val_accuracy did not improve from 0.37500\n",
            "57/57 [==============================] - 32s 564ms/step - loss: 0.1711 - accuracy: 0.9496 - val_loss: 3.0970 - val_accuracy: 0.3750\n",
            "Epoch 5/10\n",
            "57/57 [==============================] - ETA: 0s - loss: 0.1724 - accuracy: 0.9518\n",
            "Epoch 00005: val_accuracy did not improve from 0.37500\n",
            "57/57 [==============================] - 32s 564ms/step - loss: 0.1724 - accuracy: 0.9518 - val_loss: 3.1132 - val_accuracy: 0.2917\n",
            "Epoch 6/10\n",
            "57/57 [==============================] - ETA: 0s - loss: 0.1479 - accuracy: 0.9583\n",
            "Epoch 00006: val_accuracy did not improve from 0.37500\n",
            "57/57 [==============================] - 32s 564ms/step - loss: 0.1479 - accuracy: 0.9583 - val_loss: 3.3902 - val_accuracy: 0.3333\n",
            "Epoch 7/10\n",
            "57/57 [==============================] - ETA: 0s - loss: 0.1492 - accuracy: 0.9518\n",
            "Epoch 00007: val_accuracy did not improve from 0.37500\n",
            "57/57 [==============================] - 32s 564ms/step - loss: 0.1492 - accuracy: 0.9518 - val_loss: 3.5055 - val_accuracy: 0.3750\n",
            "Epoch 8/10\n",
            "57/57 [==============================] - ETA: 0s - loss: 0.1448 - accuracy: 0.9605\n",
            "Epoch 00008: val_accuracy improved from 0.37500 to 0.41667, saving model to model.h5\n",
            "57/57 [==============================] - 37s 651ms/step - loss: 0.1448 - accuracy: 0.9605 - val_loss: 4.0053 - val_accuracy: 0.4167\n",
            "Epoch 9/10\n",
            "57/57 [==============================] - ETA: 0s - loss: 0.1357 - accuracy: 0.9496\n",
            "Epoch 00009: val_accuracy did not improve from 0.41667\n",
            "57/57 [==============================] - 32s 564ms/step - loss: 0.1357 - accuracy: 0.9496 - val_loss: 4.2537 - val_accuracy: 0.3333\n",
            "Epoch 10/10\n",
            "57/57 [==============================] - ETA: 0s - loss: 0.1951 - accuracy: 0.9430\n",
            "Epoch 00010: val_accuracy improved from 0.41667 to 0.45833, saving model to model.h5\n",
            "57/57 [==============================] - 37s 651ms/step - loss: 0.1951 - accuracy: 0.9430 - val_loss: 3.9813 - val_accuracy: 0.4583\n"
          ],
          "name": "stdout"
        }
      ]
    },
    {
      "cell_type": "code",
      "metadata": {
        "id": "5wEL_4vwl7Wp"
      },
      "source": [
        "model.load_weights('model.h5')\r\n",
        "test_pred = model.predict(test_input)"
      ],
      "execution_count": null,
      "outputs": []
    },
    {
      "cell_type": "code",
      "metadata": {
        "colab": {
          "base_uri": "https://localhost:8080/"
        },
        "id": "26fPPy6wmbHy",
        "outputId": "43f67689-4324-48b9-e10a-e58569faf20c"
      },
      "source": [
        "train_labels.shape"
      ],
      "execution_count": 30,
      "outputs": [
        {
          "output_type": "execute_result",
          "data": {
            "text/plain": [
              "(480, 5)"
            ]
          },
          "metadata": {
            "tags": []
          },
          "execution_count": 30
        }
      ]
    },
    {
      "cell_type": "code",
      "metadata": {
        "colab": {
          "base_uri": "https://localhost:8080/"
        },
        "id": "iCQ_stb4m_gI",
        "outputId": "b5c0fd8f-34e7-4ab0-af2a-7396a83fe9a4"
      },
      "source": [
        "test_pred"
      ],
      "execution_count": 24,
      "outputs": [
        {
          "output_type": "execute_result",
          "data": {
            "text/plain": [
              "array([[0.09998046, 0.1805445 , 0.2520294 , 0.17918935, 0.28825626],\n",
              "       [0.10101527, 0.16570438, 0.22587045, 0.1606261 , 0.34678385],\n",
              "       [0.11741017, 0.15628521, 0.28891724, 0.20571911, 0.23166823],\n",
              "       [0.13208771, 0.17883368, 0.2823318 , 0.19723485, 0.20951195],\n",
              "       [0.12021708, 0.17642146, 0.2722318 , 0.18669635, 0.24443333],\n",
              "       [0.1388501 , 0.16471231, 0.2803631 , 0.19566241, 0.22041206],\n",
              "       [0.1001479 , 0.16096562, 0.2761348 , 0.2010278 , 0.26172388],\n",
              "       [0.10448053, 0.13518941, 0.27701324, 0.2221004 , 0.2612164 ],\n",
              "       [0.13348621, 0.16104063, 0.29138276, 0.19310567, 0.22098467],\n",
              "       [0.13724664, 0.16818418, 0.3102739 , 0.19411135, 0.19018394],\n",
              "       [0.11226063, 0.18066926, 0.30572274, 0.18603393, 0.21531339],\n",
              "       [0.10644772, 0.152344  , 0.27462938, 0.17862922, 0.28794968],\n",
              "       [0.12546329, 0.19720966, 0.28102323, 0.17912908, 0.21717475],\n",
              "       [0.11952727, 0.18626414, 0.26675895, 0.16571304, 0.2617366 ],\n",
              "       [0.11227054, 0.17409152, 0.2285618 , 0.14513057, 0.33994555],\n",
              "       [0.10104065, 0.17286801, 0.26204306, 0.16010498, 0.30394337],\n",
              "       [0.10803649, 0.17452379, 0.29091483, 0.18283856, 0.24368636],\n",
              "       [0.10885438, 0.17883186, 0.30325595, 0.1931232 , 0.21593459],\n",
              "       [0.10186408, 0.17037848, 0.28692982, 0.18394   , 0.2568876 ],\n",
              "       [0.12814932, 0.13681462, 0.282938  , 0.20048574, 0.25161237]],\n",
              "      dtype=float32)"
            ]
          },
          "metadata": {
            "tags": []
          },
          "execution_count": 24
        }
      ]
    },
    {
      "cell_type": "code",
      "metadata": {
        "id": "-IeTKX7ancQA"
      },
      "source": [
        ""
      ],
      "execution_count": 22,
      "outputs": []
    }
  ]
}