{
  "nbformat": 4,
  "nbformat_minor": 0,
  "metadata": {
    "colab": {
      "name": "reddit-praw-4004.ipynb",
      "provenance": [],
      "authorship_tag": "ABX9TyMQiInxuUnXicRMxrt1TteT",
      "include_colab_link": true
    },
    "kernelspec": {
      "name": "python3",
      "display_name": "Python 3"
    }
  },
  "cells": [
    {
      "cell_type": "markdown",
      "metadata": {
        "id": "view-in-github",
        "colab_type": "text"
      },
      "source": [
        "<a href=\"https://colab.research.google.com/github/Nikhileswar-Komati/Suicide_Ideation/blob/master/reddit_praw_4004.ipynb\" target=\"_parent\"><img src=\"https://colab.research.google.com/assets/colab-badge.svg\" alt=\"Open In Colab\"/></a>"
      ]
    },
    {
      "cell_type": "code",
      "metadata": {
        "colab": {
          "base_uri": "https://localhost:8080/"
        },
        "id": "4VMAAtLU85iY",
        "outputId": "fb48d0b5-6141-474f-c2ce-8a5f3b3a4cbe"
      },
      "source": [
        "pip install praw"
      ],
      "execution_count": 24,
      "outputs": [
        {
          "output_type": "stream",
          "text": [
            "Requirement already satisfied: praw in /usr/local/lib/python3.6/dist-packages (7.1.0)\n",
            "Requirement already satisfied: websocket-client>=0.54.0 in /usr/local/lib/python3.6/dist-packages (from praw) (0.57.0)\n",
            "Requirement already satisfied: prawcore<2.0,>=1.3.0 in /usr/local/lib/python3.6/dist-packages (from praw) (1.5.0)\n",
            "Requirement already satisfied: update-checker>=0.17 in /usr/local/lib/python3.6/dist-packages (from praw) (0.18.0)\n",
            "Requirement already satisfied: six in /usr/local/lib/python3.6/dist-packages (from websocket-client>=0.54.0->praw) (1.15.0)\n",
            "Requirement already satisfied: requests<3.0,>=2.6.0 in /usr/local/lib/python3.6/dist-packages (from prawcore<2.0,>=1.3.0->praw) (2.23.0)\n",
            "Requirement already satisfied: chardet<4,>=3.0.2 in /usr/local/lib/python3.6/dist-packages (from requests<3.0,>=2.6.0->prawcore<2.0,>=1.3.0->praw) (3.0.4)\n",
            "Requirement already satisfied: idna<3,>=2.5 in /usr/local/lib/python3.6/dist-packages (from requests<3.0,>=2.6.0->prawcore<2.0,>=1.3.0->praw) (2.10)\n",
            "Requirement already satisfied: certifi>=2017.4.17 in /usr/local/lib/python3.6/dist-packages (from requests<3.0,>=2.6.0->prawcore<2.0,>=1.3.0->praw) (2020.12.5)\n",
            "Requirement already satisfied: urllib3!=1.25.0,!=1.25.1,<1.26,>=1.21.1 in /usr/local/lib/python3.6/dist-packages (from requests<3.0,>=2.6.0->prawcore<2.0,>=1.3.0->praw) (1.24.3)\n"
          ],
          "name": "stdout"
        }
      ]
    },
    {
      "cell_type": "code",
      "metadata": {
        "id": "1YeaU7Kd9C28"
      },
      "source": [
        "import praw\r\n",
        "import pandas as pd"
      ],
      "execution_count": 25,
      "outputs": []
    },
    {
      "cell_type": "code",
      "metadata": {
        "id": "n1jTCMdJ9KwM"
      },
      "source": [
        "reddit = praw.Reddit(client_id = 'd6ptQPA56di7jw', client_secret = 'TuvBew0sNjgPqh60L9TGwaR6FTdRuQ', user_agent = 'Reddit Scraping')"
      ],
      "execution_count": 26,
      "outputs": []
    },
    {
      "cell_type": "code",
      "metadata": {
        "id": "Zngr9h2k-a_w"
      },
      "source": [
        "suicide_watch_list = []\r\n",
        "hot_posts = reddit.subreddit('SuicideWatch').hot(limit = 20000)\r\n",
        "new_posts = reddit.subreddit('SuicideWatch').new(limit = 20000)\r\n",
        "top_posts = reddit.subreddit('SuicideWatch').top(limit = 20000)\r\n",
        "for post in hot_posts:\r\n",
        "  suicide_watch_list.append([post.title, post.id, post.subreddit, post.selftext])\r\n",
        "for post in new_posts:\r\n",
        "  suicide_watch_list.append([post.title, post.id, post.subreddit, post.selftext])\r\n",
        "for post in top_posts:\r\n",
        "  suicide_watch_list.append([post.title, post.id, post.subreddit, post.selftext])"
      ],
      "execution_count": 27,
      "outputs": []
    },
    {
      "cell_type": "code",
      "metadata": {
        "id": "t0-1oPtWJwHG"
      },
      "source": [
        "hot_posts = reddit.subreddit('depression').hot(limit = 200000)\r\n",
        "new_posts = reddit.subreddit('depression').new(limit = 200000)\r\n",
        "top_posts = reddit.subreddit('depression').top(limit = 20000)\r\n",
        "for post in hot_posts:\r\n",
        "  suicide_watch_list.append([post.title, post.id, post.subreddit, post.selftext])\r\n",
        "for post in new_posts:\r\n",
        "  suicide_watch_list.append([post.title, post.id, post.subreddit, post.selftext])\r\n",
        "for post in top_posts:\r\n",
        "  suicide_watch_list.append([post.title, post.id, post.subreddit, post.selftext])\r\n",
        "suicide_watch_dataframe = pd.DataFrame(suicide_watch_list, columns = ['title', 'id', 'subreddit', 'body'])"
      ],
      "execution_count": 28,
      "outputs": []
    },
    {
      "cell_type": "code",
      "metadata": {
        "colab": {
          "base_uri": "https://localhost:8080/"
        },
        "id": "yJf8bnfILtxf",
        "outputId": "761a8109-481c-48c3-c11f-d1f80fb127c8"
      },
      "source": [
        "suicide_watch_dataframe.shape"
      ],
      "execution_count": 29,
      "outputs": [
        {
          "output_type": "execute_result",
          "data": {
            "text/plain": [
              "(5895, 4)"
            ]
          },
          "metadata": {
            "tags": []
          },
          "execution_count": 29
        }
      ]
    },
    {
      "cell_type": "code",
      "metadata": {
        "colab": {
          "base_uri": "https://localhost:8080/"
        },
        "id": "jSab72LXof9_",
        "outputId": "7c7fa801-6cce-4696-df10-47459b464967"
      },
      "source": [
        "suicide_watch_dataframe['id'].unique().shape"
      ],
      "execution_count": 30,
      "outputs": [
        {
          "output_type": "execute_result",
          "data": {
            "text/plain": [
              "(4004,)"
            ]
          },
          "metadata": {
            "tags": []
          },
          "execution_count": 30
        }
      ]
    },
    {
      "cell_type": "code",
      "metadata": {
        "colab": {
          "base_uri": "https://localhost:8080/"
        },
        "id": "EtJ3PtIv1LCz",
        "outputId": "11513fb2-64db-44b5-c206-d8019cdf780a"
      },
      "source": [
        "suicide_watch_dataframe['subreddit'].value_counts()"
      ],
      "execution_count": 31,
      "outputs": [
        {
          "output_type": "execute_result",
          "data": {
            "text/plain": [
              "SuicideWatch    2973\n",
              "depression      2922\n",
              "Name: subreddit, dtype: int64"
            ]
          },
          "metadata": {
            "tags": []
          },
          "execution_count": 31
        }
      ]
    },
    {
      "cell_type": "code",
      "metadata": {
        "colab": {
          "base_uri": "https://localhost:8080/"
        },
        "id": "WSUXzBTBqrkU",
        "outputId": "546737b3-d6bb-48a8-bec0-046333c64382"
      },
      "source": [
        "suicide_watch_dataframe.drop_duplicates(inplace = True)\r\n",
        "suicide_watch_dataframe.shape"
      ],
      "execution_count": 32,
      "outputs": [
        {
          "output_type": "execute_result",
          "data": {
            "text/plain": [
              "(4004, 4)"
            ]
          },
          "metadata": {
            "tags": []
          },
          "execution_count": 32
        }
      ]
    },
    {
      "cell_type": "code",
      "metadata": {
        "id": "C5PQNTiNCdao"
      },
      "source": [
        "suicide_watch_dataframe.to_csv('Suicide_Watch_PRAW_4004.csv', index = False)"
      ],
      "execution_count": 33,
      "outputs": []
    }
  ]
}